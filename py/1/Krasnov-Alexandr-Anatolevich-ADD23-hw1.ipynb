{
 "cells": [
  {
   "cell_type": "markdown",
   "metadata": {},
   "source": [
    "# Домашнее задание 1 (Краснов Александр - АДД32)\n",
    "\n",
    "tg: [@mr_krax](https://telegram.me/mr_krax)  \n",
    "email: alankrasnov@edu.hse.ru\n",
    "\n",
    "----"
   ]
  },
  {
   "cell_type": "markdown",
   "metadata": {},
   "source": [
    "### 1. Даны два отсортированных списка, соедините их в один отсортированный список за минимальное возможное кол-во операций\n",
    "\n",
    "\n",
    "    Входные данные: [1,2,3], [3,4,5]\n",
    "    Выходные данные: [1,2,3,3,4,5]\n",
    "\n",
    "    Входные данные: [1,1,1], [1,40,50]\n",
    "    Выходные данные: [1,1,1,1,40,50]"
   ]
  },
  {
   "cell_type": "code",
   "execution_count": 215,
   "metadata": {},
   "outputs": [],
   "source": [
    "def run_tests(func, test_set):\n",
    "  for test_id, test in test_set.items():\n",
    "    res = func(*test['in'])\n",
    "    expected = test['expected']\n",
    "    assert res == expected, f'test \"{test_id}\" failed:\\n res = {res},\\n expected = {expected}'\n",
    "  \n",
    "  print('OK')\n"
   ]
  },
  {
   "cell_type": "code",
   "execution_count": 214,
   "metadata": {},
   "outputs": [
    {
     "name": "stdout",
     "output_type": "stream",
     "text": [
      "OK\n"
     ]
    }
   ],
   "source": [
    "def join_sorted(l_1: list, l_2: list):\n",
    "  res = []\n",
    "  while (l_1 and l_2):\n",
    "      if l_1[0] < l_2[0]:\n",
    "          res.append(l_1.pop(0))\n",
    "      else:\n",
    "          res.append(l_2.pop(0))\n",
    "  res.extend(l_1 if l_1 else l_2)\n",
    "  return res\n",
    "\n",
    "\n",
    "test_set = {\n",
    "    'test_1': {'in': [[1, 2, 3], [3, 4, 5]],\n",
    "               'expected': [1, 2, 3, 3, 4, 5]},\n",
    "    'test_2': {'in': [[1, 1, 1], [1, 40, 50]],\n",
    "               'expected': [1, 1, 1, 1, 40, 50]}}\n",
    "\n",
    "run_tests(join_sorted, test_set)\n"
   ]
  },
  {
   "cell_type": "markdown",
   "metadata": {},
   "source": [
    "### 2. Дано натуральное число, что может означать зашифрованное им сообщение\n",
    "\n",
    "\n",
    "Дано натуральное число которое означает последовательность цифр, набранных на кнопочном телефоне (печатали короткую СМСку на русском/английском языке, как вам удобнее). Вывести все варианты того, что может введенная последовательность означать.\n",
    "\n",
    "    Входные данные: digits = \"23\"\n",
    "    Выходные данные: [\"ad\",\"ae\",\"af\",\"bd\",\"be\",\"bf\",\"cd\",\"ce\",\"cf\"]\n",
    "\n",
    "+ усложнение (опциональное). Попробуйте расшифровать наиболее вероятные введенные слова (вопросы можно задавать)"
   ]
  },
  {
   "cell_type": "code",
   "execution_count": 213,
   "metadata": {},
   "outputs": [
    {
     "name": "stdout",
     "output_type": "stream",
     "text": [
      "OK\n"
     ]
    }
   ],
   "source": [
    "def gen_comb(digits: str):\n",
    "    letters_by_digit = {'2': 'abc', '3': 'def', '4': 'ghi', '5': 'jkl',\n",
    "                        '6': 'mno', '7': 'pqrs', '8': 'tuv', '9': 'wxyz'}\n",
    "    res = letters_by_digit[digits[0]]\n",
    "\n",
    "    for d in digits[1:]:\n",
    "      letters = letters_by_digit[d]\n",
    "      res = [r + l for r in res for l in letters]\n",
    "    return res\n",
    "\n",
    "\n",
    "test_set = {\n",
    "    'test_1': {'in': [\"23\"],\n",
    "               'expected': [\"ad\", \"ae\", \"af\", \"bd\", \"be\", \"bf\", \"cd\", \"ce\", \"cf\"]}}\n",
    "\n",
    "run_tests(gen_comb, test_set)\n"
   ]
  },
  {
   "cell_type": "markdown",
   "metadata": {},
   "source": [
    "### 3. На вход принимается число N.  Выведите на печать следующий паттерн:\n",
    "\n",
    "1\n",
    "\n",
    "1 2\n",
    "\n",
    "1 2 3\n",
    "\n",
    "1 2 3 4\n",
    "\n",
    "...\n",
    "\n",
    "1 ... N"
   ]
  },
  {
   "cell_type": "code",
   "execution_count": 212,
   "metadata": {},
   "outputs": [
    {
     "name": "stdout",
     "output_type": "stream",
     "text": [
      "1\n",
      "1 2\n",
      "1 2 3\n",
      "1\n",
      "1 2\n",
      "1 2 3\n",
      "1 2 3 4\n",
      "1 2 3 4 5\n",
      "1 2 3 4 5 6\n",
      "1 2 3 4 5 6 7\n",
      "1 2 3 4 5 6 7 8\n",
      "1 2 3 4 5 6 7 8 9\n",
      "1 2 3 4 5 6 7 8 9 10\n"
     ]
    }
   ],
   "source": [
    "def print_stairs(n: int):\n",
    "  line = \"\"\n",
    "  for i in range(1, n+1):\n",
    "    line += f'{i} '\n",
    "    print(line[:-1])\n",
    "    \n",
    "print_stairs(3)\n",
    "print_stairs(10)"
   ]
  },
  {
   "cell_type": "markdown",
   "metadata": {},
   "source": [
    "### 4. Посчитать среднюю метрику X-DSPAM-Confidence для письма. \n",
    "### (Кажется, это что-то похожее на вероятность того, что письмо - не спам)\n",
    "\n",
    "Воспользуйтесь предыдущим кодом, достаньте те строчки, где эта метрика записана и подсчитайте ее среднее значение"
   ]
  },
  {
   "cell_type": "code",
   "execution_count": 210,
   "metadata": {},
   "outputs": [],
   "source": [
    "\n",
    "import re\n",
    "import requests\n",
    "mbox = requests.get('http://www.py4inf.com/code/mbox.txt').text\n"
   ]
  },
  {
   "cell_type": "code",
   "execution_count": 211,
   "metadata": {},
   "outputs": [
    {
     "name": "stdout",
     "output_type": "stream",
     "text": [
      "X-DSPAM-Confidence (mean): 0.8941280467445736\n"
     ]
    }
   ],
   "source": [
    "\n",
    "pattern = re.compile(r'X-DSPAM-Confidence: (.*)\\n')\n",
    "metrics = [float(m) for m in re.findall(pattern, mbox)]\n",
    "mean_value = sum(metrics) / len(metrics)\n",
    "print('X-DSPAM-Confidence (mean):', mean_value)"
   ]
  },
  {
   "cell_type": "markdown",
   "metadata": {},
   "source": [
    "### 5. Объединение словарей\n",
    "\n",
    "Напишите программу, которая подсчитывает значения из произвольного списка словарей следующего вида.\n",
    "\n",
    "Ввод:\n",
    "\n",
    "    shops = [{'товар': 'яблоки', 'количество': 400}, {'товар': 'конфеты', 'количество': 300}, {'товар': 'яблоки', 'количество': 750}]\n",
    "\n",
    "\n",
    "Вывод:\n",
    "\n",
    "    {'яблоки': 1150, 'конфеты': 300}"
   ]
  },
  {
   "cell_type": "code",
   "execution_count": 209,
   "metadata": {},
   "outputs": [
    {
     "name": "stdout",
     "output_type": "stream",
     "text": [
      "OK\n"
     ]
    }
   ],
   "source": [
    "def sum_up(records: list):\n",
    "  res = {}\n",
    "  for rec in records:\n",
    "    name = rec['товар']\n",
    "    val = rec['количество']\n",
    "    res[name] = (res.get(name) or 0) + val\n",
    "  return res\n",
    "\n",
    "\n",
    "test_set = {\n",
    "    'test_1': {'in': [[{'товар': 'яблоки', 'количество': 400},\n",
    "                       {'товар': 'конфеты', 'количество': 300},\n",
    "                       {'товар': 'яблоки', 'количество': 750}]],\n",
    "               'expected': {'яблоки': 1150, 'конфеты': 300}}}\n",
    "\n",
    "run_tests(sum_up, test_set)\n"
   ]
  },
  {
   "cell_type": "markdown",
   "metadata": {},
   "source": [
    "### 6. Про Поросёнка Петра\n",
    "\n",
    "На плоскости в точке (0,0) стоит Поросёнок Пётр. Он умеет ходить налево, направо, вверх и вниз. Расстояние его прохода в какую-либо сторону измеряется в шагах. Когда он идет вправо, его первая координата увеличивается, когда влево - уменьшается. Когда он идет вверх, его вторая координата увеличивается, а когда вниз - уменьшается. \n",
    "\n",
    "С клавиатуры считывается число N - число ходов, которые сделает Пётр. После чего на каждом шаге спрашивается, сколько шагов и в какую сторону за этот ход Пётр сделает. Так происходит, пока Пётр не осуществит все N ходов.\n",
    "\n",
    "Программа должна вывести, сколько шагов Пётр должен был бы сделать, чтобы кратчайшим путем прибыть из свое начальной точки (0,0) в свою конечную точку. Напоминание: Пётр умеет ходить только вверх-вниз, и влево-вправо, но не по диагонали.\n",
    "\n",
    "Пример ввода: \n",
    "\n",
    "    Введите N: 3\n",
    "    Ход 1: Вверх 1\n",
    "    Ход 2: Вниз 1\n",
    "    Ход 3: Вверх 1\n",
    "    \n",
    "Пример вывода:\n",
    "\n",
    "    Пётр находится на расстоянии 1 от (0,0)"
   ]
  },
  {
   "cell_type": "code",
   "execution_count": 208,
   "metadata": {},
   "outputs": [
    {
     "name": "stdout",
     "output_type": "stream",
     "text": [
      "OK\n"
     ]
    }
   ],
   "source": [
    "def min_route(commands: list):\n",
    "  x, y = 0, 0\n",
    "  for c in commands:\n",
    "    dr, len = c.split(' ')\n",
    "    len = int(len)\n",
    "    if dr == 'Вверх':\n",
    "      y += len\n",
    "    elif dr == 'Вниз':\n",
    "      y -= len\n",
    "    elif dr == 'Вправо':\n",
    "      x += len\n",
    "    elif dr == 'Влево':\n",
    "      x -= len\n",
    "  return abs(x)+abs(y)\n",
    "\n",
    "\n",
    "test_set = {\n",
    "    'test_1': {'in': [['Вверх 1', 'Вниз 1', 'Вверх 1']],\n",
    "               'expected': 1},\n",
    "    'test_2': {'in': [['Вверх 1', 'Вниз 3', 'Влево 1', 'Вправо 3']],\n",
    "               'expected': 4}}\n",
    "\n",
    "run_tests(min_route, test_set)\n"
   ]
  },
  {
   "cell_type": "markdown",
   "metadata": {},
   "source": [
    "### 7. Camel Case to snake case\n",
    "\n",
    "Мы уже довольно много говорили про то, что в компаниях могут быть конвенции по обозначению переменных. Что, если вы написали код, а в нем переменные названы в Camel Case а вам требуется snake case? Пожалуй, стоит автоматизировать этот процесс. Напишите функцию, которая переводит название в camel case в название в snake case"
   ]
  },
  {
   "cell_type": "code",
   "execution_count": 207,
   "metadata": {},
   "outputs": [
    {
     "name": "stdout",
     "output_type": "stream",
     "text": [
      "OK\n"
     ]
    }
   ],
   "source": [
    "# Camel case to snake case\n",
    "import re\n",
    "\n",
    "\n",
    "def camel_to_snake(text: str):\n",
    "  res = re.compile('(.)([A-Z][a-z]+)').sub(r'\\1_\\2', text)\n",
    "  res = re.compile('([a-z0-9])([A-Z])').sub(r'\\1_\\2', res).lower()\n",
    "  return res.lower()\n",
    "\n",
    "\n",
    "test_set = {\n",
    "    'test_1': {'in': ['camelCaseVar'],\n",
    "               'expected': 'camel_case_var'},\n",
    "    'test_2': {'in': ['newCDCTopicConsumer'],\n",
    "               'expected': 'new_cdc_topic_consumer'}}\n",
    "\n",
    "run_tests(camel_to_snake, test_set)\n"
   ]
  },
  {
   "cell_type": "markdown",
   "metadata": {},
   "source": [
    "### 8. Про время (время неистово гуглить)\n",
    "Вовочка подготовил одно очень важное письмо, но везде указал неправильное время. \n",
    "Поэтому нужно заменить все вхождения времени на строку (TBD). Время — это строка вида HH:MM:SS или HH:MM, в которой HH — число от 00 до 23, а MM и SS — число от 00 до 59."
   ]
  },
  {
   "cell_type": "markdown",
   "metadata": {},
   "source": [
    "Ввод:\n",
    "\n",
    "    Уважаемые! Если вы к 09:00 не вернёте \n",
    "    чемодан, то уже в 09:00:01 я за себя не отвечаю. \n",
    "    PS. С отношением 25:50 всё нормально!\n",
    "    \n",
    "Вывод:\n",
    "\n",
    "    Уважаемые! Если вы к (TBD) не вернёте \n",
    "    чемодан, то уже в (TBD) я за себя не отвечаю. \n",
    "    PS. С отношением 25:50 всё нормально!"
   ]
  },
  {
   "cell_type": "code",
   "execution_count": 206,
   "metadata": {},
   "outputs": [
    {
     "name": "stdout",
     "output_type": "stream",
     "text": [
      "OK\n"
     ]
    }
   ],
   "source": [
    "def del_time(text: str):\n",
    "  r = '([0-1][0-9]|2[0-3]):([0-5][0-9])(:[0-5][0-9])?'\n",
    "  res = re.compile(r).sub('(TBD)', text)\n",
    "  return res\n",
    "\n",
    "\n",
    "inp = \"\"\"Уважаемые! Если вы к 09:00 не вернёте \n",
    "чемодан, то уже в 09:00:01 я за себя не отвечаю. \n",
    "PS. С отношением 25:50 всё нормально!\"\"\"\n",
    "\n",
    "expected = \"\"\"Уважаемые! Если вы к (TBD) не вернёте \n",
    "чемодан, то уже в (TBD) я за себя не отвечаю. \n",
    "PS. С отношением 25:50 всё нормально!\"\"\"\n",
    "\n",
    "test_set = {'test_1': {'in': [inp], 'expected': expected}}\n",
    "run_tests(del_time, test_set)\n"
   ]
  },
  {
   "cell_type": "markdown",
   "metadata": {},
   "source": [
    "### 9. Про финансовую отчетность (время неистово гуглить)\n",
    "\n",
    "Владимиру потребовалось срочно запутать финансовую документацию. Но так, чтобы это было обратимо. \n",
    "Он не придумал ничего лучше, чем заменить каждое целое число (непрерывную последовательность цифр) на его куб. Помогите ему.\n",
    "\n",
    "Ввод:\n",
    "\n",
    "    Было закуплено 12 единиц техники \n",
    "    по 410.37 рублей.\n",
    "    \n",
    "Вывод:\n",
    "\n",
    "    Было закуплено 1728 единиц техники \n",
    "    по 68921000.50653 рублей."
   ]
  },
  {
   "cell_type": "code",
   "execution_count": 205,
   "metadata": {},
   "outputs": [
    {
     "name": "stdout",
     "output_type": "stream",
     "text": [
      "OK\n"
     ]
    }
   ],
   "source": [
    "def falsify_report_2(text: str):\n",
    "  \"\"\"Not just Integers but also Floats\"\"\"\n",
    "  r = r'(\\d+(\\.\\d+)?)'\n",
    "  def s(match: re.Match): \n",
    "    if match.groups()[1] == None :\n",
    "      return f'{int(match.group()) ** 3}'\n",
    "    return f'{float(match.group()) ** 3}'\n",
    "  res = re.sub(r, s, text)\n",
    "  return res\n",
    "\n",
    "def falsify_report(text: str):\n",
    "  res = re.sub('\\d+', lambda x: f'{int(x.group()) ** 3}', text)\n",
    "  return res\n",
    "\n",
    "inp = \"\"\"Было закуплено 12 единиц техники по 410.37 рублей.\"\"\"\n",
    "expected = \"\"\"Было закуплено 1728 единиц техники по 68921000.50653 рублей.\"\"\"\n",
    "\n",
    "test_set = {'test_1': {'in': [inp], 'expected': expected}}\n",
    "run_tests(falsify_report, test_set)\n"
   ]
  },
  {
   "cell_type": "markdown",
   "metadata": {},
   "source": [
    "### 10. Проверим закон Ципфа\n",
    "\n",
    "В 1935, лингвист Джордж Ципф отметил, что в любом большом тексте *n*-тое наиболее часто встречающееся слово появляется с частотой  ~ 1/*n* от частоты наиболее часто встречающегося слова. Это наблюдение получило название *Закона Ципфа*, несмотря на то, что Феликс Ауэрбах заметил это еще в 1913 году.  Если нарисовать частоты слов в произвольном тексте, начиная от самого часто встречающегося, на log-log-графике, они должны приблизительно следовать прямой линии, если закон Ципфа верен.  Проверьте это :) В качестве примера текста предлагается Идиот Достоевского."
   ]
  },
  {
   "cell_type": "code",
   "execution_count": 203,
   "metadata": {},
   "outputs": [],
   "source": [
    "import re\n",
    "import requests\n",
    "\n",
    "the_idiot_url = 'https://www.gutenberg.org/cache/epub/2638/pg2638-images.html'\n",
    "raw = requests.get(the_idiot_url)\n",
    "txt = raw.text\n",
    "\n",
    "# Индекс начала первой главы\n",
    "start = re.search(r'Towards the end of November', txt).start()\n",
    "# Индекс конца первой главы\n",
    "end = re.search(r'to take a droshky', txt).end()\n",
    "start, end\n",
    "\n",
    "# clear all html tags\n",
    "txt = re.sub(r'(<([^>]+)>)', '', txt)"
   ]
  },
  {
   "cell_type": "code",
   "execution_count": 191,
   "metadata": {},
   "outputs": [
    {
     "name": "stdout",
     "output_type": "stream",
     "text": [
      "The most frequent word: \"the\"\n"
     ]
    }
   ],
   "source": [
    "pattern = re.compile(\"[a-zA-Z]+\")\n",
    "freq_by_word = {}\n",
    "for word in re.findall(pattern, txt[start:end]):\n",
    "  w = word.lower()\n",
    "  freq_by_word[w] = freq_by_word.setdefault(w, 0) + 1\n",
    "freq_by_word = sorted(freq_by_word.items(),\n",
    "                      key=lambda item: item[1], reverse=True)\n",
    "\n",
    "most_freq_w = freq_by_word[0]\n",
    "print(f'The most frequent word: \"{most_freq_w[0]}\"')\n"
   ]
  },
  {
   "cell_type": "code",
   "execution_count": 204,
   "metadata": {},
   "outputs": [
    {
     "data": {
      "image/png": "[encoded data removed]",
      "text/plain": [
       "<Figure size 640x480 with 1 Axes>"
      ]
     },
     "metadata": {},
     "output_type": "display_data"
    }
   ],
   "source": [
    "import matplotlib.pyplot as plt\n",
    "\n",
    "plt.xscale('log')\n",
    "plt.yscale('log')\n",
    "plt.xlabel('Log(n)')\n",
    "plt.ylabel('Log(count)')\n",
    "plt.plot([most_freq_w[1] / i for i in range(1, len(freq_by_word) + 1)])\n",
    "plt.plot([w[1] for w in freq_by_word])\n",
    "plt.title('Zipf\\'s law check')\n",
    "plt.legend(['Zipf\\'s law', 'Actual frequency'])\n",
    "plt.show()\n"
   ]
  },
  {
   "cell_type": "markdown",
   "metadata": {},
   "source": [
    "![](https://media.tenor.com/vje7Bbd41DMAAAAd/elmo-door.gif)"
   ]
  },
  {
   "cell_type": "markdown",
   "metadata": {},
   "source": []
  }
 ],
 "metadata": {
  "kernelspec": {
   "display_name": "Python 3",
   "language": "python",
   "name": "python3"
  },
  "language_info": {
   "codemirror_mode": {
    "name": "ipython",
    "version": 3
   },
   "file_extension": ".py",
   "mimetype": "text/x-python",
   "name": "python",
   "nbconvert_exporter": "python",
   "pygments_lexer": "ipython3",
   "version": "3.11.5"
  }
 },
 "nbformat": 4,
 "nbformat_minor": 4
}
