{
  "cells": [
    {
      "cell_type": "markdown",
      "metadata": {
        "id": "LTlmjXExP75I"
      },
      "source": [
        "# Машинное обучение, ФКН ВШЭ\n",
        "\n",
        "## Практическое задание 4. Классификация"
      ]
    },
    {
      "cell_type": "markdown",
      "metadata": {
        "id": "kH11bAAV2SoV"
      },
      "source": [
        "### Общая информация\n",
        "Дата выдачи: 09.11.2023\n",
        "\n",
        "Мягкий дедлайн: 22.11.2023\n",
        "\n",
        "Жесткий дедлайн: 26.11.2023"
      ]
    },
    {
      "cell_type": "markdown",
      "metadata": {
        "id": "iWjJuhqS3Ucc"
      },
      "source": [
        "### О задании\n",
        "\n",
        "В этом задании вы:\n",
        "- ознакомитесь с тем, что происходит \"внутри\" метода опорных векторов и логистической регрессии\n",
        "- познакомитесь с калибровкой вероятности\n",
        "- изучите методы трансформации переменных и методы отбора признаков\n",
        "- попробуете оценить экономический эффект модели\n",
        "\n",
        "----\n",
        "\n",
        "#### Самостоятельная оценка результатов\n",
        "\n",
        "Для удобства проверки, исходя из набора решенных задач, посчитайте свою максимальную оценку.\n",
        "\n",
        "**Оценка**:"
      ]
    },
    {
      "cell_type": "markdown",
      "metadata": {
        "id": "Or0r6z5v1Mmt"
      },
      "source": [
        "### Оценивание и штрафы"
      ]
    },
    {
      "cell_type": "markdown",
      "metadata": {
        "id": "CecLXG_w3zs0"
      },
      "source": [
        "Каждая из задач имеет определенную «стоимость» (указана в скобках около задачи). Максимально допустимая оценка за работу — 10 баллов.\n",
        "\n",
        "Сдавать задание после указанного жёсткого дедлайна нельзя. При выставлении неполного балла за задание в связи с наличием ошибок на усмотрение проверяющего предусмотрена возможность исправить работу на указанных в ответном письме условиях.\n",
        "\n",
        "Задание выполняется самостоятельно. «Похожие» решения считаются плагиатом и все задействованные студенты (в том числе те, у кого списали) не могут получить за него больше 0 баллов (подробнее о плагиате см. на странице курса). Если вы нашли решение какого-то из заданий (или его часть) в открытом источнике, необходимо указать ссылку на этот источник в отдельном блоке в конце вашей работы (скорее всего вы будете не единственным, кто это нашел, поэтому чтобы исключить подозрение в плагиате, необходима ссылка на источник).\n",
        "\n",
        "Неэффективная реализация кода может негативно отразиться на оценке."
      ]
    },
    {
      "cell_type": "markdown",
      "metadata": {
        "id": "eMwMhTpA1MwR"
      },
      "source": [
        "### Формат сдачи"
      ]
    },
    {
      "cell_type": "markdown",
      "metadata": {
        "id": "O5qs8FC_35h7"
      },
      "source": [
        "Для сдачи задания переименуйте получившийся файл *.ipynb в соответствии со следующим форматом: homework-practice-04-linclass-__Username__.ipynb, где Username — ваша фамилия и имя на латинице именно в таком порядке (например, homework-practice-04-linclass-__IvanovIvan__.ipynb)."
      ]
    },
    {
      "cell_type": "markdown",
      "metadata": {
        "id": "KGWDDNDyP75O"
      },
      "source": [
        "# Часть 1. SVM, LR и калибровка вероятностей (2 балла + 0.5 бонус)"
      ]
    },
    {
      "cell_type": "code",
      "execution_count": 415,
      "metadata": {
        "id": "KyqoX1BNP75N"
      },
      "outputs": [],
      "source": [
        "import numpy as np\n",
        "import pandas as pd\n",
        "import matplotlib.pyplot as plt\n",
        "%matplotlib inline\n",
        "\n",
        "pd.set_option('display.max_rows', 100)\n",
        "pd.set_option('display.max_columns', 100)"
      ]
    },
    {
      "cell_type": "markdown",
      "metadata": {
        "id": "xvhLtt4OP75Q"
      },
      "source": [
        "#### __Задание 1.1  Сравнение методов__ (0.5 балла)\n",
        "\n"
      ]
    },
    {
      "cell_type": "markdown",
      "metadata": {
        "id": "LZw2aOq9P75O"
      },
      "source": [
        "Сгенерируем синтетические данные."
      ]
    },
    {
      "cell_type": "code",
      "execution_count": 416,
      "metadata": {
        "id": "mqkczFrQP75P"
      },
      "outputs": [],
      "source": [
        "from sklearn.datasets import make_classification\n",
        "from sklearn.model_selection import train_test_split\n",
        "\n",
        "# фиксируем random_state для воспроизводимости результатов\n",
        "X_col, y = make_classification(\n",
        "    n_samples=10000, n_features=10, n_informative=5, n_redundant=5, random_state=42)\n",
        "\n",
        "X_train, X_test, y_train, y_test = train_test_split(\n",
        "    X_col, y, test_size=0.3, random_state=42)"
      ]
    },
    {
      "cell_type": "markdown",
      "metadata": {
        "id": "BdPx-lQbtaRe"
      },
      "source": [
        "__Случайный классификатор__\n",
        "\n",
        "Для начала зададим самую простую модель, которая на каждом объекте выдаёт случайный ответ. По тестовой выборке вычислим AUC-ROC, AUC-PR."
      ]
    },
    {
      "cell_type": "code",
      "execution_count": 417,
      "metadata": {
        "colab": {
          "base_uri": "https://localhost:8080/"
        },
        "id": "5gcSglAOjVn-",
        "outputId": "ab22188b-7c7f-4718-ebdd-82959d1a5366"
      },
      "outputs": [
        {
          "data": {
            "text/plain": [
              "array([0.5, 0.5, 0.5, ..., 0.5, 0.5, 0.5])"
            ]
          },
          "execution_count": 417,
          "metadata": {},
          "output_type": "execute_result"
        }
      ],
      "source": [
        "from sklearn.dummy import DummyClassifier\n",
        "random_classifier = DummyClassifier(strategy='uniform', random_state=42).fit(X_train, y_train)\n",
        "y_random = random_classifier.predict_proba(X_test)[:,1]\n",
        "y_random"
      ]
    },
    {
      "cell_type": "markdown",
      "metadata": {
        "id": "bUhBXPre7jNi"
      },
      "source": [
        "**Вопрос:** решаем задачу бинарной классификации, но y\\_random содержит какие-то дробные числа, а не 0/1. Почему?\n",
        "\n"
      ]
    },
    {
      "cell_type": "markdown",
      "metadata": {
        "id": "RpIDxyuHH1bt"
      },
      "source": [
        "---\n",
        "\n",
        "**Ответ**:\n",
        "\n",
        "```\n",
        "(method) def predict_proba(X: MatrixLike) -> (ndarray | list[ndarray])\n",
        "Return probability estimates for the test vectors X.\n",
        "```\n",
        "\n",
        "---"
      ]
    },
    {
      "cell_type": "markdown",
      "metadata": {
        "id": "LnmZFwEYDVqx"
      },
      "source": [
        "*Ниже приведен **пример** работы* со встроенными функциями `sklearn` для отрисовки ROC и PR кривых, сохранения метрик. Пайплайн можно изменять как вам удобно."
      ]
    },
    {
      "cell_type": "code",
      "execution_count": 418,
      "metadata": {
        "id": "gNJLhNj7DkLx"
      },
      "outputs": [],
      "source": [
        "from sklearn.metrics import auc\n",
        "from sklearn.metrics import average_precision_score\n",
        "from sklearn.metrics import precision_recall_curve\n",
        "from sklearn.metrics import PrecisionRecallDisplay\n",
        "\n",
        "from sklearn.metrics import roc_auc_score\n",
        "from sklearn.metrics import RocCurveDisplay"
      ]
    },
    {
      "cell_type": "code",
      "execution_count": 419,
      "metadata": {
        "colab": {
          "base_uri": "https://localhost:8080/",
          "height": 508
        },
        "id": "-WHELzN6_fsQ",
        "outputId": "3802dc04-1755-4865-f89a-1b2257210465"
      },
      "outputs": [
        {
          "name": "stdout",
          "output_type": "stream",
          "text": [
            "Random Classifier metrics\n",
            "AUC-PR: 0.75283\n",
            "AUC-ROC: 0.50000\n"
          ]
        },
        {
          "data": {
            "image/png": "[encoded data removed]",
            "text/plain": [
              "<Figure size 1100x500 with 2 Axes>"
            ]
          },
          "metadata": {},
          "output_type": "display_data"
        }
      ],
      "source": [
        "def depict_pr_roc(y_true, y_pred, classifier_name='Some Classifier', ax=None):\n",
        "  if ax is None:\n",
        "    fig, ax = plt.subplots(1, 2, figsize=(11, 5))\n",
        "\n",
        "  print(classifier_name, 'metrics')\n",
        "  PrecisionRecallDisplay.from_predictions(\n",
        "      y_true, y_pred, ax=ax[0], name=classifier_name)\n",
        "  precision, recall, _ = precision_recall_curve(y_true, y_pred)\n",
        "  print('AUC-PR: %.5f' % auc(recall, precision))\n",
        "  ax[0].set_title(\"PRC\")\n",
        "  ax[0].set_ylim(0, 1.1)\n",
        "\n",
        "  RocCurveDisplay.from_predictions(\n",
        "      y_true, y_pred, ax=ax[1], name=classifier_name)\n",
        "  print('AUC-ROC: %.5f' % roc_auc_score(y_true, y_pred))\n",
        "  ax[1].set_title(\"ROC\")\n",
        "  ax[1].set_ylim(0, 1.1)\n",
        "\n",
        "  plt.tight_layout()\n",
        "  plt.legend()\n",
        "\n",
        "\n",
        "depict_pr_roc(y_test, y_random, 'Random Classifier')"
      ]
    },
    {
      "cell_type": "code",
      "execution_count": 420,
      "metadata": {
        "colab": {
          "base_uri": "https://localhost:8080/",
          "height": 80
        },
        "id": "pSugCdAAEF2z",
        "outputId": "57b4d60f-1bc2-4137-ebf7-fd497eebd31f"
      },
      "outputs": [
        {
          "data": {
            "text/html": [
              "<div>\n",
              "<style scoped>\n",
              "    .dataframe tbody tr th:only-of-type {\n",
              "        vertical-align: middle;\n",
              "    }\n",
              "\n",
              "    .dataframe tbody tr th {\n",
              "        vertical-align: top;\n",
              "    }\n",
              "\n",
              "    .dataframe thead th {\n",
              "        text-align: right;\n",
              "    }\n",
              "</style>\n",
              "<table border=\"1\" class=\"dataframe\">\n",
              "  <thead>\n",
              "    <tr style=\"text-align: right;\">\n",
              "      <th></th>\n",
              "      <th>AUC_PR</th>\n",
              "      <th>AUC_ROC</th>\n",
              "      <th>reg_const</th>\n",
              "    </tr>\n",
              "  </thead>\n",
              "  <tbody>\n",
              "    <tr>\n",
              "      <th>Random Classifier</th>\n",
              "      <td>0.752833</td>\n",
              "      <td>0.5</td>\n",
              "      <td>0.0</td>\n",
              "    </tr>\n",
              "  </tbody>\n",
              "</table>\n",
              "</div>"
            ],
            "text/plain": [
              "                     AUC_PR  AUC_ROC  reg_const\n",
              "Random Classifier  0.752833      0.5        0.0"
            ]
          },
          "execution_count": 420,
          "metadata": {},
          "output_type": "execute_result"
        }
      ],
      "source": [
        "# dataframe для сравнения\n",
        "# методов классификации по метрикам\n",
        "df_metrics = pd.DataFrame(columns=['AUC_PR', 'AUC_ROC', 'reg_const'])\n",
        "precision, recall, _ = precision_recall_curve(y_test, y_random)\n",
        "  # добавление очередной строки с характеристиками метода\n",
        "df_metrics.loc['Random Classifier'] = [\n",
        "      auc(recall, precision),\n",
        "      roc_auc_score(y_test, y_random),\n",
        "      0\n",
        "]\n",
        "\n",
        "# по аналогии результаты следующих экспериментов можно будет собрать в табличку\n",
        "df_metrics"
      ]
    },
    {
      "cell_type": "markdown",
      "metadata": {
        "id": "9IwDobmQtW2P"
      },
      "source": [
        "__Support Vector Machine (Linear Kernel)__\n",
        "\n",
        "Обучите метод опорных векторов.\n",
        "\n",
        "На занятиях мы проходили линейный вариант без ядрового перехода, что соответствует линейному ядру (`LinearSVC` или же `SVC(kernel='linear')` в `sklearn.svm`).\n",
        "\n",
        "Подберите параметр регуляризации `C` с точки зрения AUC-PR (можете воспользоваться кросс-валидацией или отделить валидационную выборку от обучающей).\n"
      ]
    },
    {
      "cell_type": "code",
      "execution_count": 421,
      "metadata": {},
      "outputs": [],
      "source": [
        "from sklearn.metrics import precision_recall_curve, auc, make_scorer, roc_auc_score\n",
        "\n",
        "\n",
        "def pr_auc_score(y_true, y_prob):\n",
        "    precision, recall, _ = precision_recall_curve(y_true, y_prob)\n",
        "    return auc(recall, precision)\n",
        "\n",
        "\n",
        "def update_metrics(metrics: pd.DataFrame, y_test, y_pred, name: str):\n",
        "  # df_metrics = pd.DataFrame(columns=['AUC_PR', 'AUC_ROC', 'reg_const'])\n",
        "  \n",
        "  metrics.loc[name] = [\n",
        "      pr_auc_score(y_test, y_pred),\n",
        "      roc_auc_score(y_test, y_pred),\n",
        "      0\n",
        "  ]"
      ]
    },
    {
      "cell_type": "code",
      "execution_count": 422,
      "metadata": {},
      "outputs": [],
      "source": [
        "from sklearn.svm import SVC\n",
        "from sklearn.model_selection import GridSearchCV"
      ]
    },
    {
      "cell_type": "code",
      "execution_count": 423,
      "metadata": {
        "id": "eyjF-qc3P75Q"
      },
      "outputs": [
        {
          "name": "stdout",
          "output_type": "stream",
          "text": [
            "Fitting 5 folds for each of 6 candidates, totalling 30 fits\n",
            "[CV 1/5; 1/6] START C=0.0001....................................................\n"
          ]
        },
        {
          "name": "stdout",
          "output_type": "stream",
          "text": [
            "[CV 1/5; 1/6] END .....................C=0.0001;, score=0.828 total time=   4.7s\n",
            "[CV 2/5; 1/6] START C=0.0001....................................................\n",
            "[CV 2/5; 1/6] END .....................C=0.0001;, score=0.813 total time=   4.0s\n",
            "[CV 3/5; 1/6] START C=0.0001....................................................\n",
            "[CV 3/5; 1/6] END .....................C=0.0001;, score=0.845 total time=   3.9s\n",
            "[CV 4/5; 1/6] START C=0.0001....................................................\n",
            "[CV 4/5; 1/6] END .....................C=0.0001;, score=0.820 total time=   3.9s\n",
            "[CV 5/5; 1/6] START C=0.0001....................................................\n",
            "[CV 5/5; 1/6] END .....................C=0.0001;, score=0.832 total time=   4.0s\n",
            "[CV 1/5; 2/6] START C=0.001.....................................................\n",
            "[CV 1/5; 2/6] END ......................C=0.001;, score=0.814 total time=   3.0s\n",
            "[CV 2/5; 2/6] START C=0.001.....................................................\n",
            "[CV 2/5; 2/6] END ......................C=0.001;, score=0.809 total time=   3.2s\n",
            "[CV 3/5; 2/6] START C=0.001.....................................................\n",
            "[CV 3/5; 2/6] END ......................C=0.001;, score=0.830 total time=   3.1s\n",
            "[CV 4/5; 2/6] START C=0.001.....................................................\n",
            "[CV 4/5; 2/6] END ......................C=0.001;, score=0.802 total time=   3.0s\n",
            "[CV 5/5; 2/6] START C=0.001.....................................................\n",
            "[CV 5/5; 2/6] END ......................C=0.001;, score=0.820 total time=   3.0s\n",
            "[CV 1/5; 3/6] START C=0.01......................................................\n",
            "[CV 1/5; 3/6] END .......................C=0.01;, score=0.805 total time=   2.9s\n",
            "[CV 2/5; 3/6] START C=0.01......................................................\n",
            "[CV 2/5; 3/6] END .......................C=0.01;, score=0.801 total time=   2.9s\n",
            "[CV 3/5; 3/6] START C=0.01......................................................\n",
            "[CV 3/5; 3/6] END .......................C=0.01;, score=0.820 total time=   2.9s\n",
            "[CV 4/5; 3/6] START C=0.01......................................................\n",
            "[CV 4/5; 3/6] END .......................C=0.01;, score=0.793 total time=   3.0s\n",
            "[CV 5/5; 3/6] START C=0.01......................................................\n",
            "[CV 5/5; 3/6] END .......................C=0.01;, score=0.813 total time=   3.1s\n",
            "[CV 1/5; 4/6] START C=0.1.......................................................\n",
            "[CV 1/5; 4/6] END ........................C=0.1;, score=0.804 total time=   4.5s\n",
            "[CV 2/5; 4/6] START C=0.1.......................................................\n",
            "[CV 2/5; 4/6] END ........................C=0.1;, score=0.801 total time=   3.8s\n",
            "[CV 3/5; 4/6] START C=0.1.......................................................\n",
            "[CV 3/5; 4/6] END ........................C=0.1;, score=0.818 total time=   3.8s\n",
            "[CV 4/5; 4/6] START C=0.1.......................................................\n",
            "[CV 4/5; 4/6] END ........................C=0.1;, score=0.792 total time=   3.6s\n",
            "[CV 5/5; 4/6] START C=0.1.......................................................\n",
            "[CV 5/5; 4/6] END ........................C=0.1;, score=0.812 total time=   3.8s\n",
            "[CV 1/5; 5/6] START C=1.........................................................\n",
            "[CV 1/5; 5/6] END ..........................C=1;, score=0.804 total time=   6.9s\n",
            "[CV 2/5; 5/6] START C=1.........................................................\n",
            "[CV 2/5; 5/6] END ..........................C=1;, score=0.801 total time=   7.1s\n",
            "[CV 3/5; 5/6] START C=1.........................................................\n",
            "[CV 3/5; 5/6] END ..........................C=1;, score=0.818 total time=   7.3s\n",
            "[CV 4/5; 5/6] START C=1.........................................................\n",
            "[CV 4/5; 5/6] END ..........................C=1;, score=0.792 total time=   7.2s\n",
            "[CV 5/5; 5/6] START C=1.........................................................\n",
            "[CV 5/5; 5/6] END ..........................C=1;, score=0.812 total time=   7.1s\n",
            "[CV 1/5; 6/6] START C=10........................................................\n",
            "[CV 1/5; 6/6] END .........................C=10;, score=0.804 total time=  22.8s\n",
            "[CV 2/5; 6/6] START C=10........................................................\n",
            "[CV 2/5; 6/6] END .........................C=10;, score=0.801 total time=  22.8s\n",
            "[CV 3/5; 6/6] START C=10........................................................\n",
            "[CV 3/5; 6/6] END .........................C=10;, score=0.818 total time=  23.7s\n",
            "[CV 4/5; 6/6] START C=10........................................................\n",
            "[CV 4/5; 6/6] END .........................C=10;, score=0.792 total time=  21.8s\n",
            "[CV 5/5; 6/6] START C=10........................................................\n",
            "[CV 5/5; 6/6] END .........................C=10;, score=0.812 total time=  22.4s\n"
          ]
        },
        {
          "data": {
            "text/plain": [
              "GridSearchCV(cv=5, estimator=SVC(kernel='linear', probability=True),\n",
              "             param_grid={'C': [0.0001, 0.001, 0.01, 0.1, 1, 10]},\n",
              "             scoring=make_scorer(pr_auc_score, needs_proba=True), verbose=10)"
            ]
          },
          "execution_count": 423,
          "metadata": {},
          "output_type": "execute_result"
        }
      ],
      "source": [
        "# Support Vector Classification.\n",
        "lsvc_model = SVC(kernel='linear', probability=True)\n",
        "lsvc_params_grid_space = {'C': [0.0001, 0.001, 0.01, 0.1, 1, 10]}\n",
        "auc_pr_scorer = make_scorer(pr_auc_score, needs_proba=True)\n",
        "\n",
        "lsvc_grid_search = GridSearchCV(\n",
        "    lsvc_model, lsvc_params_grid_space, scoring=auc_pr_scorer, cv=5, verbose=10)\n",
        "lsvc_grid_search.fit(X_train, y_train)"
      ]
    },
    {
      "cell_type": "code",
      "execution_count": 424,
      "metadata": {},
      "outputs": [
        {
          "name": "stdout",
          "output_type": "stream",
          "text": [
            "Best C: 0.0001\n"
          ]
        }
      ],
      "source": [
        "print(\"Best C:\", lsvc_grid_search.best_params_['C'])\n",
        "\n",
        "lsvc_best_model = lsvc_grid_search.best_estimator_\n",
        "y_lsvc = lsvc_best_model.predict_proba(X_test)[:,1]"
      ]
    },
    {
      "cell_type": "markdown",
      "metadata": {
        "id": "fapa63xlP75R"
      },
      "source": [
        "  На тестовой части:\n",
        "  - постройте ROC и PR кривые,\n",
        "  - посчитайте AUC-ROC, AUC-PR с точностью до 5 знаков"
      ]
    },
    {
      "cell_type": "code",
      "execution_count": 425,
      "metadata": {
        "id": "xTvNT5uRP75S"
      },
      "outputs": [
        {
          "name": "stdout",
          "output_type": "stream",
          "text": [
            "SVC metrics\n",
            "AUC-PR: 0.83313\n",
            "AUC-ROC: 0.83988\n"
          ]
        },
        {
          "data": {
            "image/png": "[encoded data removed]",
            "text/plain": [
              "<Figure size 1100x500 with 2 Axes>"
            ]
          },
          "metadata": {},
          "output_type": "display_data"
        }
      ],
      "source": [
        "depict_pr_roc(y_test, y_lsvc, \"SVC\")"
      ]
    },
    {
      "cell_type": "markdown",
      "metadata": {
        "id": "tEoGp5EDtIzW"
      },
      "source": [
        "Сравните AUC-ROC и AUC-PR для вашей модели с этими же метриками для случайного классификатора."
      ]
    },
    {
      "cell_type": "code",
      "execution_count": 426,
      "metadata": {},
      "outputs": [
        {
          "data": {
            "text/html": [
              "<div>\n",
              "<style scoped>\n",
              "    .dataframe tbody tr th:only-of-type {\n",
              "        vertical-align: middle;\n",
              "    }\n",
              "\n",
              "    .dataframe tbody tr th {\n",
              "        vertical-align: top;\n",
              "    }\n",
              "\n",
              "    .dataframe thead th {\n",
              "        text-align: right;\n",
              "    }\n",
              "</style>\n",
              "<table border=\"1\" class=\"dataframe\">\n",
              "  <thead>\n",
              "    <tr style=\"text-align: right;\">\n",
              "      <th></th>\n",
              "      <th>AUC_PR</th>\n",
              "      <th>AUC_ROC</th>\n",
              "      <th>reg_const</th>\n",
              "    </tr>\n",
              "  </thead>\n",
              "  <tbody>\n",
              "    <tr>\n",
              "      <th>Random Classifier</th>\n",
              "      <td>0.752833</td>\n",
              "      <td>0.500000</td>\n",
              "      <td>0.0</td>\n",
              "    </tr>\n",
              "    <tr>\n",
              "      <th>SVC</th>\n",
              "      <td>0.833130</td>\n",
              "      <td>0.839879</td>\n",
              "      <td>0.0</td>\n",
              "    </tr>\n",
              "  </tbody>\n",
              "</table>\n",
              "</div>"
            ],
            "text/plain": [
              "                     AUC_PR   AUC_ROC  reg_const\n",
              "Random Classifier  0.752833  0.500000        0.0\n",
              "SVC                0.833130  0.839879        0.0"
            ]
          },
          "execution_count": 426,
          "metadata": {},
          "output_type": "execute_result"
        }
      ],
      "source": [
        "update_metrics(df_metrics, y_test, y_lsvc, \"SVC\")\n",
        "df_metrics"
      ]
    },
    {
      "cell_type": "markdown",
      "metadata": {
        "id": "Ln5VaZE_P75S"
      },
      "source": [
        "__Logistic Regression__\n",
        "\n",
        "\n",
        "Аналогичное задание для логистической регрессии с L2 регуляризатором:\n",
        "\n",
        "\n",
        "*   подберите гиперпараметр C, используя метрику AUC-PR\n",
        "*   нарисуйте ROC, PR кривые для тестовой части\n",
        "*   выведите метрики для тестовых данных и сравните их с результатами случайного классификатора\n",
        "\n"
      ]
    },
    {
      "cell_type": "code",
      "execution_count": 427,
      "metadata": {},
      "outputs": [],
      "source": [
        "from sklearn.linear_model import LogisticRegression"
      ]
    },
    {
      "cell_type": "code",
      "execution_count": 428,
      "metadata": {
        "id": "r1TlamoBP75S"
      },
      "outputs": [
        {
          "name": "stdout",
          "output_type": "stream",
          "text": [
            "Fitting 5 folds for each of 6 candidates, totalling 30 fits\n",
            "[CV 1/5; 1/6] START C=0.0001....................................................\n",
            "[CV 1/5; 1/6] END .....................C=0.0001;, score=0.825 total time=   0.0s\n",
            "[CV 2/5; 1/6] START C=0.0001....................................................\n",
            "[CV 2/5; 1/6] END .....................C=0.0001;, score=0.804 total time=   0.0s\n",
            "[CV 3/5; 1/6] START C=0.0001....................................................\n",
            "[CV 3/5; 1/6] END .....................C=0.0001;, score=0.843 total time=   0.0s\n",
            "[CV 4/5; 1/6] START C=0.0001....................................................\n",
            "[CV 4/5; 1/6] END .....................C=0.0001;, score=0.818 total time=   0.0s\n",
            "[CV 5/5; 1/6] START C=0.0001....................................................\n",
            "[CV 5/5; 1/6] END .....................C=0.0001;, score=0.830 total time=   0.0s\n",
            "[CV 1/5; 2/6] START C=0.001.....................................................\n",
            "[CV 1/5; 2/6] END ......................C=0.001;, score=0.827 total time=   0.0s\n",
            "[CV 2/5; 2/6] START C=0.001.....................................................\n",
            "[CV 2/5; 2/6] END ......................C=0.001;, score=0.815 total time=   0.0s\n",
            "[CV 3/5; 2/6] START C=0.001.....................................................\n",
            "[CV 3/5; 2/6] END ......................C=0.001;, score=0.844 total time=   0.0s\n",
            "[CV 4/5; 2/6] START C=0.001.....................................................\n",
            "[CV 4/5; 2/6] END ......................C=0.001;, score=0.819 total time=   0.0s\n",
            "[CV 5/5; 2/6] START C=0.001.....................................................\n",
            "[CV 5/5; 2/6] END ......................C=0.001;, score=0.831 total time=   0.0s\n",
            "[CV 1/5; 3/6] START C=0.01......................................................\n",
            "[CV 1/5; 3/6] END .......................C=0.01;, score=0.824 total time=   0.0s\n",
            "[CV 2/5; 3/6] START C=0.01......................................................\n",
            "[CV 2/5; 3/6] END .......................C=0.01;, score=0.814 total time=   0.0s\n",
            "[CV 3/5; 3/6] START C=0.01......................................................\n",
            "[CV 3/5; 3/6] END .......................C=0.01;, score=0.838 total time=   0.0s\n",
            "[CV 4/5; 3/6] START C=0.01......................................................\n",
            "[CV 4/5; 3/6] END .......................C=0.01;, score=0.814 total time=   0.0s\n",
            "[CV 5/5; 3/6] START C=0.01......................................................\n",
            "[CV 5/5; 3/6] END .......................C=0.01;, score=0.826 total time=   0.0s\n",
            "[CV 1/5; 4/6] START C=0.1.......................................................\n",
            "[CV 1/5; 4/6] END ........................C=0.1;, score=0.823 total time=   0.0s\n",
            "[CV 2/5; 4/6] START C=0.1.......................................................\n",
            "[CV 2/5; 4/6] END ........................C=0.1;, score=0.813 total time=   0.0s\n",
            "[CV 3/5; 4/6] START C=0.1.......................................................\n",
            "[CV 3/5; 4/6] END ........................C=0.1;, score=0.836 total time=   0.0s\n",
            "[CV 4/5; 4/6] START C=0.1.......................................................\n",
            "[CV 4/5; 4/6] END ........................C=0.1;, score=0.813 total time=   0.0s\n",
            "[CV 5/5; 4/6] START C=0.1.......................................................\n",
            "[CV 5/5; 4/6] END ........................C=0.1;, score=0.825 total time=   0.0s\n",
            "[CV 1/5; 5/6] START C=1.........................................................\n",
            "[CV 1/5; 5/6] END ..........................C=1;, score=0.823 total time=   0.0s\n",
            "[CV 2/5; 5/6] START C=1.........................................................\n",
            "[CV 2/5; 5/6] END ..........................C=1;, score=0.813 total time=   0.0s\n",
            "[CV 3/5; 5/6] START C=1.........................................................\n",
            "[CV 3/5; 5/6] END ..........................C=1;, score=0.836 total time=   0.0s\n",
            "[CV 4/5; 5/6] START C=1.........................................................\n",
            "[CV 4/5; 5/6] END ..........................C=1;, score=0.813 total time=   0.0s\n",
            "[CV 5/5; 5/6] START C=1.........................................................\n",
            "[CV 5/5; 5/6] END ..........................C=1;, score=0.825 total time=   0.0s\n",
            "[CV 1/5; 6/6] START C=10........................................................\n",
            "[CV 1/5; 6/6] END .........................C=10;, score=0.823 total time=   0.0s\n",
            "[CV 2/5; 6/6] START C=10........................................................\n",
            "[CV 2/5; 6/6] END .........................C=10;, score=0.813 total time=   0.0s\n",
            "[CV 3/5; 6/6] START C=10........................................................\n",
            "[CV 3/5; 6/6] END .........................C=10;, score=0.836 total time=   0.0s\n",
            "[CV 4/5; 6/6] START C=10........................................................\n",
            "[CV 4/5; 6/6] END .........................C=10;, score=0.813 total time=   0.0s\n",
            "[CV 5/5; 6/6] START C=10........................................................\n",
            "[CV 5/5; 6/6] END .........................C=10;, score=0.825 total time=   0.0s\n"
          ]
        },
        {
          "data": {
            "text/plain": [
              "GridSearchCV(cv=5, estimator=LogisticRegression(),\n",
              "             param_grid={'C': [0.0001, 0.001, 0.01, 0.1, 1, 10]},\n",
              "             scoring=make_scorer(pr_auc_score, needs_proba=True), verbose=10)"
            ]
          },
          "execution_count": 428,
          "metadata": {},
          "output_type": "execute_result"
        }
      ],
      "source": [
        "# Logistic Regression l2.\n",
        "lr_model = LogisticRegression(penalty='l2')\n",
        "lr_params_grid_space = {'C': [0.0001, 0.001, 0.01, 0.1, 1, 10]}\n",
        "auc_pr_scorer = make_scorer(pr_auc_score, needs_proba=True)\n",
        "\n",
        "lr_grid_search = GridSearchCV(\n",
        "    lr_model, lr_params_grid_space, scoring=auc_pr_scorer, cv=5, verbose=10)\n",
        "lr_grid_search.fit(X_train, y_train)"
      ]
    },
    {
      "cell_type": "code",
      "execution_count": 429,
      "metadata": {},
      "outputs": [
        {
          "name": "stdout",
          "output_type": "stream",
          "text": [
            "Best C: 0.001\n"
          ]
        }
      ],
      "source": [
        "print(\"Best C:\", lr_grid_search.best_params_['C'])\n",
        "\n",
        "lr_best_model = lr_grid_search.best_estimator_\n",
        "lr_best_model.fit(X_train, y_train)\n",
        "y_lr = lr_best_model.predict_proba(X_test)[:,1]"
      ]
    },
    {
      "cell_type": "markdown",
      "metadata": {
        "id": "Gnj5PG1Rm5qX"
      },
      "source": [
        "Нарисуйте ROC, PR кривые для тестовой части для всех 3 классификаторов на одном графике"
      ]
    },
    {
      "cell_type": "code",
      "execution_count": 430,
      "metadata": {
        "id": "X3BaXTRBnAwK"
      },
      "outputs": [
        {
          "name": "stdout",
          "output_type": "stream",
          "text": [
            "LR metrics\n",
            "AUC-PR: 0.83360\n",
            "AUC-ROC: 0.84534\n"
          ]
        },
        {
          "data": {
            "image/png": "[encoded data removed]",
            "text/plain": [
              "<Figure size 1100x500 with 2 Axes>"
            ]
          },
          "metadata": {},
          "output_type": "display_data"
        }
      ],
      "source": [
        "depict_pr_roc(y_test, y_lr, \"LR\")"
      ]
    },
    {
      "cell_type": "code",
      "execution_count": 431,
      "metadata": {},
      "outputs": [
        {
          "data": {
            "text/html": [
              "<div>\n",
              "<style scoped>\n",
              "    .dataframe tbody tr th:only-of-type {\n",
              "        vertical-align: middle;\n",
              "    }\n",
              "\n",
              "    .dataframe tbody tr th {\n",
              "        vertical-align: top;\n",
              "    }\n",
              "\n",
              "    .dataframe thead th {\n",
              "        text-align: right;\n",
              "    }\n",
              "</style>\n",
              "<table border=\"1\" class=\"dataframe\">\n",
              "  <thead>\n",
              "    <tr style=\"text-align: right;\">\n",
              "      <th></th>\n",
              "      <th>AUC_PR</th>\n",
              "      <th>AUC_ROC</th>\n",
              "      <th>reg_const</th>\n",
              "    </tr>\n",
              "  </thead>\n",
              "  <tbody>\n",
              "    <tr>\n",
              "      <th>Random Classifier</th>\n",
              "      <td>0.752833</td>\n",
              "      <td>0.500000</td>\n",
              "      <td>0.0</td>\n",
              "    </tr>\n",
              "    <tr>\n",
              "      <th>SVC</th>\n",
              "      <td>0.833130</td>\n",
              "      <td>0.839879</td>\n",
              "      <td>0.0</td>\n",
              "    </tr>\n",
              "    <tr>\n",
              "      <th>LR</th>\n",
              "      <td>0.833599</td>\n",
              "      <td>0.845338</td>\n",
              "      <td>0.0</td>\n",
              "    </tr>\n",
              "  </tbody>\n",
              "</table>\n",
              "</div>"
            ],
            "text/plain": [
              "                     AUC_PR   AUC_ROC  reg_const\n",
              "Random Classifier  0.752833  0.500000        0.0\n",
              "SVC                0.833130  0.839879        0.0\n",
              "LR                 0.833599  0.845338        0.0"
            ]
          },
          "execution_count": 431,
          "metadata": {},
          "output_type": "execute_result"
        }
      ],
      "source": [
        "update_metrics(df_metrics, y_test, y_lr, \"LR\")\n",
        "df_metrics"
      ]
    },
    {
      "cell_type": "markdown",
      "metadata": {
        "id": "khlorKXtr1Sy"
      },
      "source": [
        "**Вопрос:** Сравните результаты LR и SVM с точки зрения всех вычисленных критериев качества, объясните различия (если они есть).\n",
        "\n"
      ]
    },
    {
      "cell_type": "code",
      "execution_count": 432,
      "metadata": {},
      "outputs": [
        {
          "name": "stdout",
          "output_type": "stream",
          "text": [
            "LR metrics\n",
            "AUC-PR: 0.83360\n",
            "AUC-ROC: 0.84534\n",
            "LSVC metrics\n",
            "AUC-PR: 0.83313\n",
            "AUC-ROC: 0.83988\n"
          ]
        },
        {
          "data": {
            "image/png": "[encoded data removed]",
            "text/plain": [
              "<Figure size 1100x500 with 2 Axes>"
            ]
          },
          "metadata": {},
          "output_type": "display_data"
        }
      ],
      "source": [
        "_, ax = plt.subplots(1, 2, figsize=(11, 5))\n",
        "depict_pr_roc(y_test, y_lr, \"LR\", ax)\n",
        "depict_pr_roc(y_test, y_lsvc, \"LSVC\", ax)\n"
      ]
    },
    {
      "cell_type": "markdown",
      "metadata": {
        "id": "Un_w7BMZIAf2"
      },
      "source": [
        "---\n",
        "\n",
        "**Ответ:** \n",
        "```\n",
        "значения метрик AUC-PR и AUC-ROC близки друг к другу, и это говорит о том, что модели обладают схожей способностью разделять классы\n",
        "\n",
        "По обеим метрикам можно сказать что LR лучше определяет предсказываемый класс\n",
        "```\n",
        "\n",
        "---"
      ]
    },
    {
      "cell_type": "markdown",
      "metadata": {
        "id": "RvWzOe4wP75T"
      },
      "source": [
        "#### __Задание 1.2. Визуализация в подходах SVM, LR__ (0.5 балла)\n",
        "\n"
      ]
    },
    {
      "cell_type": "markdown",
      "metadata": {
        "id": "kWS1NfYwBbQ_"
      },
      "source": [
        "В названии метода опорных векторов присутствуют некоторые \"опорные векторы\". По сути, это объекты из обучающей выборки, которые задали положение разделяющей гиперплоскости.\n",
        "\n",
        "* Сгенерируйте синтетические данные с помощью `make_classification` __с 2 признаками__, обучите на нём метод опорных векторов. В этот раз воспользуйтесь `SVC(kernel='linear')`, так как только в нём есть информация об опорных векторах, а в `LinearSVC` нет. Не забудьте зафиксировать seed для воспроизводимости\n",
        "\n",
        "* Визуализируйте разделяющую прямую, все объекты и выделите опорные векторы (атрибут `support_vectors_`)."
      ]
    },
    {
      "cell_type": "code",
      "execution_count": 433,
      "metadata": {
        "id": "qIS-aGxi-Nr0"
      },
      "outputs": [
        {
          "name": "stdout",
          "output_type": "stream",
          "text": [
            "Fitting 5 folds for each of 6 candidates, totalling 30 fits\n",
            "[CV 1/5; 1/6] START C=0.0001....................................................\n"
          ]
        },
        {
          "name": "stdout",
          "output_type": "stream",
          "text": [
            "[CV 1/5; 1/6] END .....................C=0.0001;, score=0.933 total time=   3.4s\n",
            "[CV 2/5; 1/6] START C=0.0001....................................................\n",
            "[CV 2/5; 1/6] END .....................C=0.0001;, score=0.917 total time=   4.2s\n",
            "[CV 3/5; 1/6] START C=0.0001....................................................\n",
            "[CV 3/5; 1/6] END .....................C=0.0001;, score=0.935 total time=   3.4s\n",
            "[CV 4/5; 1/6] START C=0.0001....................................................\n",
            "[CV 4/5; 1/6] END .....................C=0.0001;, score=0.938 total time=   3.3s\n",
            "[CV 5/5; 1/6] START C=0.0001....................................................\n",
            "[CV 5/5; 1/6] END .....................C=0.0001;, score=0.933 total time=   3.2s\n",
            "[CV 1/5; 2/6] START C=0.001.....................................................\n",
            "[CV 1/5; 2/6] END ......................C=0.001;, score=0.937 total time=   1.9s\n",
            "[CV 2/5; 2/6] START C=0.001.....................................................\n",
            "[CV 2/5; 2/6] END ......................C=0.001;, score=0.923 total time=   1.8s\n",
            "[CV 3/5; 2/6] START C=0.001.....................................................\n",
            "[CV 3/5; 2/6] END ......................C=0.001;, score=0.940 total time=   1.9s\n",
            "[CV 4/5; 2/6] START C=0.001.....................................................\n",
            "[CV 4/5; 2/6] END ......................C=0.001;, score=0.942 total time=   1.9s\n",
            "[CV 5/5; 2/6] START C=0.001.....................................................\n",
            "[CV 5/5; 2/6] END ......................C=0.001;, score=0.938 total time=   1.9s\n",
            "[CV 1/5; 3/6] START C=0.01......................................................\n",
            "[CV 1/5; 3/6] END .......................C=0.01;, score=0.941 total time=   1.2s\n",
            "[CV 2/5; 3/6] START C=0.01......................................................\n",
            "[CV 2/5; 3/6] END .......................C=0.01;, score=0.929 total time=   1.2s\n",
            "[CV 3/5; 3/6] START C=0.01......................................................\n",
            "[CV 3/5; 3/6] END .......................C=0.01;, score=0.946 total time=   1.2s\n",
            "[CV 4/5; 3/6] START C=0.01......................................................\n",
            "[CV 4/5; 3/6] END .......................C=0.01;, score=0.946 total time=   1.2s\n",
            "[CV 5/5; 3/6] START C=0.01......................................................\n",
            "[CV 5/5; 3/6] END .......................C=0.01;, score=0.941 total time=   1.2s\n",
            "[CV 1/5; 4/6] START C=0.1.......................................................\n",
            "[CV 1/5; 4/6] END ........................C=0.1;, score=0.942 total time=   1.1s\n",
            "[CV 2/5; 4/6] START C=0.1.......................................................\n",
            "[CV 2/5; 4/6] END ........................C=0.1;, score=0.933 total time=   1.1s\n",
            "[CV 3/5; 4/6] START C=0.1.......................................................\n",
            "[CV 3/5; 4/6] END ........................C=0.1;, score=0.947 total time=   1.1s\n",
            "[CV 4/5; 4/6] START C=0.1.......................................................\n",
            "[CV 4/5; 4/6] END ........................C=0.1;, score=0.947 total time=   1.1s\n",
            "[CV 5/5; 4/6] START C=0.1.......................................................\n",
            "[CV 5/5; 4/6] END ........................C=0.1;, score=0.943 total time=   1.1s\n",
            "[CV 1/5; 5/6] START C=1.........................................................\n",
            "[CV 1/5; 5/6] END ..........................C=1;, score=0.942 total time=   1.4s\n",
            "[CV 2/5; 5/6] START C=1.........................................................\n",
            "[CV 2/5; 5/6] END ..........................C=1;, score=0.933 total time=   1.4s\n",
            "[CV 3/5; 5/6] START C=1.........................................................\n",
            "[CV 3/5; 5/6] END ..........................C=1;, score=0.947 total time=   1.5s\n",
            "[CV 4/5; 5/6] START C=1.........................................................\n",
            "[CV 4/5; 5/6] END ..........................C=1;, score=0.947 total time=   1.5s\n",
            "[CV 5/5; 5/6] START C=1.........................................................\n",
            "[CV 5/5; 5/6] END ..........................C=1;, score=0.943 total time=   1.5s\n",
            "[CV 1/5; 6/6] START C=10........................................................\n",
            "[CV 1/5; 6/6] END .........................C=10;, score=0.942 total time=   2.6s\n",
            "[CV 2/5; 6/6] START C=10........................................................\n",
            "[CV 2/5; 6/6] END .........................C=10;, score=0.933 total time=   2.8s\n",
            "[CV 3/5; 6/6] START C=10........................................................\n",
            "[CV 3/5; 6/6] END .........................C=10;, score=0.947 total time=   2.8s\n",
            "[CV 4/5; 6/6] START C=10........................................................\n",
            "[CV 4/5; 6/6] END .........................C=10;, score=0.947 total time=   2.8s\n",
            "[CV 5/5; 6/6] START C=10........................................................\n",
            "[CV 5/5; 6/6] END .........................C=10;, score=0.943 total time=   2.8s\n"
          ]
        },
        {
          "data": {
            "text/plain": [
              "GridSearchCV(cv=5, estimator=SVC(kernel='linear', probability=True),\n",
              "             param_grid={'C': [0.0001, 0.001, 0.01, 0.1, 1, 10]},\n",
              "             scoring=make_scorer(pr_auc_score, needs_proba=True), verbose=10)"
            ]
          },
          "execution_count": 433,
          "metadata": {},
          "output_type": "execute_result"
        }
      ],
      "source": [
        "X_col, y = make_classification(\n",
        "    n_samples=10000, n_features=2, n_informative=2, n_redundant=0, random_state=42)\n",
        "\n",
        "X_train, X_test, y_train, y_test = train_test_split(\n",
        "    X_col, y, test_size=0.3, random_state=42)\n",
        "\n",
        "lsvc_grid_search.fit(X_train, y_train)\n"
      ]
    },
    {
      "cell_type": "code",
      "execution_count": 434,
      "metadata": {
        "colab": {
          "base_uri": "https://localhost:8080/",
          "height": 434
        },
        "id": "9jA3GbO9-wcU",
        "outputId": "bfe76c4d-7958-470d-bbb2-87c779d3fda0"
      },
      "outputs": [
        {
          "data": {
            "image/png": "[encoded data removed]",
            "text/plain": [
              "<Figure size 640x480 with 1 Axes>"
            ]
          },
          "metadata": {},
          "output_type": "display_data"
        }
      ],
      "source": [
        "def plot_svm_2D(X, y, model,  plot_support=True):\n",
        "\n",
        "    # создали сетку\n",
        "    xx = np.linspace(X[:, 0].min(), X[:, 0].max(), 30)\n",
        "    yy = np.linspace(X[:, 1].min(), X[:, 1].max(), 30)\n",
        "    YY, XX = np.meshgrid(yy, xx)\n",
        "    xy = np.vstack([XX.ravel(), YY.ravel()]).T\n",
        "\n",
        "    # Ответы модели для сетки для отрисовки разделяющей прямой\n",
        "    Z = model.decision_function(xy).reshape(XX.shape)\n",
        "\n",
        "    plt.contour(XX, YY, Z, colors='k',\n",
        "                levels=[-1, 0, 1], alpha=0.5, linestyles=['--', '-', '--'])\n",
        "\n",
        "    # Отрисовали выборку\n",
        "    plt.scatter(X[:, 0], X[:, 1], c=y)\n",
        "\n",
        "    # Отрисовали опорные векторы\n",
        "    if plot_support:\n",
        "        plt.scatter(model.support_vectors_[:, 0],\n",
        "                    model.support_vectors_[:, 1],\n",
        "                    label='support vectors',\n",
        "                    s=100,\n",
        "                    linewidth=1,\n",
        "                    edgecolor=\"blue\",\n",
        "                    facecolors='none')\n",
        "\n",
        "    plt.legend()\n",
        "\n",
        "\n",
        "plot_svm_2D(X_col, y, lsvc_grid_search.best_estimator_)"
      ]
    },
    {
      "cell_type": "markdown",
      "metadata": {
        "id": "gdMs4iQAIYpu"
      },
      "source": [
        "---\n",
        "\n",
        "**Вопрос:** какие объекты выделяются как \"опорные\"?\n",
        "\n",
        "**Ответ:** \n",
        "\n",
        "```Точки выборки данных, которые находятся ближе всего к гиперплоскости```\n",
        "\n",
        "---"
      ]
    },
    {
      "cell_type": "markdown",
      "metadata": {
        "id": "gfpVN70PP75U"
      },
      "source": [
        "В отличие от метода опорных векторов, логистическая регрессия не пытается построить разделяющую гиперплоскость с максимальным отступом, а приближает в каждой точке пространства объектов вероятность положительных ответов $p(y=+1|x)$. Попробуйте нарисовать это распределение на плоскости, не забудьте отметить на ней все объекты."
      ]
    },
    {
      "cell_type": "code",
      "execution_count": 435,
      "metadata": {},
      "outputs": [
        {
          "name": "stdout",
          "output_type": "stream",
          "text": [
            "Fitting 5 folds for each of 6 candidates, totalling 30 fits\n",
            "[CV 1/5; 1/6] START C=0.0001....................................................\n",
            "[CV 1/5; 1/6] END .....................C=0.0001;, score=0.933 total time=   0.1s\n",
            "[CV 2/5; 1/6] START C=0.0001....................................................\n",
            "[CV 2/5; 1/6] END .....................C=0.0001;, score=0.917 total time=   0.1s\n",
            "[CV 3/5; 1/6] START C=0.0001....................................................\n",
            "[CV 3/5; 1/6] END .....................C=0.0001;, score=0.935 total time=   0.0s\n",
            "[CV 4/5; 1/6] START C=0.0001....................................................\n",
            "[CV 4/5; 1/6] END .....................C=0.0001;, score=0.937 total time=   0.0s\n",
            "[CV 5/5; 1/6] START C=0.0001....................................................\n",
            "[CV 5/5; 1/6] END .....................C=0.0001;, score=0.933 total time=   0.0s\n",
            "[CV 1/5; 2/6] START C=0.001.....................................................\n",
            "[CV 1/5; 2/6] END ......................C=0.001;, score=0.939 total time=   0.0s\n",
            "[CV 2/5; 2/6] START C=0.001.....................................................\n"
          ]
        },
        {
          "name": "stdout",
          "output_type": "stream",
          "text": [
            "[CV 2/5; 2/6] END ......................C=0.001;, score=0.924 total time=   0.0s\n",
            "[CV 3/5; 2/6] START C=0.001.....................................................\n",
            "[CV 3/5; 2/6] END ......................C=0.001;, score=0.941 total time=   0.0s\n",
            "[CV 4/5; 2/6] START C=0.001.....................................................\n",
            "[CV 4/5; 2/6] END ......................C=0.001;, score=0.943 total time=   0.0s\n",
            "[CV 5/5; 2/6] START C=0.001.....................................................\n",
            "[CV 5/5; 2/6] END ......................C=0.001;, score=0.939 total time=   0.0s\n",
            "[CV 1/5; 3/6] START C=0.01......................................................\n",
            "[CV 1/5; 3/6] END .......................C=0.01;, score=0.942 total time=   0.0s\n",
            "[CV 2/5; 3/6] START C=0.01......................................................\n",
            "[CV 2/5; 3/6] END .......................C=0.01;, score=0.933 total time=   0.0s\n",
            "[CV 3/5; 3/6] START C=0.01......................................................\n",
            "[CV 3/5; 3/6] END .......................C=0.01;, score=0.947 total time=   0.0s\n",
            "[CV 4/5; 3/6] START C=0.01......................................................\n",
            "[CV 4/5; 3/6] END .......................C=0.01;, score=0.947 total time=   0.0s\n",
            "[CV 5/5; 3/6] START C=0.01......................................................\n",
            "[CV 5/5; 3/6] END .......................C=0.01;, score=0.943 total time=   0.0s\n",
            "[CV 1/5; 4/6] START C=0.1.......................................................\n",
            "[CV 1/5; 4/6] END ........................C=0.1;, score=0.943 total time=   0.0s\n",
            "[CV 2/5; 4/6] START C=0.1.......................................................\n",
            "[CV 2/5; 4/6] END ........................C=0.1;, score=0.936 total time=   0.0s\n",
            "[CV 3/5; 4/6] START C=0.1.......................................................\n",
            "[CV 3/5; 4/6] END ........................C=0.1;, score=0.949 total time=   0.0s\n",
            "[CV 4/5; 4/6] START C=0.1.......................................................\n",
            "[CV 4/5; 4/6] END ........................C=0.1;, score=0.948 total time=   0.0s\n",
            "[CV 5/5; 4/6] START C=0.1.......................................................\n",
            "[CV 5/5; 4/6] END ........................C=0.1;, score=0.944 total time=   0.0s\n",
            "[CV 1/5; 5/6] START C=1.........................................................\n",
            "[CV 1/5; 5/6] END ..........................C=1;, score=0.943 total time=   0.0s\n",
            "[CV 2/5; 5/6] START C=1.........................................................\n",
            "[CV 2/5; 5/6] END ..........................C=1;, score=0.936 total time=   0.0s\n",
            "[CV 3/5; 5/6] START C=1.........................................................\n",
            "[CV 3/5; 5/6] END ..........................C=1;, score=0.949 total time=   0.0s\n",
            "[CV 4/5; 5/6] START C=1.........................................................\n",
            "[CV 4/5; 5/6] END ..........................C=1;, score=0.948 total time=   0.0s\n",
            "[CV 5/5; 5/6] START C=1.........................................................\n",
            "[CV 5/5; 5/6] END ..........................C=1;, score=0.945 total time=   0.0s\n",
            "[CV 1/5; 6/6] START C=10........................................................\n",
            "[CV 1/5; 6/6] END .........................C=10;, score=0.943 total time=   0.1s\n",
            "[CV 2/5; 6/6] START C=10........................................................\n",
            "[CV 2/5; 6/6] END .........................C=10;, score=0.936 total time=   0.1s\n",
            "[CV 3/5; 6/6] START C=10........................................................\n",
            "[CV 3/5; 6/6] END .........................C=10;, score=0.949 total time=   0.0s\n",
            "[CV 4/5; 6/6] START C=10........................................................\n",
            "[CV 4/5; 6/6] END .........................C=10;, score=0.948 total time=   0.0s\n",
            "[CV 5/5; 6/6] START C=10........................................................\n",
            "[CV 5/5; 6/6] END .........................C=10;, score=0.945 total time=   0.0s\n"
          ]
        },
        {
          "data": {
            "text/plain": [
              "GridSearchCV(cv=5, estimator=LogisticRegression(),\n",
              "             param_grid={'C': [0.0001, 0.001, 0.01, 0.1, 1, 10]},\n",
              "             scoring=make_scorer(pr_auc_score, needs_proba=True), verbose=10)"
            ]
          },
          "execution_count": 435,
          "metadata": {},
          "output_type": "execute_result"
        }
      ],
      "source": [
        "lr_grid_search.fit(X_train, y_train)"
      ]
    },
    {
      "cell_type": "code",
      "execution_count": 436,
      "metadata": {
        "colab": {
          "base_uri": "https://localhost:8080/",
          "height": 434
        },
        "id": "k5D2jq87f3MC",
        "outputId": "5a04f790-e90b-4f08-d25b-dd2f553d9d8d"
      },
      "outputs": [
        {
          "data": {
            "image/png": "[encoded data removed]",
            "text/plain": [
              "<Figure size 640x480 with 2 Axes>"
            ]
          },
          "metadata": {},
          "output_type": "display_data"
        }
      ],
      "source": [
        "def plot_logreg_2D(X, y, model):\n",
        "\n",
        "    #создали сетку\n",
        "    xx = np.linspace(X[:,0].min(), X[:,0].max(), 100)\n",
        "    yy = np.linspace(X[:,1].min(), X[:,1].max(), 100)\n",
        "    YY, XX = np.meshgrid(yy, xx)\n",
        "    xy = np.vstack([XX.ravel(), YY.ravel()]).T\n",
        "\n",
        "    #Ответы модели для сетки для отрисовки распределения\n",
        "    Z = model.decision_function(xy).reshape(XX.shape)\n",
        "    Z = Z.reshape((xx.shape[0], -1)).T\n",
        "\n",
        "\n",
        "    image = plt.imshow(Z, interpolation='nearest',\n",
        "                       extent=(xx.min(), xx.max(), yy.min(), yy.max()),\n",
        "                       aspect='auto', origin='lower', cmap=plt.cm.PuOr_r)\n",
        "\n",
        "    #Отрисовали выборку\n",
        "    plt.scatter(X[:, 0], X[:, 1], c=y, cmap=plt.cm.Paired)\n",
        "\n",
        "    plt.colorbar(image)\n",
        "\n",
        "\n",
        "plot_logreg_2D(X_col, y, lr_grid_search.best_estimator_)"
      ]
    },
    {
      "cell_type": "markdown",
      "metadata": {
        "id": "AQ-Um7-6JnAp"
      },
      "source": [
        "---\n",
        "\n",
        "**Вопрос:** Как на картинке визуализирована область, где модель не уверена ($p(y=+1|x) = 0.5$)? Как это обосновать теоритечески?\n",
        "\n",
        "**Ответ:** \n",
        "\n",
        "На графике область представлена как переходный цвет (белый).\n",
        "\n",
        "Теоретическиое обоснование: логистическая функция, используемая в логистической регрессии для прогнозирования вероятности положительного исхода, имеет вид $sigmoid(z) = \\frac{1}{1 + e^{-z}}$, где $z$ является линейной комбинацией входных признаков с весами, $z = w^Tx + b$. Когда $z = 0$, сигмоидная функция возвращает значение $0.5$, что интерпретируется как равная неопределенность между двумя классами. Геометрически плоскость, определенная как место, где $z = 0$, является границей решения модели, который разделяет точки данных на классы с вероятностью больше или меньше 0.5.\n",
        "\n",
        "---"
      ]
    },
    {
      "cell_type": "markdown",
      "metadata": {
        "id": "4VbJR0e3P75U"
      },
      "source": [
        "#### __Задание 2. Калибровка вероятностей__ (1 балл)\n",
        "\n"
      ]
    },
    {
      "cell_type": "markdown",
      "metadata": {
        "id": "I8taLYSgBd9u"
      },
      "source": [
        "Перейдём к оценке качества выдаваемых алгоритмами вероятностей. Начнём с калибровочных кривых.\n",
        "\n",
        "Допустим, алгоритм возвращает некоторые числа от нуля до единицы. Хорошо ли они оценивают вероятность?\n",
        "\n",
        "Хорошо откалиброванный  классификатор должен выдавать значения так, чтобы среди образцов, для которых он дал значение, близкое к $\\alpha$, примерно $\\alpha * 100 \\%$ фактически принадлежали к положительному классу. (Например, если классификатор выдает 0.3 для некоторых, то 30% из них должны принадлежать классу 1)"
      ]
    },
    {
      "cell_type": "markdown",
      "metadata": {
        "id": "TRBGtMArIxMc"
      },
      "source": [
        "Для построения калибровочной криовой используем следующий алгоритм:\n",
        "\n",
        "Разобьем отрезок $[0, 1]$ на несколько маленьких отрезков одинаковой длины.\n",
        "\n",
        "Рассмотрим $i$-й отрезок с границами $[a_i, b_i]$ и предсказания $p_1, p_2, \\dots, p_k$, которые попали в него. Пусть им соответствуют истинные ответы $y_1, y_2, \\dots, y_k$. Если алгоритм выдает корректные вероятности, то среди этих истинных ответов должно быть примерно $(a_i + b_i) / 2$ единиц. Иными словами, если нарисовать кривую, у которой по оси X отложены центры отрезков, а по оси Y — доли единичных ответов этих в отрезках, то она должна оказаться диагональной.\n",
        "\n",
        "Ниже приведена функция, которая должна рисовать такие кривые. В ней допущено две ошибки — найдите и исправьте их."
      ]
    },
    {
      "cell_type": "code",
      "execution_count": 437,
      "metadata": {
        "id": "R75uefZuP75V"
      },
      "outputs": [],
      "source": [
        "def plot_calibration_curve(y_test, preds, ax=None, label=None):\n",
        "    if ax is None:\n",
        "        fig, ax = plt.subplots(1, 1, figsize=(6, 5))\n",
        "\n",
        "    bin_middle_points = []\n",
        "    bin_real_ratios = []\n",
        "    n_bins = 10\n",
        "    for i in range(n_bins):\n",
        "        l = 1.0 / n_bins * i\n",
        "        r = 1.0 / n_bins * (i + 1)\n",
        "        bin_middle_points.append((l + r) / 2)  # :s/-/+/g\n",
        "        bin_real_ratios.append(\n",
        "            np.mean(y_test[(preds >= l) & (preds < r)] == 1))  # :s/min/mean/g\n",
        "    # plt.figure(figsize=(6, 6))\n",
        "    ax.plot(bin_middle_points, bin_real_ratios, label=label)"
      ]
    },
    {
      "cell_type": "markdown",
      "metadata": {
        "id": "R13YCkxMO_R4"
      },
      "source": [
        "Сгенерируйте синтетические данные аналогично использованным в самом первом задании. Постройте калибровочные кривые на тестовой части для логистической регрессии и метода опорных векторов (не забудьте перевести его предсказания в $[0;1]$).\n",
        "\n",
        "Отрисуйте калибровочную кривую идеально откалиброванной модели (диагональ)"
      ]
    },
    {
      "cell_type": "code",
      "execution_count": 438,
      "metadata": {
        "id": "Jk6pz90lQYST"
      },
      "outputs": [],
      "source": [
        "X_col, y = make_classification(\n",
        "    n_samples=10000, n_features=10, n_informative=5, n_redundant=5, random_state=42)\n",
        "\n",
        "X_train, X_test, y_train, y_test = train_test_split(\n",
        "    X_col, y, test_size=0.3, random_state=42)"
      ]
    },
    {
      "cell_type": "code",
      "execution_count": 439,
      "metadata": {},
      "outputs": [
        {
          "name": "stdout",
          "output_type": "stream",
          "text": [
            "Fitting 5 folds for each of 6 candidates, totalling 30 fits\n",
            "[CV 1/5; 1/6] START C=0.0001....................................................\n"
          ]
        },
        {
          "name": "stdout",
          "output_type": "stream",
          "text": [
            "[CV 1/5; 1/6] END .....................C=0.0001;, score=0.828 total time=   4.2s\n",
            "[CV 2/5; 1/6] START C=0.0001....................................................\n",
            "[CV 2/5; 1/6] END .....................C=0.0001;, score=0.813 total time=   3.8s\n",
            "[CV 3/5; 1/6] START C=0.0001....................................................\n",
            "[CV 3/5; 1/6] END .....................C=0.0001;, score=0.845 total time=   3.8s\n",
            "[CV 4/5; 1/6] START C=0.0001....................................................\n",
            "[CV 4/5; 1/6] END .....................C=0.0001;, score=0.820 total time=   3.8s\n",
            "[CV 5/5; 1/6] START C=0.0001....................................................\n",
            "[CV 5/5; 1/6] END .....................C=0.0001;, score=0.832 total time=   3.8s\n",
            "[CV 1/5; 2/6] START C=0.001.....................................................\n",
            "[CV 1/5; 2/6] END ......................C=0.001;, score=0.814 total time=   3.1s\n",
            "[CV 2/5; 2/6] START C=0.001.....................................................\n",
            "[CV 2/5; 2/6] END ......................C=0.001;, score=0.809 total time=   3.2s\n",
            "[CV 3/5; 2/6] START C=0.001.....................................................\n",
            "[CV 3/5; 2/6] END ......................C=0.001;, score=0.830 total time=   3.1s\n",
            "[CV 4/5; 2/6] START C=0.001.....................................................\n",
            "[CV 4/5; 2/6] END ......................C=0.001;, score=0.802 total time=   3.0s\n",
            "[CV 5/5; 2/6] START C=0.001.....................................................\n",
            "[CV 5/5; 2/6] END ......................C=0.001;, score=0.820 total time=   3.0s\n",
            "[CV 1/5; 3/6] START C=0.01......................................................\n",
            "[CV 1/5; 3/6] END .......................C=0.01;, score=0.805 total time=   3.0s\n",
            "[CV 2/5; 3/6] START C=0.01......................................................\n",
            "[CV 2/5; 3/6] END .......................C=0.01;, score=0.801 total time=   2.9s\n",
            "[CV 3/5; 3/6] START C=0.01......................................................\n",
            "[CV 3/5; 3/6] END .......................C=0.01;, score=0.820 total time=   2.9s\n",
            "[CV 4/5; 3/6] START C=0.01......................................................\n",
            "[CV 4/5; 3/6] END .......................C=0.01;, score=0.793 total time=   2.9s\n",
            "[CV 5/5; 3/6] START C=0.01......................................................\n",
            "[CV 5/5; 3/6] END .......................C=0.01;, score=0.813 total time=   3.0s\n",
            "[CV 1/5; 4/6] START C=0.1.......................................................\n",
            "[CV 1/5; 4/6] END ........................C=0.1;, score=0.804 total time=   3.8s\n",
            "[CV 2/5; 4/6] START C=0.1.......................................................\n",
            "[CV 2/5; 4/6] END ........................C=0.1;, score=0.801 total time=   3.8s\n",
            "[CV 3/5; 4/6] START C=0.1.......................................................\n",
            "[CV 3/5; 4/6] END ........................C=0.1;, score=0.818 total time=   4.3s\n",
            "[CV 4/5; 4/6] START C=0.1.......................................................\n",
            "[CV 4/5; 4/6] END ........................C=0.1;, score=0.792 total time=   3.8s\n",
            "[CV 5/5; 4/6] START C=0.1.......................................................\n",
            "[CV 5/5; 4/6] END ........................C=0.1;, score=0.812 total time=   3.8s\n",
            "[CV 1/5; 5/6] START C=1.........................................................\n",
            "[CV 1/5; 5/6] END ..........................C=1;, score=0.804 total time=   7.2s\n",
            "[CV 2/5; 5/6] START C=1.........................................................\n",
            "[CV 2/5; 5/6] END ..........................C=1;, score=0.801 total time=   7.0s\n",
            "[CV 3/5; 5/6] START C=1.........................................................\n",
            "[CV 3/5; 5/6] END ..........................C=1;, score=0.818 total time=   7.3s\n",
            "[CV 4/5; 5/6] START C=1.........................................................\n",
            "[CV 4/5; 5/6] END ..........................C=1;, score=0.792 total time=   7.2s\n",
            "[CV 5/5; 5/6] START C=1.........................................................\n",
            "[CV 5/5; 5/6] END ..........................C=1;, score=0.812 total time=   7.1s\n",
            "[CV 1/5; 6/6] START C=10........................................................\n",
            "[CV 1/5; 6/6] END .........................C=10;, score=0.804 total time=  23.0s\n",
            "[CV 2/5; 6/6] START C=10........................................................\n",
            "[CV 2/5; 6/6] END .........................C=10;, score=0.801 total time=  21.5s\n",
            "[CV 3/5; 6/6] START C=10........................................................\n",
            "[CV 3/5; 6/6] END .........................C=10;, score=0.818 total time=  22.2s\n",
            "[CV 4/5; 6/6] START C=10........................................................\n",
            "[CV 4/5; 6/6] END .........................C=10;, score=0.792 total time=  22.3s\n",
            "[CV 5/5; 6/6] START C=10........................................................\n",
            "[CV 5/5; 6/6] END .........................C=10;, score=0.812 total time=  22.0s\n",
            "Fitting 5 folds for each of 6 candidates, totalling 30 fits\n",
            "[CV 1/5; 1/6] START C=0.0001....................................................\n",
            "[CV 1/5; 1/6] END .....................C=0.0001;, score=0.825 total time=   0.0s\n",
            "[CV 2/5; 1/6] START C=0.0001....................................................\n",
            "[CV 2/5; 1/6] END .....................C=0.0001;, score=0.804 total time=   0.0s\n",
            "[CV 3/5; 1/6] START C=0.0001....................................................\n",
            "[CV 3/5; 1/6] END .....................C=0.0001;, score=0.843 total time=   0.0s\n",
            "[CV 4/5; 1/6] START C=0.0001....................................................\n",
            "[CV 4/5; 1/6] END .....................C=0.0001;, score=0.818 total time=   0.0s\n",
            "[CV 5/5; 1/6] START C=0.0001....................................................\n",
            "[CV 5/5; 1/6] END .....................C=0.0001;, score=0.830 total time=   0.0s\n",
            "[CV 1/5; 2/6] START C=0.001.....................................................\n",
            "[CV 1/5; 2/6] END ......................C=0.001;, score=0.827 total time=   0.0s\n",
            "[CV 2/5; 2/6] START C=0.001.....................................................\n",
            "[CV 2/5; 2/6] END ......................C=0.001;, score=0.815 total time=   0.0s\n",
            "[CV 3/5; 2/6] START C=0.001.....................................................\n",
            "[CV 3/5; 2/6] END ......................C=0.001;, score=0.844 total time=   0.0s\n",
            "[CV 4/5; 2/6] START C=0.001.....................................................\n",
            "[CV 4/5; 2/6] END ......................C=0.001;, score=0.819 total time=   0.0s\n",
            "[CV 5/5; 2/6] START C=0.001.....................................................\n",
            "[CV 5/5; 2/6] END ......................C=0.001;, score=0.831 total time=   0.0s\n",
            "[CV 1/5; 3/6] START C=0.01......................................................\n",
            "[CV 1/5; 3/6] END .......................C=0.01;, score=0.824 total time=   0.0s\n",
            "[CV 2/5; 3/6] START C=0.01......................................................\n",
            "[CV 2/5; 3/6] END .......................C=0.01;, score=0.814 total time=   0.0s\n",
            "[CV 3/5; 3/6] START C=0.01......................................................\n",
            "[CV 3/5; 3/6] END .......................C=0.01;, score=0.838 total time=   0.0s\n",
            "[CV 4/5; 3/6] START C=0.01......................................................\n",
            "[CV 4/5; 3/6] END .......................C=0.01;, score=0.814 total time=   0.0s\n",
            "[CV 5/5; 3/6] START C=0.01......................................................\n",
            "[CV 5/5; 3/6] END .......................C=0.01;, score=0.826 total time=   0.0s\n",
            "[CV 1/5; 4/6] START C=0.1.......................................................\n",
            "[CV 1/5; 4/6] END ........................C=0.1;, score=0.823 total time=   0.0s\n",
            "[CV 2/5; 4/6] START C=0.1.......................................................\n",
            "[CV 2/5; 4/6] END ........................C=0.1;, score=0.813 total time=   0.0s\n",
            "[CV 3/5; 4/6] START C=0.1.......................................................\n",
            "[CV 3/5; 4/6] END ........................C=0.1;, score=0.836 total time=   0.0s\n",
            "[CV 4/5; 4/6] START C=0.1.......................................................\n",
            "[CV 4/5; 4/6] END ........................C=0.1;, score=0.813 total time=   0.0s\n",
            "[CV 5/5; 4/6] START C=0.1.......................................................\n",
            "[CV 5/5; 4/6] END ........................C=0.1;, score=0.825 total time=   0.0s\n",
            "[CV 1/5; 5/6] START C=1.........................................................\n",
            "[CV 1/5; 5/6] END ..........................C=1;, score=0.823 total time=   0.0s\n",
            "[CV 2/5; 5/6] START C=1.........................................................\n",
            "[CV 2/5; 5/6] END ..........................C=1;, score=0.813 total time=   0.0s\n",
            "[CV 3/5; 5/6] START C=1.........................................................\n",
            "[CV 3/5; 5/6] END ..........................C=1;, score=0.836 total time=   0.0s\n",
            "[CV 4/5; 5/6] START C=1.........................................................\n",
            "[CV 4/5; 5/6] END ..........................C=1;, score=0.813 total time=   0.0s\n",
            "[CV 5/5; 5/6] START C=1.........................................................\n",
            "[CV 5/5; 5/6] END ..........................C=1;, score=0.825 total time=   0.0s\n",
            "[CV 1/5; 6/6] START C=10........................................................\n",
            "[CV 1/5; 6/6] END .........................C=10;, score=0.823 total time=   0.0s\n",
            "[CV 2/5; 6/6] START C=10........................................................\n",
            "[CV 2/5; 6/6] END .........................C=10;, score=0.813 total time=   0.0s\n",
            "[CV 3/5; 6/6] START C=10........................................................\n",
            "[CV 3/5; 6/6] END .........................C=10;, score=0.836 total time=   0.0s\n",
            "[CV 4/5; 6/6] START C=10........................................................\n",
            "[CV 4/5; 6/6] END .........................C=10;, score=0.813 total time=   0.0s\n",
            "[CV 5/5; 6/6] START C=10........................................................\n",
            "[CV 5/5; 6/6] END .........................C=10;, score=0.825 total time=   0.0s\n"
          ]
        },
        {
          "data": {
            "text/plain": [
              "GridSearchCV(cv=5, estimator=LogisticRegression(),\n",
              "             param_grid={'C': [0.0001, 0.001, 0.01, 0.1, 1, 10]},\n",
              "             scoring=make_scorer(pr_auc_score, needs_proba=True), verbose=10)"
            ]
          },
          "execution_count": 439,
          "metadata": {},
          "output_type": "execute_result"
        }
      ],
      "source": [
        "lsvc_grid_search.fit(X_train, y_train)\n",
        "lr_grid_search.fit(X_train, y_train)"
      ]
    },
    {
      "cell_type": "code",
      "execution_count": 440,
      "metadata": {},
      "outputs": [],
      "source": [
        "def scale(A):\n",
        "    return (A - np.min(A)) / (np.max(A) - np.min(A))"
      ]
    },
    {
      "cell_type": "code",
      "execution_count": 441,
      "metadata": {},
      "outputs": [
        {
          "data": {
            "text/plain": [
              "Text(0.5, 1.0, 'Calibration curve')"
            ]
          },
          "execution_count": 441,
          "metadata": {},
          "output_type": "execute_result"
        },
        {
          "data": {
            "image/png": "[encoded data removed]",
            "text/plain": [
              "<Figure size 600x600 with 1 Axes>"
            ]
          },
          "metadata": {},
          "output_type": "display_data"
        }
      ],
      "source": [
        "pred_lsvc = scale(lsvc_grid_search.decision_function(X_test))\n",
        "pred_lr = lr_grid_search.predict_proba(X_test)[:, 1]\n",
        "\n",
        "fig, ax = plt.subplots(1, 1, figsize=(6, 6))\n",
        "plot_calibration_curve(y_test, pred_lsvc, ax, 'LSVC')\n",
        "plot_calibration_curve(y_test, pred_lr, ax, 'LR')\n",
        "ax.plot([0, 1], [0, 1], label='Aim', linestyle='--', color='green')\n",
        "ax.set_ylim([-0.05, 1.05])\n",
        "ax.grid()\n",
        "ax.legend()\n",
        "ax.set_title('Calibration curve')"
      ]
    },
    {
      "cell_type": "markdown",
      "metadata": {
        "id": "t15IAX7GPJjF"
      },
      "source": [
        "---\n",
        "\n",
        "**Вопрос**: хорошо ли откалиброваны кривые для SVM, логистической регрессии?\n",
        "\n",
        "**Ответ:** \n",
        "\n",
        "```\n",
        "LR - достаточно хорошо откалибрована\n",
        "SVM - очевидно хуже\n",
        "```\n",
        "\n",
        "---"
      ]
    },
    {
      "cell_type": "markdown",
      "metadata": {
        "id": "cgANQZyhPHIX"
      },
      "source": [
        "Изучите распределение ответов классификаторов (постройте гистограммы с помощью `plt.hist`)."
      ]
    },
    {
      "cell_type": "code",
      "execution_count": 442,
      "metadata": {
        "id": "GAP1X3NObCXp"
      },
      "outputs": [
        {
          "data": {
            "text/plain": [
              "Text(0.5, 0.98, 'Distribution')"
            ]
          },
          "execution_count": 442,
          "metadata": {},
          "output_type": "execute_result"
        },
        {
          "data": {
            "image/png": "[encoded data removed]",
            "text/plain": [
              "<Figure size 1200x600 with 2 Axes>"
            ]
          },
          "metadata": {},
          "output_type": "display_data"
        }
      ],
      "source": [
        "_, ax = plt.subplots(1, 2, figsize=(12, 6))\n",
        "\n",
        "ax[0].hist(lsvc_grid_search.decision_function(\n",
        "    X_test), bins=40, color='C0', density='True')\n",
        "ax[0].set_title('SVC')\n",
        "\n",
        "ax[1].hist(lr_grid_search.decision_function(\n",
        "    X_test), bins=40, color='C1', density='True')\n",
        "ax[1].set_title('LR')\n",
        "\n",
        "plt.suptitle('Distribution')"
      ]
    },
    {
      "cell_type": "markdown",
      "metadata": {
        "id": "S7ga-L4CPK_O"
      },
      "source": [
        "---\n",
        "\n",
        "**Вопрос:** Чем они различаются? Чем вы можете объяснить это?\n",
        "\n",
        "**Ответ:** \n",
        "\n",
        "```\n",
        "LR распределение чуть больше походит на нормальное. Скорее всего это можно объяснить то как LR (максимизация вероятности) и SVC (максимизация разделяющей плоскости) обучаются\n",
        "```\n",
        "---"
      ]
    },
    {
      "cell_type": "markdown",
      "metadata": {
        "id": "M9-6ClfaP75W"
      },
      "source": [
        "Воспользуйтесь `CalibratedClassifierCV` из `sklearn` для калибровки вероятностей метода опорных векторов на обучении и постройте с его помощью  предсказания для тестовой выборки."
      ]
    },
    {
      "cell_type": "code",
      "execution_count": 443,
      "metadata": {
        "id": "RR3pVlSNP75W"
      },
      "outputs": [
        {
          "data": {
            "text/plain": [
              "CalibratedClassifierCV(base_estimator=SVC(C=0.0001, kernel='linear',\n",
              "                                          probability=True),\n",
              "                       cv=5)"
            ]
          },
          "execution_count": 443,
          "metadata": {},
          "output_type": "execute_result"
        }
      ],
      "source": [
        "from sklearn.calibration import CalibratedClassifierCV\n",
        "\n",
        "lsvc_calibrated_model = CalibratedClassifierCV(\n",
        "    base_estimator=lsvc_grid_search.best_estimator_, cv=5)\n",
        "lsvc_calibrated_model.fit(X_train, y_train)"
      ]
    },
    {
      "cell_type": "code",
      "execution_count": 444,
      "metadata": {},
      "outputs": [
        {
          "data": {
            "text/plain": [
              "Text(0.5, 1.0, 'Calibration curve')"
            ]
          },
          "execution_count": 444,
          "metadata": {},
          "output_type": "execute_result"
        },
        {
          "data": {
            "image/png": "[encoded data removed]",
            "text/plain": [
              "<Figure size 600x600 with 1 Axes>"
            ]
          },
          "metadata": {},
          "output_type": "display_data"
        }
      ],
      "source": [
        "pred_lsvc_calibrated = lsvc_grid_search.predict_proba(X_test)[:, 1]\n",
        "pred_lr = lr_grid_search.predict_proba(X_test)[:, 1]\n",
        "\n",
        "fig, ax = plt.subplots(1, 1, figsize=(6, 6))\n",
        "plot_calibration_curve(y_test, pred_lsvc_calibrated, ax, 'LSVC(calibrated)')\n",
        "plot_calibration_curve(y_test, pred_lr, ax, 'LR')\n",
        "ax.plot([0, 1], [0, 1], label='Aim', linestyle='--', color='green')\n",
        "ax.set_ylim([-0.05, 1.05])\n",
        "ax.grid()\n",
        "ax.legend()\n",
        "ax.set_title('Calibration curve')"
      ]
    },
    {
      "cell_type": "markdown",
      "metadata": {
        "id": "PnwOFuW6XyPc"
      },
      "source": [
        "**Вопрос:** Улучшилась ли калибровочная кривая?\n",
        "\n",
        "**Ответ:** ```Калибровочная кривая для LSVC теперь выглядит лучше чем LR```"
      ]
    },
    {
      "cell_type": "markdown",
      "metadata": {
        "id": "p2dpbXgoP75X"
      },
      "source": [
        "##### __Бонус: Авторское решение__ (0.5 балла)\n",
        "\n",
        "Реализуйте свою функцию для калибровки вероятностей, используя любой из известных подходов. Кратко опишите ваш подход и продемонстрируйте результаты. Ключевые слова для вдохновения: `Platt`, `Isotonic`."
      ]
    },
    {
      "cell_type": "markdown",
      "metadata": {},
      "source": [
        "---\n",
        "\n",
        "### Isotonic Regression\n",
        "\n",
        "Метод изотонической регрессии заключается в нахождении монотонной функции, которая наилучшим образом аппроксимирует зависимость между наблюдаемыми данными. Изотоническая регрессия — это форма регрессии, в которой предполагается, что зависимая переменная является монотонно возрастающей или убывающей функцией независимой переменной.\n",
        "\n",
        "Алгоритм: \n",
        "\n",
        "1. **Сортировка данных**: данные сортируются по возрастанию предсказанных вероятностей.\n",
        "\n",
        "2. **Сегментация данных**: исходные данные делятся на сегменты, в пределах которых наблюдения считаются равными.\n",
        "\n",
        "3. **Предсказание функции**: для каждого сегмента данных вычисляется среднее значение зависимой переменной. Это среднее значение используется для предсказания всех точек данных внутри сегмента.\n",
        "\n",
        "4. **Оптимизация**: последовательно объединяются соседние сегменты и обновляется средняя зависимая переменная, пока функция монотонности не будет достигнута для всего диапазона данных.\n",
        "\n",
        "В итоге изотоническая регрессия минимизирует сумму квадратов разностей между наблюдаемыми и предсказанными значениями для каждой точки данных, при этом сохраняя монотонность функции.\n",
        "\n",
        "---"
      ]
    },
    {
      "cell_type": "code",
      "execution_count": 445,
      "metadata": {
        "id": "R8mtQgBJP75X"
      },
      "outputs": [
        {
          "data": {
            "text/plain": [
              "CalibratedClassifierCV(base_estimator=SVC(C=0.0001, kernel='linear',\n",
              "                                          probability=True),\n",
              "                       cv=5, method='isotonic')"
            ]
          },
          "execution_count": 445,
          "metadata": {},
          "output_type": "execute_result"
        }
      ],
      "source": [
        "lsvc_isotonic_model = CalibratedClassifierCV(\n",
        "    base_estimator=lsvc_grid_search.best_estimator_, cv=5, method='isotonic')\n",
        "lsvc_isotonic_model.fit(X_train, y_train)"
      ]
    },
    {
      "cell_type": "code",
      "execution_count": 446,
      "metadata": {},
      "outputs": [
        {
          "data": {
            "text/plain": [
              "Text(0.5, 1.0, 'Calibration curve')"
            ]
          },
          "execution_count": 446,
          "metadata": {},
          "output_type": "execute_result"
        },
        {
          "data": {
            "image/png": "[encoded data removed]",
            "text/plain": [
              "<Figure size 600x600 with 1 Axes>"
            ]
          },
          "metadata": {},
          "output_type": "display_data"
        }
      ],
      "source": [
        "pred_lsvc_isotonic = lsvc_isotonic_model.predict_proba(X_test)[:, 1]\n",
        "\n",
        "fig, ax = plt.subplots(1, 1, figsize=(6, 6))\n",
        "plot_calibration_curve(y_test, pred_lsvc_calibrated, ax, 'LSVC(sigmoid[default])')\n",
        "plot_calibration_curve(y_test, pred_lr, ax, 'LR')\n",
        "plot_calibration_curve(y_test, pred_lsvc_calibrated, ax, 'LSVC(isotonic)')\n",
        "ax.plot([0, 1], [0, 1], label='Aim', linestyle='--', color='green')\n",
        "ax.set_ylim([-0.05, 1.05])\n",
        "ax.grid()\n",
        "ax.legend()\n",
        "ax.set_title('Calibration curve')"
      ]
    },
    {
      "cell_type": "markdown",
      "metadata": {},
      "source": [
        "---\n",
        "\n",
        "```\n",
        "Калибровка с помощью Isotonic Regression дала такой же результат как и дефолтный метод (sigmoid)\n",
        "```\n",
        "\n",
        "---"
      ]
    },
    {
      "cell_type": "markdown",
      "metadata": {
        "id": "FaOVU4vJP75X"
      },
      "source": [
        "# Часть 2. Обработка категориальных переменных (4 балла + 1.5 бонус)"
      ]
    },
    {
      "cell_type": "markdown",
      "metadata": {
        "id": "8KQ9ywUEP75X"
      },
      "source": [
        "Как мы знаем, перекодировать категориальную переменную в список чисел (к примеру 1, 2, 3, ..., n) плохо, поскольку это бы задало на множестве ее значений некоторый порядок, не имеющий смысла.\n",
        "\n",
        "В этой части мы рассмотрим два основных способа обработки категориальных значений:\n",
        "- One-hot-кодирование\n",
        "- Счётчики (CTR, mean-target кодирование, ...) — каждый категориальный признак заменяется на среднее значение целевой переменной по всем объектам, имеющим одинаковое значение в этом признаке.\n",
        "\n",
        "Начнём с one-hot-кодирования. Допустим наш категориальный признак $f_j(x)$ принимает значения из множества $C=\\{c_1, \\dots, c_m\\}$. Заменим его на $m$ бинарных признаков $b_1(x), \\dots, b_m(x)$, каждый из которых является индикатором одного из возможных категориальных значений:\n",
        "$$\n",
        "b_i(x) = [f_j(x) = c_i]\n",
        "$$"
      ]
    },
    {
      "cell_type": "markdown",
      "metadata": {
        "id": "pPsScraBP75Y"
      },
      "source": [
        "#### __Подготовка данных__\n",
        "\n",
        "(бесценный шаг)\n",
        "\n",
        "Разберем датасет [покупок велосипедов](https://www.kaggle.com/datasets/heeraldedhia/bike-buyers/): даны признаки покупателя, требуется предсказать, купит ли он/она велосипед\n",
        "\n"
      ]
    },
    {
      "cell_type": "markdown",
      "metadata": {
        "id": "BPuDzNoCo2nk"
      },
      "source": [
        "Замените пропуски в категориальных переменных на новую категорию (`'undefined'`)\n",
        "\n",
        "Разделите признаки на 2 таблицы: категориальные и числовые признаки"
      ]
    },
    {
      "cell_type": "code",
      "execution_count": 577,
      "metadata": {
        "id": "rGWlojJwOEjL"
      },
      "outputs": [
        {
          "data": {
            "text/plain": [
              "ID                  False\n",
              "Marital Status       True\n",
              "Gender               True\n",
              "Income               True\n",
              "Children             True\n",
              "Education           False\n",
              "Occupation          False\n",
              "Home Owner           True\n",
              "Cars                 True\n",
              "Commute Distance    False\n",
              "Region              False\n",
              "Age                  True\n",
              "Purchased Bike      False\n",
              "dtype: bool"
            ]
          },
          "metadata": {},
          "output_type": "display_data"
        },
        {
          "name": "stdout",
          "output_type": "stream",
          "text": [
            "Numeric features: ['ID', 'Income', 'Children', 'Cars', 'Age']\n",
            "\n",
            "Categorical features: ['Marital Status', 'Gender', 'Education', 'Occupation', 'Home Owner', 'Commute Distance', 'Region', 'Purchased Bike']\n",
            "\n",
            "Other features: []\n"
          ]
        },
        {
          "data": {
            "text/plain": [
              "ID                  False\n",
              "Marital Status      False\n",
              "Gender              False\n",
              "Income               True\n",
              "Children             True\n",
              "Education           False\n",
              "Occupation          False\n",
              "Home Owner          False\n",
              "Cars                 True\n",
              "Commute Distance    False\n",
              "Region              False\n",
              "Age                  True\n",
              "Purchased Bike      False\n",
              "dtype: bool"
            ]
          },
          "metadata": {},
          "output_type": "display_data"
        }
      ],
      "source": [
        "df = pd.read_csv('bike_buyers.csv')\n",
        "#Заменим пропуски категориальных переменных\n",
        "display(df.isna().any())\n",
        "\n",
        "\n",
        "categorical = []\n",
        "numeric = []\n",
        "other = []\n",
        "\n",
        "for c in df.columns:\n",
        "    if df[c].dtype in [np.int64, np.float64]:\n",
        "        numeric += [c]\n",
        "    elif df[c].dtype == np.object_:\n",
        "        categorical += [c]\n",
        "    else:\n",
        "        other += [c]\n",
        "\n",
        "print('Numeric features:', numeric)\n",
        "print('\\nCategorical features:', categorical)\n",
        "print('\\nOther features:', other)\n",
        "\n",
        "df[categorical] = df[categorical].fillna('undefined')\n",
        "\n",
        "display(df.isna().any())\n"
      ]
    },
    {
      "cell_type": "code",
      "execution_count": 578,
      "metadata": {},
      "outputs": [],
      "source": [
        "\n",
        "X_col = df.drop(columns=['Purchased Bike'])\n",
        "y = (df['Purchased Bike'] == 'Yes').astype('int64')\n",
        "\n",
        "categorical.remove('Purchased Bike')\n",
        "#Разделим на категориальные признаки и числовые\n",
        "X_numeric = X_col[numeric]\n",
        "X_categorical = X_col[categorical]"
      ]
    },
    {
      "cell_type": "markdown",
      "metadata": {
        "id": "ch0M2v8Akirw"
      },
      "source": [
        "В начале поработаем только с категориальными признаками"
      ]
    },
    {
      "cell_type": "code",
      "execution_count": 579,
      "metadata": {
        "id": "QIYErZMnP75Z"
      },
      "outputs": [],
      "source": [
        "from sklearn.model_selection import train_test_split\n",
        "X_train, X_test, y_train, y_test = train_test_split(X_categorical, y, test_size=0.25, random_state=777, stratify=y)"
      ]
    },
    {
      "cell_type": "markdown",
      "metadata": {
        "id": "m5LjHkuCP75Z"
      },
      "source": [
        "#### __Задание 3. OrdinalEncoder__  (0.5 балла)\n",
        "\n",
        "Закодируйте категориальные признаки с помощью `OrdinalEncoder`. Посчитайте качество (в этом задании будем работать c __`AUC-PR`__) при применении логистической регрессии. Замерьте время, потребовавшееся на обучение модели, с учетом кодирования признаков."
      ]
    },
    {
      "cell_type": "code",
      "execution_count": 580,
      "metadata": {},
      "outputs": [],
      "source": [
        "# utils\n",
        "\n",
        "import time\n",
        "\n",
        "\n",
        "class Timer:\n",
        "    def __init__(self):\n",
        "        self.t = []\n",
        "        self.a = 0\n",
        "\n",
        "    def start(self):\n",
        "        self.a = time.time()\n",
        "\n",
        "    def stop(self):\n",
        "        if self.a != 0:\n",
        "            self.t += [time.time() - self.a]\n",
        "        self.a = 0\n",
        "\n",
        "    def restart(self):\n",
        "        self.stop()\n",
        "        self.start()\n",
        "\n",
        "    def get_mean(self):\n",
        "        return sum(self.t) / len(self.t)\n",
        "\n",
        "    def get_last(self):\n",
        "        return self.t[-1]\n",
        "\n",
        "timer = Timer()\n",
        "df_metrics_2 = pd.DataFrame(columns=['AUC_PR', 'AUC_ROC', 'time'])\n",
        "\n",
        "def update_metrics_2(metrics, y_test, y_pred, time, name: str):\n",
        "  # def_metrics_2 = pd.DataFrame(columns=['AUC_PR', 'AUC_ROC', 'time'])\n",
        "  metrics.loc[name] = [\n",
        "      pr_auc_score(y_test, y_pred),\n",
        "      roc_auc_score(y_test, y_pred),\n",
        "      time\n",
        "  ]"
      ]
    },
    {
      "cell_type": "code",
      "execution_count": 581,
      "metadata": {},
      "outputs": [],
      "source": [
        "from sklearn.preprocessing import OrdinalEncoder, StandardScaler, OneHotEncoder\n",
        "from sklearn.compose import ColumnTransformer\n",
        "from sklearn.pipeline import Pipeline"
      ]
    },
    {
      "cell_type": "code",
      "execution_count": 582,
      "metadata": {
        "id": "bdZT2tXXP75a"
      },
      "outputs": [
        {
          "data": {
            "text/html": [
              "<div>\n",
              "<style scoped>\n",
              "    .dataframe tbody tr th:only-of-type {\n",
              "        vertical-align: middle;\n",
              "    }\n",
              "\n",
              "    .dataframe tbody tr th {\n",
              "        vertical-align: top;\n",
              "    }\n",
              "\n",
              "    .dataframe thead th {\n",
              "        text-align: right;\n",
              "    }\n",
              "</style>\n",
              "<table border=\"1\" class=\"dataframe\">\n",
              "  <thead>\n",
              "    <tr style=\"text-align: right;\">\n",
              "      <th></th>\n",
              "      <th>AUC_PR</th>\n",
              "      <th>AUC_ROC</th>\n",
              "      <th>time</th>\n",
              "    </tr>\n",
              "  </thead>\n",
              "  <tbody>\n",
              "    <tr>\n",
              "      <th>OE</th>\n",
              "      <td>0.578944</td>\n",
              "      <td>0.592404</td>\n",
              "      <td>0.035706</td>\n",
              "    </tr>\n",
              "  </tbody>\n",
              "</table>\n",
              "</div>"
            ],
            "text/plain": [
              "      AUC_PR   AUC_ROC      time\n",
              "OE  0.578944  0.592404  0.035706"
            ]
          },
          "metadata": {},
          "output_type": "display_data"
        }
      ],
      "source": [
        "default_col_tr = ColumnTransformer(\n",
        "    [('oe', OrdinalEncoder(), categorical)])\n",
        "\n",
        "pipeline = Pipeline(steps=[\n",
        "    ('ct', default_col_tr),\n",
        "    ('regression', LogisticRegression(max_iter=100000))\n",
        "])\n",
        "timer.start()\n",
        "model = pipeline.fit(X_train, y_train)\n",
        "timer.stop()\n",
        "\n",
        "update_metrics_2(df_metrics_2, y_test,\n",
        "                 model.predict_proba(X_test)[:, 1], timer.get_last(), 'OE')\n",
        "display(df_metrics_2)"
      ]
    },
    {
      "cell_type": "markdown",
      "metadata": {
        "id": "ScIo7NthP75a"
      },
      "source": [
        "#### __Задание 4. One-Hot Encoding__ (0.5 балла)\n",
        "\n"
      ]
    },
    {
      "cell_type": "markdown",
      "metadata": {
        "id": "p3sFuKAtLwOx"
      },
      "source": [
        "Закодируйте все категориальные признаки с помощью one-hot-кодирования. Обучите логистическую регрессию и посмотрите, как изменилось качество модели (в сравнении с тем, что было до кодирования). Измерьте время, потребовавшееся на кодирование категориальных признаков и обучение модели."
      ]
    },
    {
      "cell_type": "code",
      "execution_count": 583,
      "metadata": {
        "id": "t4PbjLIHP75a"
      },
      "outputs": [
        {
          "data": {
            "text/html": [
              "<div>\n",
              "<style scoped>\n",
              "    .dataframe tbody tr th:only-of-type {\n",
              "        vertical-align: middle;\n",
              "    }\n",
              "\n",
              "    .dataframe tbody tr th {\n",
              "        vertical-align: top;\n",
              "    }\n",
              "\n",
              "    .dataframe thead th {\n",
              "        text-align: right;\n",
              "    }\n",
              "</style>\n",
              "<table border=\"1\" class=\"dataframe\">\n",
              "  <thead>\n",
              "    <tr style=\"text-align: right;\">\n",
              "      <th></th>\n",
              "      <th>AUC_PR</th>\n",
              "      <th>AUC_ROC</th>\n",
              "      <th>time</th>\n",
              "    </tr>\n",
              "  </thead>\n",
              "  <tbody>\n",
              "    <tr>\n",
              "      <th>OE</th>\n",
              "      <td>0.578944</td>\n",
              "      <td>0.592404</td>\n",
              "      <td>0.035706</td>\n",
              "    </tr>\n",
              "    <tr>\n",
              "      <th>OHE</th>\n",
              "      <td>0.661865</td>\n",
              "      <td>0.680032</td>\n",
              "      <td>0.031860</td>\n",
              "    </tr>\n",
              "  </tbody>\n",
              "</table>\n",
              "</div>"
            ],
            "text/plain": [
              "       AUC_PR   AUC_ROC      time\n",
              "OE   0.578944  0.592404  0.035706\n",
              "OHE  0.661865  0.680032  0.031860"
            ]
          },
          "metadata": {},
          "output_type": "display_data"
        }
      ],
      "source": [
        "default_col_tr = ColumnTransformer(\n",
        "    [('oe', OneHotEncoder(), categorical)])\n",
        "\n",
        "pipeline = Pipeline(steps=[\n",
        "    ('ct', default_col_tr),\n",
        "    ('regression', LogisticRegression(max_iter=100000))\n",
        "])\n",
        "timer.start()\n",
        "model = pipeline.fit(X_train, y_train)\n",
        "timer.stop()\n",
        "\n",
        "update_metrics_2(df_metrics_2, y_test, \n",
        "                 model.predict_proba(X_test)[:, 1], timer.get_last(), 'OHE')\n",
        "display(df_metrics_2)"
      ]
    },
    {
      "cell_type": "markdown",
      "metadata": {
        "id": "9p-qOs6lP75b"
      },
      "source": [
        "Как можно заметить, one-hot-кодирование может сильно увеличивать количество признаков. Это сказывается на объеме необходимой памяти, особенно, если некоторый признак имеет большое количество значений.\n"
      ]
    },
    {
      "cell_type": "markdown",
      "metadata": {
        "id": "l1q3k3yaLF8Y"
      },
      "source": [
        "#### __Задание 5. Mean-target Encoding__ (1 балл)"
      ]
    },
    {
      "cell_type": "markdown",
      "metadata": {
        "id": "tanu5Hm5Lr7R"
      },
      "source": [
        "> Проблемы разрастания числа признаков можно избежать в другом способе кодирования категориальных признаков — mean-target encoding (для простоты будем называть это __счётчиками__). Сравним эффективность методов в рамках нашей маркетинговой задачи.\n",
        "\n",
        "> Основная идея в том, что важны не сами категории, а значения целевой переменной, которые имеют объекты этой категории. Каждый категориальный признак мы заменим средним значением целевой переменной по всем объектам этой же категории:\n",
        "\n",
        "$$\n",
        "g_j(x, X) = \\frac{\\sum_{i=1}^{\\ell} [f_j(x) = f_j(x_i)][y_i = +1]}{\\sum_{i=1}^{\\ell} [f_j(x) = f_j(x_i)]}\n",
        "$$\n",
        "\n",
        "Закодируйте категориальные переменные с помощью счётчиков (ровно так, как описано выше, без каких-либо хитростей). Обучите логистическую регрессию и посмотрите на качество модели на тестовом множестве.\n",
        "\n",
        "Сравните время обучения с предыдущими экспериментами (с учетом кодирования признаков)."
      ]
    },
    {
      "cell_type": "code",
      "execution_count": 584,
      "metadata": {},
      "outputs": [
        {
          "data": {
            "text/html": [
              "<div>\n",
              "<style scoped>\n",
              "    .dataframe tbody tr th:only-of-type {\n",
              "        vertical-align: middle;\n",
              "    }\n",
              "\n",
              "    .dataframe tbody tr th {\n",
              "        vertical-align: top;\n",
              "    }\n",
              "\n",
              "    .dataframe thead th {\n",
              "        text-align: right;\n",
              "    }\n",
              "</style>\n",
              "<table border=\"1\" class=\"dataframe\">\n",
              "  <thead>\n",
              "    <tr style=\"text-align: right;\">\n",
              "      <th></th>\n",
              "      <th>AUC_PR</th>\n",
              "      <th>AUC_ROC</th>\n",
              "      <th>time</th>\n",
              "    </tr>\n",
              "  </thead>\n",
              "  <tbody>\n",
              "    <tr>\n",
              "      <th>OE</th>\n",
              "      <td>0.578944</td>\n",
              "      <td>0.592404</td>\n",
              "      <td>0.035706</td>\n",
              "    </tr>\n",
              "    <tr>\n",
              "      <th>OHE</th>\n",
              "      <td>0.661865</td>\n",
              "      <td>0.680032</td>\n",
              "      <td>0.031860</td>\n",
              "    </tr>\n",
              "    <tr>\n",
              "      <th>MTE</th>\n",
              "      <td>0.652694</td>\n",
              "      <td>0.664712</td>\n",
              "      <td>0.062739</td>\n",
              "    </tr>\n",
              "  </tbody>\n",
              "</table>\n",
              "</div>"
            ],
            "text/plain": [
              "       AUC_PR   AUC_ROC      time\n",
              "OE   0.578944  0.592404  0.035706\n",
              "OHE  0.661865  0.680032  0.031860\n",
              "MTE  0.652694  0.664712  0.062739"
            ]
          },
          "metadata": {},
          "output_type": "display_data"
        }
      ],
      "source": [
        "from importlib import reload\n",
        "import mean_target_encoder as mte\n",
        "reload(mte)\n",
        "\n",
        "\n",
        "pipeline = Pipeline(steps=[\n",
        "    ('mte', mte.MeanTargetEncoder(columns=categorical)),\n",
        "    ('regression', LogisticRegression(max_iter=100000))\n",
        "])\n",
        "\n",
        "\n",
        "timer.start()\n",
        "model = pipeline.fit(X_train, y_train)\n",
        "timer.stop()\n",
        "\n",
        "update_metrics_2(df_metrics_2, y_test, \n",
        "                 model.predict_proba(X_test)[:, 1], timer.get_last(), 'MTE')\n",
        "display(df_metrics_2)"
      ]
    },
    {
      "cell_type": "markdown",
      "metadata": {
        "id": "ABXherJ3LGBj"
      },
      "source": [
        "##### __Бонус: Эффективная реализация (1 балл)__\n",
        "\n",
        "Здесь и далее реализуйте вычисление счетчиков с помощью трансформера (наследуйтесь от классов `BaseEstimator, TransformerMixin` из `sklearn.base`). Обратите внимание, что все вычисления должны быть векторизованными, трансформер не должен модифицировать передаваемую ему выборку inplace, а все необходимые статистики нужно считать только по обучающей выборке в методе `fit`. Ваш трансформер должен принимать при инициализации список из категориальных признаков и изменять только их."
      ]
    },
    {
      "cell_type": "code",
      "execution_count": 585,
      "metadata": {
        "id": "Kk8D4dDuP75b"
      },
      "outputs": [],
      "source": [
        "# см. mean_target_encoder.py"
      ]
    },
    {
      "cell_type": "markdown",
      "metadata": {
        "id": "bH-JPoINqJ62"
      },
      "source": [
        "_______\n",
        "\n",
        "__Методы борьбы с переобучением счетчиков__\n",
        "\n",
        "\n",
        "Отметим, что mean-target encoding признаки сами по себе являются классификаторами и, обучаясь на них, мы допускаем \"утечку\" целевой переменной в признаки. Это ведёт к __переобучению__, поэтому считать такие признаки необходимо таким образом, чтобы при вычислении для конкретного объекта его __целевая метка не использовалась__.\n",
        "\n",
        "Это можно делать следующими способами:\n",
        "1. Вычислять значение счётчика по всем объектам расположенным выше в датасете (например, если у нас выборка отсортирована по времени).\n",
        "2. Вычислять по фолдам, то есть делить выборку на некоторое количество частей и подсчитывать значение признаков по всем фолдам кроме текущего (как делается в кросс-валидации).\n",
        "3. Внесение некоторого шума в посчитанные признаки.\n",
        "\n",
        "#### __Задание 6. Пошумим__  (0.5 балла)\n",
        "\n",
        "Реализуйте корректное вычисление счётчиков самым простым способом — добавление шума к значениям.  При этом постарайтесь найти баланс между борьбой с переобучением и сохранением полезности признаков. Снова обучите логистическую регрессию, оцените качество."
      ]
    },
    {
      "cell_type": "code",
      "execution_count": 586,
      "metadata": {
        "id": "HiqJBxrAP75c"
      },
      "outputs": [
        {
          "data": {
            "text/html": [
              "<div>\n",
              "<style scoped>\n",
              "    .dataframe tbody tr th:only-of-type {\n",
              "        vertical-align: middle;\n",
              "    }\n",
              "\n",
              "    .dataframe tbody tr th {\n",
              "        vertical-align: top;\n",
              "    }\n",
              "\n",
              "    .dataframe thead th {\n",
              "        text-align: right;\n",
              "    }\n",
              "</style>\n",
              "<table border=\"1\" class=\"dataframe\">\n",
              "  <thead>\n",
              "    <tr style=\"text-align: right;\">\n",
              "      <th></th>\n",
              "      <th>AUC_PR</th>\n",
              "      <th>AUC_ROC</th>\n",
              "      <th>time</th>\n",
              "    </tr>\n",
              "  </thead>\n",
              "  <tbody>\n",
              "    <tr>\n",
              "      <th>OE</th>\n",
              "      <td>0.578944</td>\n",
              "      <td>0.592404</td>\n",
              "      <td>0.035706</td>\n",
              "    </tr>\n",
              "    <tr>\n",
              "      <th>OHE</th>\n",
              "      <td>0.661865</td>\n",
              "      <td>0.680032</td>\n",
              "      <td>0.031860</td>\n",
              "    </tr>\n",
              "    <tr>\n",
              "      <th>MTE</th>\n",
              "      <td>0.652694</td>\n",
              "      <td>0.664712</td>\n",
              "      <td>0.062739</td>\n",
              "    </tr>\n",
              "    <tr>\n",
              "      <th>MTE_noise</th>\n",
              "      <td>0.663374</td>\n",
              "      <td>0.667628</td>\n",
              "      <td>0.058720</td>\n",
              "    </tr>\n",
              "  </tbody>\n",
              "</table>\n",
              "</div>"
            ],
            "text/plain": [
              "             AUC_PR   AUC_ROC      time\n",
              "OE         0.578944  0.592404  0.035706\n",
              "OHE        0.661865  0.680032  0.031860\n",
              "MTE        0.652694  0.664712  0.062739\n",
              "MTE_noise  0.663374  0.667628  0.058720"
            ]
          },
          "metadata": {},
          "output_type": "display_data"
        }
      ],
      "source": [
        "from importlib import reload\n",
        "import mean_target_encoder as mte\n",
        "reload(mte)\n",
        "\n",
        "\n",
        "pipeline = Pipeline(steps=[\n",
        "    ('mte', mte.MeanTargetEncoder(columns=categorical, noise=True)),\n",
        "    ('regression', LogisticRegression(max_iter=100000))\n",
        "])\n",
        "\n",
        "\n",
        "timer.start()\n",
        "model = pipeline.fit(X_train, y_train)\n",
        "timer.stop()\n",
        "\n",
        "update_metrics_2(df_metrics_2, y_test,\n",
        "                 model.predict_proba(X_test)[:, 1], timer.get_last(), 'MTE_noise')\n",
        "display(df_metrics_2)"
      ]
    },
    {
      "cell_type": "markdown",
      "metadata": {
        "id": "UOxwE8rGLSzH"
      },
      "source": [
        "---\n",
        "\n",
        "**Вопрос:** Сделайте выводы. Помогло ли добавление шума? Почему?\n",
        "\n",
        "**Ответ:** \n",
        "\n",
        "```\n",
        "В целом добавление шума помогло, но от запуска к запуску (так как внутри рандом) метрика(pr-auc) может быть чуть хуже, а может быть и чуть лучше чем без шума. Однако время почти всегда чуть лучше, так как наша фича превратилась в более-менее случайную величину.\n",
        "```\n",
        "\n",
        "---"
      ]
    },
    {
      "cell_type": "markdown",
      "metadata": {
        "id": "1GtUtPCjP75c"
      },
      "source": [
        "##### __Бонус: другой подход__ (0.5 балла)\n",
        "\n",
        "Посчитайте корректные счётчики первым или вторым способов из описанных выше (не забудьте добавить и шум).\n",
        "\n",
        "\n"
      ]
    },
    {
      "cell_type": "markdown",
      "metadata": {},
      "source": [
        "---\n",
        "\n",
        "```\n",
        "Попытка реализовать 1 способ, дедлайн упал на голову, не успел отдебажить((((((\n",
        "```\n",
        "---"
      ]
    },
    {
      "cell_type": "code",
      "execution_count": 592,
      "metadata": {},
      "outputs": [
        {
          "ename": "ValueError",
          "evalue": "Input contains NaN, infinity or a value too large for dtype('float64').",
          "output_type": "error",
          "traceback": [
            "\u001b[0;31m---------------------------------------------------------------------------\u001b[0m",
            "\u001b[0;31mValueError\u001b[0m                                Traceback (most recent call last)",
            "\u001b[0;32m/var/folders/_h/4p55q9fj743_nr3m0lm_0ndn_0krmp/T/ipykernel_66702/3651422793.py\u001b[0m in \u001b[0;36m<module>\u001b[0;34m\u001b[0m\n\u001b[1;32m     15\u001b[0m \u001b[0;34m\u001b[0m\u001b[0m\n\u001b[1;32m     16\u001b[0m update_metrics_2(df_metrics_2, y_test,\n\u001b[0;32m---> 17\u001b[0;31m                  model.predict_proba(X_test)[:, 1], timer.get_last(), 'MTE_cumsum_noise')\n\u001b[0m\u001b[1;32m     18\u001b[0m \u001b[0mdisplay\u001b[0m\u001b[0;34m(\u001b[0m\u001b[0mdf_metrics_2\u001b[0m\u001b[0;34m)\u001b[0m\u001b[0;34m\u001b[0m\u001b[0;34m\u001b[0m\u001b[0m\n",
            "\u001b[0;32m/Library/Frameworks/Python.framework/Versions/3.7/lib/python3.7/site-packages/sklearn/utils/metaestimators.py\u001b[0m in \u001b[0;36m<lambda>\u001b[0;34m(*args, **kwargs)\u001b[0m\n\u001b[1;32m    111\u001b[0m \u001b[0;34m\u001b[0m\u001b[0m\n\u001b[1;32m    112\u001b[0m             \u001b[0;31m# lambda, but not partial, allows help() to work with update_wrapper\u001b[0m\u001b[0;34m\u001b[0m\u001b[0;34m\u001b[0m\u001b[0;34m\u001b[0m\u001b[0m\n\u001b[0;32m--> 113\u001b[0;31m             \u001b[0mout\u001b[0m \u001b[0;34m=\u001b[0m \u001b[0;32mlambda\u001b[0m \u001b[0;34m*\u001b[0m\u001b[0margs\u001b[0m\u001b[0;34m,\u001b[0m \u001b[0;34m**\u001b[0m\u001b[0mkwargs\u001b[0m\u001b[0;34m:\u001b[0m \u001b[0mself\u001b[0m\u001b[0;34m.\u001b[0m\u001b[0mfn\u001b[0m\u001b[0;34m(\u001b[0m\u001b[0mobj\u001b[0m\u001b[0;34m,\u001b[0m \u001b[0;34m*\u001b[0m\u001b[0margs\u001b[0m\u001b[0;34m,\u001b[0m \u001b[0;34m**\u001b[0m\u001b[0mkwargs\u001b[0m\u001b[0;34m)\u001b[0m  \u001b[0;31m# noqa\u001b[0m\u001b[0;34m\u001b[0m\u001b[0;34m\u001b[0m\u001b[0m\n\u001b[0m\u001b[1;32m    114\u001b[0m         \u001b[0;32melse\u001b[0m\u001b[0;34m:\u001b[0m\u001b[0;34m\u001b[0m\u001b[0;34m\u001b[0m\u001b[0m\n\u001b[1;32m    115\u001b[0m \u001b[0;34m\u001b[0m\u001b[0m\n",
            "\u001b[0;32m/Library/Frameworks/Python.framework/Versions/3.7/lib/python3.7/site-packages/sklearn/pipeline.py\u001b[0m in \u001b[0;36mpredict_proba\u001b[0;34m(self, X, **predict_proba_params)\u001b[0m\n\u001b[1;32m    534\u001b[0m         \u001b[0;32mfor\u001b[0m \u001b[0m_\u001b[0m\u001b[0;34m,\u001b[0m \u001b[0mname\u001b[0m\u001b[0;34m,\u001b[0m \u001b[0mtransform\u001b[0m \u001b[0;32min\u001b[0m \u001b[0mself\u001b[0m\u001b[0;34m.\u001b[0m\u001b[0m_iter\u001b[0m\u001b[0;34m(\u001b[0m\u001b[0mwith_final\u001b[0m\u001b[0;34m=\u001b[0m\u001b[0;32mFalse\u001b[0m\u001b[0;34m)\u001b[0m\u001b[0;34m:\u001b[0m\u001b[0;34m\u001b[0m\u001b[0;34m\u001b[0m\u001b[0m\n\u001b[1;32m    535\u001b[0m             \u001b[0mXt\u001b[0m \u001b[0;34m=\u001b[0m \u001b[0mtransform\u001b[0m\u001b[0;34m.\u001b[0m\u001b[0mtransform\u001b[0m\u001b[0;34m(\u001b[0m\u001b[0mXt\u001b[0m\u001b[0;34m)\u001b[0m\u001b[0;34m\u001b[0m\u001b[0;34m\u001b[0m\u001b[0m\n\u001b[0;32m--> 536\u001b[0;31m         \u001b[0;32mreturn\u001b[0m \u001b[0mself\u001b[0m\u001b[0;34m.\u001b[0m\u001b[0msteps\u001b[0m\u001b[0;34m[\u001b[0m\u001b[0;34m-\u001b[0m\u001b[0;36m1\u001b[0m\u001b[0;34m]\u001b[0m\u001b[0;34m[\u001b[0m\u001b[0;36m1\u001b[0m\u001b[0;34m]\u001b[0m\u001b[0;34m.\u001b[0m\u001b[0mpredict_proba\u001b[0m\u001b[0;34m(\u001b[0m\u001b[0mXt\u001b[0m\u001b[0;34m,\u001b[0m \u001b[0;34m**\u001b[0m\u001b[0mpredict_proba_params\u001b[0m\u001b[0;34m)\u001b[0m\u001b[0;34m\u001b[0m\u001b[0;34m\u001b[0m\u001b[0m\n\u001b[0m\u001b[1;32m    537\u001b[0m \u001b[0;34m\u001b[0m\u001b[0m\n\u001b[1;32m    538\u001b[0m     \u001b[0;34m@\u001b[0m\u001b[0mavailable_if\u001b[0m\u001b[0;34m(\u001b[0m\u001b[0m_final_estimator_has\u001b[0m\u001b[0;34m(\u001b[0m\u001b[0;34m\"decision_function\"\u001b[0m\u001b[0;34m)\u001b[0m\u001b[0;34m)\u001b[0m\u001b[0;34m\u001b[0m\u001b[0;34m\u001b[0m\u001b[0m\n",
            "\u001b[0;32m/Library/Frameworks/Python.framework/Versions/3.7/lib/python3.7/site-packages/sklearn/linear_model/_logistic.py\u001b[0m in \u001b[0;36mpredict_proba\u001b[0;34m(self, X)\u001b[0m\n\u001b[1;32m   1668\u001b[0m         )\n\u001b[1;32m   1669\u001b[0m         \u001b[0;32mif\u001b[0m \u001b[0movr\u001b[0m\u001b[0;34m:\u001b[0m\u001b[0;34m\u001b[0m\u001b[0;34m\u001b[0m\u001b[0m\n\u001b[0;32m-> 1670\u001b[0;31m             \u001b[0;32mreturn\u001b[0m \u001b[0msuper\u001b[0m\u001b[0;34m(\u001b[0m\u001b[0;34m)\u001b[0m\u001b[0;34m.\u001b[0m\u001b[0m_predict_proba_lr\u001b[0m\u001b[0;34m(\u001b[0m\u001b[0mX\u001b[0m\u001b[0;34m)\u001b[0m\u001b[0;34m\u001b[0m\u001b[0;34m\u001b[0m\u001b[0m\n\u001b[0m\u001b[1;32m   1671\u001b[0m         \u001b[0;32melse\u001b[0m\u001b[0;34m:\u001b[0m\u001b[0;34m\u001b[0m\u001b[0;34m\u001b[0m\u001b[0m\n\u001b[1;32m   1672\u001b[0m             \u001b[0mdecision\u001b[0m \u001b[0;34m=\u001b[0m \u001b[0mself\u001b[0m\u001b[0;34m.\u001b[0m\u001b[0mdecision_function\u001b[0m\u001b[0;34m(\u001b[0m\u001b[0mX\u001b[0m\u001b[0;34m)\u001b[0m\u001b[0;34m\u001b[0m\u001b[0;34m\u001b[0m\u001b[0m\n",
            "\u001b[0;32m/Library/Frameworks/Python.framework/Versions/3.7/lib/python3.7/site-packages/sklearn/linear_model/_base.py\u001b[0m in \u001b[0;36m_predict_proba_lr\u001b[0;34m(self, X)\u001b[0m\n\u001b[1;32m    437\u001b[0m         \u001b[0mmulticlass\u001b[0m \u001b[0;32mis\u001b[0m \u001b[0mhandled\u001b[0m \u001b[0mby\u001b[0m \u001b[0mnormalizing\u001b[0m \u001b[0mthat\u001b[0m \u001b[0mover\u001b[0m \u001b[0mall\u001b[0m \u001b[0mclasses\u001b[0m\u001b[0;34m.\u001b[0m\u001b[0;34m\u001b[0m\u001b[0;34m\u001b[0m\u001b[0m\n\u001b[1;32m    438\u001b[0m         \"\"\"\n\u001b[0;32m--> 439\u001b[0;31m         \u001b[0mprob\u001b[0m \u001b[0;34m=\u001b[0m \u001b[0mself\u001b[0m\u001b[0;34m.\u001b[0m\u001b[0mdecision_function\u001b[0m\u001b[0;34m(\u001b[0m\u001b[0mX\u001b[0m\u001b[0;34m)\u001b[0m\u001b[0;34m\u001b[0m\u001b[0;34m\u001b[0m\u001b[0m\n\u001b[0m\u001b[1;32m    440\u001b[0m         \u001b[0mexpit\u001b[0m\u001b[0;34m(\u001b[0m\u001b[0mprob\u001b[0m\u001b[0;34m,\u001b[0m \u001b[0mout\u001b[0m\u001b[0;34m=\u001b[0m\u001b[0mprob\u001b[0m\u001b[0;34m)\u001b[0m\u001b[0;34m\u001b[0m\u001b[0;34m\u001b[0m\u001b[0m\n\u001b[1;32m    441\u001b[0m         \u001b[0;32mif\u001b[0m \u001b[0mprob\u001b[0m\u001b[0;34m.\u001b[0m\u001b[0mndim\u001b[0m \u001b[0;34m==\u001b[0m \u001b[0;36m1\u001b[0m\u001b[0;34m:\u001b[0m\u001b[0;34m\u001b[0m\u001b[0;34m\u001b[0m\u001b[0m\n",
            "\u001b[0;32m/Library/Frameworks/Python.framework/Versions/3.7/lib/python3.7/site-packages/sklearn/linear_model/_base.py\u001b[0m in \u001b[0;36mdecision_function\u001b[0;34m(self, X)\u001b[0m\n\u001b[1;32m    405\u001b[0m         \u001b[0mcheck_is_fitted\u001b[0m\u001b[0;34m(\u001b[0m\u001b[0mself\u001b[0m\u001b[0;34m)\u001b[0m\u001b[0;34m\u001b[0m\u001b[0;34m\u001b[0m\u001b[0m\n\u001b[1;32m    406\u001b[0m \u001b[0;34m\u001b[0m\u001b[0m\n\u001b[0;32m--> 407\u001b[0;31m         \u001b[0mX\u001b[0m \u001b[0;34m=\u001b[0m \u001b[0mself\u001b[0m\u001b[0;34m.\u001b[0m\u001b[0m_validate_data\u001b[0m\u001b[0;34m(\u001b[0m\u001b[0mX\u001b[0m\u001b[0;34m,\u001b[0m \u001b[0maccept_sparse\u001b[0m\u001b[0;34m=\u001b[0m\u001b[0;34m\"csr\"\u001b[0m\u001b[0;34m,\u001b[0m \u001b[0mreset\u001b[0m\u001b[0;34m=\u001b[0m\u001b[0;32mFalse\u001b[0m\u001b[0;34m)\u001b[0m\u001b[0;34m\u001b[0m\u001b[0;34m\u001b[0m\u001b[0m\n\u001b[0m\u001b[1;32m    408\u001b[0m         \u001b[0mscores\u001b[0m \u001b[0;34m=\u001b[0m \u001b[0msafe_sparse_dot\u001b[0m\u001b[0;34m(\u001b[0m\u001b[0mX\u001b[0m\u001b[0;34m,\u001b[0m \u001b[0mself\u001b[0m\u001b[0;34m.\u001b[0m\u001b[0mcoef_\u001b[0m\u001b[0;34m.\u001b[0m\u001b[0mT\u001b[0m\u001b[0;34m,\u001b[0m \u001b[0mdense_output\u001b[0m\u001b[0;34m=\u001b[0m\u001b[0;32mTrue\u001b[0m\u001b[0;34m)\u001b[0m \u001b[0;34m+\u001b[0m \u001b[0mself\u001b[0m\u001b[0;34m.\u001b[0m\u001b[0mintercept_\u001b[0m\u001b[0;34m\u001b[0m\u001b[0;34m\u001b[0m\u001b[0m\n\u001b[1;32m    409\u001b[0m         \u001b[0;32mreturn\u001b[0m \u001b[0mscores\u001b[0m\u001b[0;34m.\u001b[0m\u001b[0mravel\u001b[0m\u001b[0;34m(\u001b[0m\u001b[0;34m)\u001b[0m \u001b[0;32mif\u001b[0m \u001b[0mscores\u001b[0m\u001b[0;34m.\u001b[0m\u001b[0mshape\u001b[0m\u001b[0;34m[\u001b[0m\u001b[0;36m1\u001b[0m\u001b[0;34m]\u001b[0m \u001b[0;34m==\u001b[0m \u001b[0;36m1\u001b[0m \u001b[0;32melse\u001b[0m \u001b[0mscores\u001b[0m\u001b[0;34m\u001b[0m\u001b[0;34m\u001b[0m\u001b[0m\n",
            "\u001b[0;32m/Library/Frameworks/Python.framework/Versions/3.7/lib/python3.7/site-packages/sklearn/base.py\u001b[0m in \u001b[0;36m_validate_data\u001b[0;34m(self, X, y, reset, validate_separately, **check_params)\u001b[0m\n\u001b[1;32m    564\u001b[0m             \u001b[0;32mraise\u001b[0m \u001b[0mValueError\u001b[0m\u001b[0;34m(\u001b[0m\u001b[0;34m\"Validation should be done on X, y or both.\"\u001b[0m\u001b[0;34m)\u001b[0m\u001b[0;34m\u001b[0m\u001b[0;34m\u001b[0m\u001b[0m\n\u001b[1;32m    565\u001b[0m         \u001b[0;32melif\u001b[0m \u001b[0;32mnot\u001b[0m \u001b[0mno_val_X\u001b[0m \u001b[0;32mand\u001b[0m \u001b[0mno_val_y\u001b[0m\u001b[0;34m:\u001b[0m\u001b[0;34m\u001b[0m\u001b[0;34m\u001b[0m\u001b[0m\n\u001b[0;32m--> 566\u001b[0;31m             \u001b[0mX\u001b[0m \u001b[0;34m=\u001b[0m \u001b[0mcheck_array\u001b[0m\u001b[0;34m(\u001b[0m\u001b[0mX\u001b[0m\u001b[0;34m,\u001b[0m \u001b[0;34m**\u001b[0m\u001b[0mcheck_params\u001b[0m\u001b[0;34m)\u001b[0m\u001b[0;34m\u001b[0m\u001b[0;34m\u001b[0m\u001b[0m\n\u001b[0m\u001b[1;32m    567\u001b[0m             \u001b[0mout\u001b[0m \u001b[0;34m=\u001b[0m \u001b[0mX\u001b[0m\u001b[0;34m\u001b[0m\u001b[0;34m\u001b[0m\u001b[0m\n\u001b[1;32m    568\u001b[0m         \u001b[0;32melif\u001b[0m \u001b[0mno_val_X\u001b[0m \u001b[0;32mand\u001b[0m \u001b[0;32mnot\u001b[0m \u001b[0mno_val_y\u001b[0m\u001b[0;34m:\u001b[0m\u001b[0;34m\u001b[0m\u001b[0;34m\u001b[0m\u001b[0m\n",
            "\u001b[0;32m/Library/Frameworks/Python.framework/Versions/3.7/lib/python3.7/site-packages/sklearn/utils/validation.py\u001b[0m in \u001b[0;36mcheck_array\u001b[0;34m(array, accept_sparse, accept_large_sparse, dtype, order, copy, force_all_finite, ensure_2d, allow_nd, ensure_min_samples, ensure_min_features, estimator)\u001b[0m\n\u001b[1;32m    798\u001b[0m \u001b[0;34m\u001b[0m\u001b[0m\n\u001b[1;32m    799\u001b[0m         \u001b[0;32mif\u001b[0m \u001b[0mforce_all_finite\u001b[0m\u001b[0;34m:\u001b[0m\u001b[0;34m\u001b[0m\u001b[0;34m\u001b[0m\u001b[0m\n\u001b[0;32m--> 800\u001b[0;31m             \u001b[0m_assert_all_finite\u001b[0m\u001b[0;34m(\u001b[0m\u001b[0marray\u001b[0m\u001b[0;34m,\u001b[0m \u001b[0mallow_nan\u001b[0m\u001b[0;34m=\u001b[0m\u001b[0mforce_all_finite\u001b[0m \u001b[0;34m==\u001b[0m \u001b[0;34m\"allow-nan\"\u001b[0m\u001b[0;34m)\u001b[0m\u001b[0;34m\u001b[0m\u001b[0;34m\u001b[0m\u001b[0m\n\u001b[0m\u001b[1;32m    801\u001b[0m \u001b[0;34m\u001b[0m\u001b[0m\n\u001b[1;32m    802\u001b[0m     \u001b[0;32mif\u001b[0m \u001b[0mensure_min_samples\u001b[0m \u001b[0;34m>\u001b[0m \u001b[0;36m0\u001b[0m\u001b[0;34m:\u001b[0m\u001b[0;34m\u001b[0m\u001b[0;34m\u001b[0m\u001b[0m\n",
            "\u001b[0;32m/Library/Frameworks/Python.framework/Versions/3.7/lib/python3.7/site-packages/sklearn/utils/validation.py\u001b[0m in \u001b[0;36m_assert_all_finite\u001b[0;34m(X, allow_nan, msg_dtype)\u001b[0m\n\u001b[1;32m    114\u001b[0m             raise ValueError(\n\u001b[1;32m    115\u001b[0m                 msg_err.format(\n\u001b[0;32m--> 116\u001b[0;31m                     \u001b[0mtype_err\u001b[0m\u001b[0;34m,\u001b[0m \u001b[0mmsg_dtype\u001b[0m \u001b[0;32mif\u001b[0m \u001b[0mmsg_dtype\u001b[0m \u001b[0;32mis\u001b[0m \u001b[0;32mnot\u001b[0m \u001b[0;32mNone\u001b[0m \u001b[0;32melse\u001b[0m \u001b[0mX\u001b[0m\u001b[0;34m.\u001b[0m\u001b[0mdtype\u001b[0m\u001b[0;34m\u001b[0m\u001b[0;34m\u001b[0m\u001b[0m\n\u001b[0m\u001b[1;32m    117\u001b[0m                 )\n\u001b[1;32m    118\u001b[0m             )\n",
            "\u001b[0;31mValueError\u001b[0m: Input contains NaN, infinity or a value too large for dtype('float64')."
          ]
        }
      ],
      "source": [
        "from importlib import reload\n",
        "import mean_target_encoder as mte\n",
        "reload(mte)\n",
        "\n",
        "\n",
        "pipeline = Pipeline(steps=[\n",
        "    ('mte', mte.MeanCumsumTargetEncoder(columns=categorical, noise=True)),\n",
        "    ('regression', LogisticRegression(max_iter=100000))\n",
        "])\n",
        "\n",
        "\n",
        "timer.start()\n",
        "model = pipeline.fit(X_train, y_train)\n",
        "timer.stop()\n",
        "\n",
        "update_metrics_2(df_metrics_2, y_test,\n",
        "                 model.predict_proba(X_test)[:, 1], timer.get_last(), 'MTE_cumsum_noise')\n",
        "display(df_metrics_2)"
      ]
    },
    {
      "cell_type": "code",
      "execution_count": null,
      "metadata": {
        "id": "AjqsSTd6P75c"
      },
      "outputs": [],
      "source": [
        "1/0"
      ]
    },
    {
      "cell_type": "markdown",
      "metadata": {
        "id": "aMe2b5i6P75d"
      },
      "source": [
        "#### __Задание 7. Сглаживание счетчиков__  (1 балл)"
      ]
    },
    {
      "cell_type": "markdown",
      "metadata": {
        "id": "4gnmTaJqP75d"
      },
      "source": [
        "> Теперь ответим на следующий вопрос: что будет, если некоторая категория встречается в выборке всего несколько раз? По этой причине производится сглаживание счётчиков. Например, на практике хорошие результаты показывает использование сглаживания средним по всей выборке:\n",
        "$$\n",
        "g_j(x, X) = \\frac{\\sum_{i=1}^{\\ell} [f_j(x) = f_j(x_i)][y_i = +1] + C \\times global\\_mean}{\\sum_{i=1}^{\\ell} [f_j(x) = f_j(x_i)] + C}\n",
        "$$\n",
        "где $global\\_mean$ — доля объектов положительного класса в выборке, $C$ — параметр, определяющий степень сглаживания (можно использовать 10 или подобрать для каждого признака свой). Идея в том, что мы \"разбавляем\" среднее значение по категории глобальным средним значением. И тем меньше, чем большее количество объектов этой категории встречается в выборке.\n",
        "\n",
        "> Вместо среднего значения целевой переменной для сглаживания можно использовать любое другое значение от 0 до 1 (этот параметр иногда называют $prior$). Можно сделать несколько признаков с разными значениями параметра. На практике в задачах бинарной классификации полезными бывают даже отрицательные значения!\n",
        "\n",
        "Добавьте сглаживание, описанное выше и повторите эксперименты. Подберите $C$, чтобы качество было лучше, чем при использовании One-Hot-Encoding\n"
      ]
    },
    {
      "cell_type": "code",
      "execution_count": null,
      "metadata": {
        "id": "4xRMlYQlP75d"
      },
      "outputs": [
        {
          "data": {
            "text/html": [
              "<div>\n",
              "<style scoped>\n",
              "    .dataframe tbody tr th:only-of-type {\n",
              "        vertical-align: middle;\n",
              "    }\n",
              "\n",
              "    .dataframe tbody tr th {\n",
              "        vertical-align: top;\n",
              "    }\n",
              "\n",
              "    .dataframe thead th {\n",
              "        text-align: right;\n",
              "    }\n",
              "</style>\n",
              "<table border=\"1\" class=\"dataframe\">\n",
              "  <thead>\n",
              "    <tr style=\"text-align: right;\">\n",
              "      <th></th>\n",
              "      <th>AUC_PR</th>\n",
              "      <th>AUC_ROC</th>\n",
              "      <th>time</th>\n",
              "    </tr>\n",
              "  </thead>\n",
              "  <tbody>\n",
              "    <tr>\n",
              "      <th>OE</th>\n",
              "      <td>0.578944</td>\n",
              "      <td>0.592404</td>\n",
              "      <td>0.014089</td>\n",
              "    </tr>\n",
              "    <tr>\n",
              "      <th>OHE</th>\n",
              "      <td>0.661865</td>\n",
              "      <td>0.680032</td>\n",
              "      <td>0.029337</td>\n",
              "    </tr>\n",
              "    <tr>\n",
              "      <th>MTE</th>\n",
              "      <td>0.652694</td>\n",
              "      <td>0.664712</td>\n",
              "      <td>0.060050</td>\n",
              "    </tr>\n",
              "    <tr>\n",
              "      <th>MTE_noise</th>\n",
              "      <td>0.652561</td>\n",
              "      <td>0.654551</td>\n",
              "      <td>0.056157</td>\n",
              "    </tr>\n",
              "    <tr>\n",
              "      <th>MTE_smoothed</th>\n",
              "      <td>0.670817</td>\n",
              "      <td>0.664776</td>\n",
              "      <td>0.055861</td>\n",
              "    </tr>\n",
              "  </tbody>\n",
              "</table>\n",
              "</div>"
            ],
            "text/plain": [
              "                AUC_PR   AUC_ROC      time\n",
              "OE            0.578944  0.592404  0.014089\n",
              "OHE           0.661865  0.680032  0.029337\n",
              "MTE           0.652694  0.664712  0.060050\n",
              "MTE_noise     0.652561  0.654551  0.056157\n",
              "MTE_smoothed  0.670817  0.664776  0.055861"
            ]
          },
          "metadata": {},
          "output_type": "display_data"
        }
      ],
      "source": [
        "from importlib import reload\n",
        "import mean_target_encoder as mte\n",
        "reload(mte)\n",
        "\n",
        "\n",
        "pipeline = Pipeline(steps=[\n",
        "    ('mte', mte.MeanTargetSmoothedEncoder(columns=categorical, C=6)), # C подобрано эмпирически\n",
        "    ('regression', LogisticRegression(max_iter=100000))\n",
        "])\n",
        "\n",
        "\n",
        "timer.start()\n",
        "model = pipeline.fit(X_train, y_train)\n",
        "timer.stop()\n",
        "\n",
        "update_metrics_2(df_metrics_2, y_test, model.predict_proba(\n",
        "    X_test)[:, 1], timer.get_last(), 'MTE_smoothed')\n",
        "display(df_metrics_2)"
      ]
    },
    {
      "cell_type": "markdown",
      "metadata": {
        "id": "TksKMbr_P75d"
      },
      "source": [
        "#### **Задание 8. Числовые или категориальные?**  (0.5 балла)\n",
        "\n",
        "Теперь добавим числовые признаки к признакам-счетчикам.\n",
        "\n",
        "\n",
        "В данных есть пропуски - замените их средним значением признака\n",
        "\n"
      ]
    },
    {
      "cell_type": "code",
      "execution_count": null,
      "metadata": {
        "id": "NGE4O-alP75e"
      },
      "outputs": [
        {
          "data": {
            "text/plain": [
              "ID                  False\n",
              "Marital Status      False\n",
              "Gender              False\n",
              "Income              False\n",
              "Children            False\n",
              "Education           False\n",
              "Occupation          False\n",
              "Home Owner          False\n",
              "Cars                False\n",
              "Commute Distance    False\n",
              "Region              False\n",
              "Age                 False\n",
              "Purchased Bike      False\n",
              "dtype: bool"
            ]
          },
          "metadata": {},
          "output_type": "display_data"
        }
      ],
      "source": [
        "numeric.remove('ID')\n",
        "df[numeric] = df[numeric].fillna(df.mean())\n",
        "display(df.isna().any())"
      ]
    },
    {
      "cell_type": "markdown",
      "metadata": {
        "id": "JfqXdaqblnZo"
      },
      "source": [
        " Сейчас для числовых признаков мы ищем линейную зависимость, что в общем случае  может быть неверной гипотезой. Тем не менее, у этих признаков есть довольно много уникальных значений (сколько?), поэтому применять к ним one-hot кодирование может оказаться излишним. Попробуйте закодировать эти признаки с помощью счетчиков (вместе и по отдельности). Стало ли лучше?"
      ]
    },
    {
      "cell_type": "code",
      "execution_count": null,
      "metadata": {},
      "outputs": [
        {
          "name": "stdout",
          "output_type": "stream",
          "text": [
            "Unique numeric values count:\n"
          ]
        },
        {
          "data": {
            "text/html": [
              "<div>\n",
              "<style scoped>\n",
              "    .dataframe tbody tr th:only-of-type {\n",
              "        vertical-align: middle;\n",
              "    }\n",
              "\n",
              "    .dataframe tbody tr th {\n",
              "        vertical-align: top;\n",
              "    }\n",
              "\n",
              "    .dataframe thead th {\n",
              "        text-align: right;\n",
              "    }\n",
              "</style>\n",
              "<table border=\"1\" class=\"dataframe\">\n",
              "  <thead>\n",
              "    <tr style=\"text-align: right;\">\n",
              "      <th></th>\n",
              "      <th>count</th>\n",
              "      <th>values</th>\n",
              "    </tr>\n",
              "  </thead>\n",
              "  <tbody>\n",
              "    <tr>\n",
              "      <th>Income</th>\n",
              "      <td>17</td>\n",
              "      <td>[40000.0, 30000.0, 80000.0, 70000.0, 10000.0, ...</td>\n",
              "    </tr>\n",
              "    <tr>\n",
              "      <th>Children</th>\n",
              "      <td>7</td>\n",
              "      <td>[1.0, 3.0, 5.0, 0.0, 2.0, 4.0, 1.9102822580645...</td>\n",
              "    </tr>\n",
              "    <tr>\n",
              "      <th>Cars</th>\n",
              "      <td>6</td>\n",
              "      <td>[0.0, 1.0, 2.0, 4.0, 1.455095862764884, 3.0]</td>\n",
              "    </tr>\n",
              "    <tr>\n",
              "      <th>Age</th>\n",
              "      <td>54</td>\n",
              "      <td>[42.0, 43.0, 60.0, 41.0, 36.0, 50.0, 33.0, 58....</td>\n",
              "    </tr>\n",
              "  </tbody>\n",
              "</table>\n",
              "</div>"
            ],
            "text/plain": [
              "         count                                             values\n",
              "Income      17  [40000.0, 30000.0, 80000.0, 70000.0, 10000.0, ...\n",
              "Children     7  [1.0, 3.0, 5.0, 0.0, 2.0, 4.0, 1.9102822580645...\n",
              "Cars         6       [0.0, 1.0, 2.0, 4.0, 1.455095862764884, 3.0]\n",
              "Age         54  [42.0, 43.0, 60.0, 41.0, 36.0, 50.0, 33.0, 58...."
            ]
          },
          "metadata": {},
          "output_type": "display_data"
        }
      ],
      "source": [
        "print('Unique numeric values count:')\n",
        "unique_cnt_stats = pd.DataFrame(columns=['count', 'values'])\n",
        "for c in numeric:\n",
        "  unique_cnt_stats.loc[c] =[len(df[c].unique()), df[c].unique()] \n",
        "\n",
        "display(unique_cnt_stats)"
      ]
    },
    {
      "cell_type": "code",
      "execution_count": null,
      "metadata": {
        "id": "3p_jGTg-h3MG"
      },
      "outputs": [],
      "source": [
        "X_col = df.drop(columns=['Purchased Bike'])\n",
        "y = (df['Purchased Bike'] == 'Yes').astype('int64')\n",
        "\n",
        "X_train, X_test, y_train, y_test = train_test_split(X_col, y, test_size=0.25, random_state=777, stratify=y)"
      ]
    },
    {
      "cell_type": "code",
      "execution_count": null,
      "metadata": {},
      "outputs": [
        {
          "data": {
            "text/html": [
              "<div>\n",
              "<style scoped>\n",
              "    .dataframe tbody tr th:only-of-type {\n",
              "        vertical-align: middle;\n",
              "    }\n",
              "\n",
              "    .dataframe tbody tr th {\n",
              "        vertical-align: top;\n",
              "    }\n",
              "\n",
              "    .dataframe thead th {\n",
              "        text-align: right;\n",
              "    }\n",
              "</style>\n",
              "<table border=\"1\" class=\"dataframe\">\n",
              "  <thead>\n",
              "    <tr style=\"text-align: right;\">\n",
              "      <th></th>\n",
              "      <th>AUC_PR</th>\n",
              "      <th>AUC_ROC</th>\n",
              "      <th>time</th>\n",
              "    </tr>\n",
              "  </thead>\n",
              "  <tbody>\n",
              "    <tr>\n",
              "      <th>MTE(None)</th>\n",
              "      <td>0.623853</td>\n",
              "      <td>0.696571</td>\n",
              "      <td>0.052955</td>\n",
              "    </tr>\n",
              "    <tr>\n",
              "      <th>MTE(Cars)</th>\n",
              "      <td>0.531560</td>\n",
              "      <td>0.590641</td>\n",
              "      <td>0.059640</td>\n",
              "    </tr>\n",
              "    <tr>\n",
              "      <th>MTE(Children)</th>\n",
              "      <td>0.638360</td>\n",
              "      <td>0.705769</td>\n",
              "      <td>0.067222</td>\n",
              "    </tr>\n",
              "    <tr>\n",
              "      <th>MTE(Income)</th>\n",
              "      <td>0.623840</td>\n",
              "      <td>0.634872</td>\n",
              "      <td>0.077742</td>\n",
              "    </tr>\n",
              "    <tr>\n",
              "      <th>MTE(Age)</th>\n",
              "      <td>0.628272</td>\n",
              "      <td>0.701122</td>\n",
              "      <td>0.135514</td>\n",
              "    </tr>\n",
              "    <tr>\n",
              "      <th>MTE(All)</th>\n",
              "      <td>0.470470</td>\n",
              "      <td>0.470256</td>\n",
              "      <td>0.155830</td>\n",
              "    </tr>\n",
              "  </tbody>\n",
              "</table>\n",
              "</div>"
            ],
            "text/plain": [
              "                 AUC_PR   AUC_ROC      time\n",
              "MTE(None)      0.623853  0.696571  0.052955\n",
              "MTE(Cars)      0.531560  0.590641  0.059640\n",
              "MTE(Children)  0.638360  0.705769  0.067222\n",
              "MTE(Income)    0.623840  0.634872  0.077742\n",
              "MTE(Age)       0.628272  0.701122  0.135514\n",
              "MTE(All)       0.470470  0.470256  0.155830"
            ]
          },
          "metadata": {},
          "output_type": "display_data"
        }
      ],
      "source": [
        "from importlib import reload\n",
        "import mean_target_encoder as mte\n",
        "reload(mte)\n",
        "\n",
        "df_metrics_comb = pd.DataFrame(columns=['AUC_PR', 'AUC_ROC', 'time'])\n",
        "\n",
        "def run_mte(numeric, categorical, stat_name):\n",
        "    steps = []\n",
        "    if len(categorical) > 0:\n",
        "        steps += [('mte', mte.MeanTargetEncoder(columns=categorical))]\n",
        "    if len(numeric) > 0:\n",
        "        steps += [('ct', ColumnTransformer([('scaling', StandardScaler(), numeric)]))]\n",
        "    steps += [('regression', LogisticRegression(max_iter=100000))]\n",
        "\n",
        "    pipeline = Pipeline(steps=steps)\n",
        "\n",
        "    timer.start()\n",
        "    model = pipeline.fit(X_train, y_train)\n",
        "    timer.stop()\n",
        "\n",
        "    update_metrics_2(df_metrics_comb, y_test, model.predict_proba(\n",
        "        X_test)[:, 1], timer.get_last(), stat_name)\n",
        "\n",
        "\n",
        "run_mte(numeric, categorical, f'MTE(None)')\n",
        "numeric_set = set(numeric)\n",
        "categorical_set = set(categorical)\n",
        "for feat in numeric_set:\n",
        "    new_numeric = numeric_set ^ set([feat])\n",
        "    new_categorical = categorical_set | set([feat])\n",
        "    run_mte(list(new_numeric), list(new_categorical), f'MTE({feat})')\n",
        "run_mte([], numeric+categorical, f'MTE(All)')\n",
        "\n",
        "display(df_metrics_comb)"
      ]
    },
    {
      "cell_type": "markdown",
      "metadata": {},
      "source": [
        "```\n",
        "Как можно заметить разные комбинации дают разные результаты, какой-то закономерности с кол-во уникальных значений не наблюдается, но все фичи воспринимать как категориальные и кодировать их через MTE -- не самая хорошая идея\n",
        "```"
      ]
    },
    {
      "cell_type": "markdown",
      "metadata": {
        "id": "ia0qk__0iNCS"
      },
      "source": [
        "> __Замечание.__ Усложнение методов вычисления счётчиков не делают результаты модели гарантированно лучше. Особенно с учётом того, что логистическая регрессия не такая сложная модель, чтобы переобучаться. Поэтому вы необязательно должны были получать на каждом шаге всё лучшие и лучшие результаты (но необходимые результаты у вас должны были получиться)."
      ]
    },
    {
      "cell_type": "code",
      "execution_count": null,
      "metadata": {},
      "outputs": [
        {
          "data": {
            "text/html": [
              "<div>\n",
              "<style scoped>\n",
              "    .dataframe tbody tr th:only-of-type {\n",
              "        vertical-align: middle;\n",
              "    }\n",
              "\n",
              "    .dataframe tbody tr th {\n",
              "        vertical-align: top;\n",
              "    }\n",
              "\n",
              "    .dataframe thead th {\n",
              "        text-align: right;\n",
              "    }\n",
              "</style>\n",
              "<table border=\"1\" class=\"dataframe\">\n",
              "  <thead>\n",
              "    <tr style=\"text-align: right;\">\n",
              "      <th></th>\n",
              "      <th>AUC_PR</th>\n",
              "      <th>AUC_ROC</th>\n",
              "      <th>time</th>\n",
              "    </tr>\n",
              "  </thead>\n",
              "  <tbody>\n",
              "    <tr>\n",
              "      <th>OE</th>\n",
              "      <td>0.578944</td>\n",
              "      <td>0.592404</td>\n",
              "      <td>0.014089</td>\n",
              "    </tr>\n",
              "    <tr>\n",
              "      <th>OHE</th>\n",
              "      <td>0.661865</td>\n",
              "      <td>0.680032</td>\n",
              "      <td>0.029337</td>\n",
              "    </tr>\n",
              "    <tr>\n",
              "      <th>MTE</th>\n",
              "      <td>0.652694</td>\n",
              "      <td>0.664712</td>\n",
              "      <td>0.060050</td>\n",
              "    </tr>\n",
              "    <tr>\n",
              "      <th>MTE_noise</th>\n",
              "      <td>0.652561</td>\n",
              "      <td>0.654551</td>\n",
              "      <td>0.056157</td>\n",
              "    </tr>\n",
              "    <tr>\n",
              "      <th>MTE_smoothed</th>\n",
              "      <td>0.670817</td>\n",
              "      <td>0.664776</td>\n",
              "      <td>0.055861</td>\n",
              "    </tr>\n",
              "  </tbody>\n",
              "</table>\n",
              "</div>"
            ],
            "text/plain": [
              "                AUC_PR   AUC_ROC      time\n",
              "OE            0.578944  0.592404  0.014089\n",
              "OHE           0.661865  0.680032  0.029337\n",
              "MTE           0.652694  0.664712  0.060050\n",
              "MTE_noise     0.652561  0.654551  0.056157\n",
              "MTE_smoothed  0.670817  0.664776  0.055861"
            ]
          },
          "metadata": {},
          "output_type": "display_data"
        }
      ],
      "source": [
        "display(df_metrics_2)"
      ]
    },
    {
      "cell_type": "markdown",
      "metadata": {
        "id": "2mwXyUnOP75e"
      },
      "source": [
        "---\n",
        "\n",
        "Как мы могли пронаблюдать, счётчики являются конкурентной альтернативой one-hot-кодированию. Опишите, какие плюсы и минусы использования счётчиков по сравнению с one-hot-кодированием вы заметили.\n",
        "\n",
        "__Ответ:__\n",
        "\n",
        "```\n",
        "* OHE нужно меньше времени для кодирования (так как алгоритм достаточно простой)\n",
        "* MTE же тратит меньше памяти и не увеличивает кол-во признаков, из минусов - существует вероятность переобучения.\n",
        "* По качеству классический MTE немного уступает OHE, но если подшаманить, то можно получить достойное улучшение по сравнению с OHE\n",
        "```\n",
        "\n",
        "---"
      ]
    },
    {
      "cell_type": "code",
      "execution_count": null,
      "metadata": {},
      "outputs": [],
      "source": [
        "1/0"
      ]
    },
    {
      "cell_type": "markdown",
      "metadata": {
        "id": "_oU4I7HjP75f"
      },
      "source": [
        "# Часть 3. Отбор признаков (2 балла)"
      ]
    },
    {
      "cell_type": "markdown",
      "metadata": {
        "id": "EsmcHDoZNu5l"
      },
      "source": [
        "Загрузим данные [UCI Adult Dataset](https://archive.ics.uci.edu/ml/datasets/Adult). Этот набор данных содержит информацию о годовых доходах отдельных людей. В качестве признакового описания используется различная информация о человеке (образование, профессия, брачный статус и т.д.). Целевая переменная является бинарной: больше ли годовой доход 50K долларов или нет."
      ]
    },
    {
      "cell_type": "code",
      "execution_count": null,
      "metadata": {
        "id": "hk7jX8EsNrz2"
      },
      "outputs": [],
      "source": [
        "!wget https://archive.ics.uci.edu/ml/machine-learning-databases/adult/adult.data"
      ]
    },
    {
      "cell_type": "code",
      "execution_count": null,
      "metadata": {
        "id": "XVqw4RQ5iXRC"
      },
      "outputs": [
        {
          "data": {
            "text/html": [
              "<div>\n",
              "<style scoped>\n",
              "    .dataframe tbody tr th:only-of-type {\n",
              "        vertical-align: middle;\n",
              "    }\n",
              "\n",
              "    .dataframe tbody tr th {\n",
              "        vertical-align: top;\n",
              "    }\n",
              "\n",
              "    .dataframe thead th {\n",
              "        text-align: right;\n",
              "    }\n",
              "</style>\n",
              "<table border=\"1\" class=\"dataframe\">\n",
              "  <thead>\n",
              "    <tr style=\"text-align: right;\">\n",
              "      <th></th>\n",
              "      <th>age</th>\n",
              "      <th>workclass</th>\n",
              "      <th>fnlwgt</th>\n",
              "      <th>education</th>\n",
              "      <th>education-num</th>\n",
              "      <th>marital-status</th>\n",
              "      <th>occupation</th>\n",
              "      <th>relationship</th>\n",
              "      <th>race</th>\n",
              "      <th>sex</th>\n",
              "      <th>capital-gain</th>\n",
              "      <th>capital-loss</th>\n",
              "      <th>hours-per-week</th>\n",
              "      <th>native-country</th>\n",
              "      <th>income</th>\n",
              "    </tr>\n",
              "  </thead>\n",
              "  <tbody>\n",
              "    <tr>\n",
              "      <th>27595</th>\n",
              "      <td>59</td>\n",
              "      <td>?</td>\n",
              "      <td>145574</td>\n",
              "      <td>Assoc-acdm</td>\n",
              "      <td>12</td>\n",
              "      <td>Married-civ-spouse</td>\n",
              "      <td>?</td>\n",
              "      <td>Husband</td>\n",
              "      <td>White</td>\n",
              "      <td>Male</td>\n",
              "      <td>0</td>\n",
              "      <td>0</td>\n",
              "      <td>35</td>\n",
              "      <td>United-States</td>\n",
              "      <td>1</td>\n",
              "    </tr>\n",
              "  </tbody>\n",
              "</table>\n",
              "</div>"
            ],
            "text/plain": [
              "       age workclass  fnlwgt    education  education-num       marital-status  \\\n",
              "27595   59         ?  145574   Assoc-acdm             12   Married-civ-spouse   \n",
              "\n",
              "      occupation relationship    race    sex  capital-gain  capital-loss  \\\n",
              "27595          ?      Husband   White   Male             0             0   \n",
              "\n",
              "       hours-per-week  native-country  income  \n",
              "27595              35   United-States       1  "
            ]
          },
          "execution_count": 484,
          "metadata": {},
          "output_type": "execute_result"
        }
      ],
      "source": [
        "columns = ['age', 'workclass', 'fnlwgt', 'education',\n",
        "           'education-num', 'marital-status', 'occupation',\n",
        "           'relationship', 'race', 'sex', 'capital-gain',\n",
        "           'capital-loss', 'hours-per-week', 'native-country',\n",
        "           'income']\n",
        "\n",
        "categorical = [\n",
        "    'education',\n",
        "    'marital-status',\n",
        "    'native-country',\n",
        "    'occupation',\n",
        "    'race',\n",
        "    'relationship',\n",
        "    'sex',\n",
        "    'workclass',\n",
        "]\n",
        "\n",
        "numeric = [\n",
        "    'age',\n",
        "    'capital-gain',\n",
        "    'capital-loss',\n",
        "    'education-num',\n",
        "    'fnlwgt',\n",
        "    'hours-per-week',\n",
        "]\n",
        "\n",
        "\n",
        "df = pd.read_csv('adult.data', header=None, names=columns)\n",
        "df['income'] = (df['income'] != \" <=50K\").astype('int32')\n",
        "df.sample()"
      ]
    },
    {
      "cell_type": "markdown",
      "metadata": {
        "id": "JKb6BsQMP75f"
      },
      "source": [
        "Важной частью процесса построения модели является отбор признаков. На практике многие признаки оказывают малое влияние на модель (при этом их расчёт занимает время) или даже негативно сказываются на качестве модели. Попробуем несколько подходов отбора признаков, оценим, как они влияют на качество модели и сколько времени занимают.\n",
        "\n"
      ]
    },
    {
      "cell_type": "markdown",
      "metadata": {
        "id": "iGqys4ZpiXjr"
      },
      "source": [
        "Разделите выборку на обучающую и тестовую в соотношении 3:1. Зафиксируйте `random_state=777`, также используйте `stratify`."
      ]
    },
    {
      "cell_type": "code",
      "execution_count": null,
      "metadata": {
        "id": "M2TT35c_iYc-"
      },
      "outputs": [],
      "source": [
        "X_col = df.drop(['income'], axis=1)\n",
        "y = df['income']\n",
        "X_train, X_test, y_train, y_test = train_test_split(X_col, y, test_size=0.25, random_state=777, stratify = y)"
      ]
    },
    {
      "cell_type": "code",
      "execution_count": null,
      "metadata": {},
      "outputs": [],
      "source": [
        "\n",
        "df_metrics_3 = pd.DataFrame(\n",
        "    columns=['AUC_PR', 'AUC_ROC', 'time'])\n",
        "def update_metrics_3(y_test, y_pred, time, name: str):\n",
        "  # df_metrics_3 = pd.DataFrame(columns=['AUC_PR', 'time'])\n",
        "  df_metrics_3.loc[name] = [\n",
        "      pr_auc_score(y_test, y_pred),\n",
        "      roc_auc_score(y_test, y_pred),\n",
        "      time\n",
        "  ]"
      ]
    },
    {
      "cell_type": "markdown",
      "metadata": {
        "id": "-uAlw2X-P75f"
      },
      "source": [
        "Давайте закодируем все категориальные признаки с помощью One-hot Encoding. Сколько новых признаков мы получим?"
      ]
    },
    {
      "cell_type": "code",
      "execution_count": null,
      "metadata": {
        "id": "ILg-JGugP75f"
      },
      "outputs": [
        {
          "name": "stdout",
          "output_type": "stream",
          "text": [
            "Not encoded features count: 14\n",
            "OH  encoded features count: 102 (+88)\n"
          ]
        }
      ],
      "source": [
        "original_count = X_train.shape[1]\n",
        "ohe_count = OneHotEncoder(handle_unknown=\"ignore\").fit_transform(X_train[categorical], y_train).shape[1]\n",
        "\n",
        "print(f'Not encoded features count: {original_count}')\n",
        "print(f'OH  encoded features count: {ohe_count} (+{ohe_count-original_count})')"
      ]
    },
    {
      "cell_type": "markdown",
      "metadata": {
        "id": "kq-XZwf3P75g"
      },
      "source": [
        "В качестве основной модели будем использовать логистическую регрессию, а целевой метрики — `AUC-PR`. Обучите модель и посчитайте качество на тестовой выборке. Давайте запомним полученное значение."
      ]
    },
    {
      "cell_type": "code",
      "execution_count": null,
      "metadata": {
        "id": "XMH5D_6OP75g"
      },
      "outputs": [
        {
          "data": {
            "text/html": [
              "<div>\n",
              "<style scoped>\n",
              "    .dataframe tbody tr th:only-of-type {\n",
              "        vertical-align: middle;\n",
              "    }\n",
              "\n",
              "    .dataframe tbody tr th {\n",
              "        vertical-align: top;\n",
              "    }\n",
              "\n",
              "    .dataframe thead th {\n",
              "        text-align: right;\n",
              "    }\n",
              "</style>\n",
              "<table border=\"1\" class=\"dataframe\">\n",
              "  <thead>\n",
              "    <tr style=\"text-align: right;\">\n",
              "      <th></th>\n",
              "      <th>AUC_PR</th>\n",
              "      <th>AUC_ROC</th>\n",
              "      <th>time</th>\n",
              "    </tr>\n",
              "  </thead>\n",
              "  <tbody>\n",
              "    <tr>\n",
              "      <th>original</th>\n",
              "      <td>0.76713</td>\n",
              "      <td>0.906985</td>\n",
              "      <td>0.704727</td>\n",
              "    </tr>\n",
              "  </tbody>\n",
              "</table>\n",
              "</div>"
            ],
            "text/plain": [
              "           AUC_PR   AUC_ROC      time\n",
              "original  0.76713  0.906985  0.704727"
            ]
          },
          "metadata": {},
          "output_type": "display_data"
        }
      ],
      "source": [
        "default_col_tr = ColumnTransformer([\n",
        "    ('ohe', OneHotEncoder(handle_unknown=\"ignore\"), categorical),\n",
        "    ('scaling', StandardScaler(), numeric)\n",
        "])\n",
        "\n",
        "pipeline = Pipeline(steps=[\n",
        "    ('default_ct', default_col_tr),\n",
        "    ('reg', LogisticRegression(max_iter=100000))\n",
        "])\n",
        "\n",
        "timer.start()\n",
        "model_1 = pipeline.fit(X_train, y_train)\n",
        "timer.stop()\n",
        "\n",
        "update_metrics_3(y_test, model_1.predict_proba(X_test)[:,1],\n",
        "                 timer.get_last(), 'original')\n",
        "display(df_metrics_3)"
      ]
    },
    {
      "cell_type": "markdown",
      "metadata": {
        "id": "QD7jIiDeP75g"
      },
      "source": [
        "#### __Задание 9. Встроенные методы (0.5 балла)__"
      ]
    },
    {
      "cell_type": "markdown",
      "metadata": {
        "id": "bf2T9xtUP75g"
      },
      "source": [
        "Допустим, мы хотим оставить только 40 лучших признаков. Попробуем сделать это несколькими способами.\n",
        "\n",
        "Начнём с отборам признаков с помощью линейной модели. Как известно, веса линейной модели означают вклад каждого признака в предсказание модели, а значит, модуль этого вклада можно интерпретировать как важность признаков. Такой метод отбора называются встроенным или embedded method, так как он заложен в особенности модели.\n",
        "\n",
        "Оставьте 40 признаков с наибольшим модулем соответствующего параметра линейной модели. Обучите модели заново и оцените её качество. Замерьте скорость такого отбора признаков.\n",
        "\n"
      ]
    },
    {
      "cell_type": "code",
      "execution_count": null,
      "metadata": {
        "id": "wqOH9EunP75g"
      },
      "outputs": [
        {
          "name": "stdout",
          "output_type": "stream",
          "text": [
            "LOG_DEBUG: top ids [ 84  61  66  10  97  14  68 104  86  64  98  81  37 102 107  59  62  92\n",
            "  77  32  28  47  53  75   3   4  94  78 105  45  76  33  34  24  25  69\n",
            "  90  18  17 103]\n"
          ]
        },
        {
          "data": {
            "text/html": [
              "<div>\n",
              "<style scoped>\n",
              "    .dataframe tbody tr th:only-of-type {\n",
              "        vertical-align: middle;\n",
              "    }\n",
              "\n",
              "    .dataframe tbody tr th {\n",
              "        vertical-align: top;\n",
              "    }\n",
              "\n",
              "    .dataframe thead th {\n",
              "        text-align: right;\n",
              "    }\n",
              "</style>\n",
              "<table border=\"1\" class=\"dataframe\">\n",
              "  <thead>\n",
              "    <tr style=\"text-align: right;\">\n",
              "      <th></th>\n",
              "      <th>AUC_PR</th>\n",
              "      <th>AUC_ROC</th>\n",
              "      <th>time</th>\n",
              "    </tr>\n",
              "  </thead>\n",
              "  <tbody>\n",
              "    <tr>\n",
              "      <th>original</th>\n",
              "      <td>0.767130</td>\n",
              "      <td>0.906985</td>\n",
              "      <td>0.704727</td>\n",
              "    </tr>\n",
              "    <tr>\n",
              "      <th>TWS</th>\n",
              "      <td>0.764018</td>\n",
              "      <td>0.905327</td>\n",
              "      <td>0.444363</td>\n",
              "    </tr>\n",
              "  </tbody>\n",
              "</table>\n",
              "</div>"
            ],
            "text/plain": [
              "            AUC_PR   AUC_ROC      time\n",
              "original  0.767130  0.906985  0.704727\n",
              "TWS       0.764018  0.905327  0.444363"
            ]
          },
          "metadata": {},
          "output_type": "display_data"
        }
      ],
      "source": [
        "from importlib import reload\n",
        "import top_select_transformer as tst\n",
        "reload(tst)\n",
        "\n",
        "pipeline = Pipeline(steps=[\n",
        "    ('default_ct', default_col_tr),\n",
        "    ('twst', tst.TSTransformer(40, model_1['reg'].coef_[0])),\n",
        "    ('reg', LogisticRegression(max_iter=100000))\n",
        "])\n",
        "\n",
        "\n",
        "timer.start()\n",
        "model_2 = pipeline.fit(X_train, y_train)\n",
        "timer.stop()\n",
        "\n",
        "update_metrics_3(y_test, model_2.predict_proba(X_test)[:,1],\n",
        "                 timer.get_last(), 'TWS')\n",
        "display(df_metrics_3)"
      ]
    },
    {
      "cell_type": "markdown",
      "metadata": {
        "id": "CCmtS99eVVrC"
      },
      "source": [
        "Изменилось ли качество? Как?\n",
        "\n",
        "```\n",
        "Качество немного ухудшилось, но улучшилось время\n",
        "```"
      ]
    },
    {
      "cell_type": "markdown",
      "metadata": {
        "id": "E5y5hVyYP75h"
      },
      "source": [
        "Подумаем, что мы не учли. Мы действовали в предположении, что признаки вносят вклад равномерно, и не учитывали их масштаб. Если мы умножим один из признаков в 100 раз, то без учёта регуляризации его вес уменьшится в эти же 100 раз. А мы на основе этого отбираем признаки! Давайте сначала отмасштабируем признаки одним из способов, а только потом будем удалять признаки.\n",
        "\n",
        "Кстати, в таком случае надо пересчитать качество на всех признаках (сделайте это ниже). Если вы сделали нормирование признаков в самом начале, то попробуйте отобрать признаки на неотмасштабированных данных."
      ]
    },
    {
      "cell_type": "code",
      "execution_count": null,
      "metadata": {
        "id": "qXytEuBgP75h"
      },
      "outputs": [
        {
          "data": {
            "text/html": [
              "<div>\n",
              "<style scoped>\n",
              "    .dataframe tbody tr th:only-of-type {\n",
              "        vertical-align: middle;\n",
              "    }\n",
              "\n",
              "    .dataframe tbody tr th {\n",
              "        vertical-align: top;\n",
              "    }\n",
              "\n",
              "    .dataframe thead th {\n",
              "        text-align: right;\n",
              "    }\n",
              "</style>\n",
              "<table border=\"1\" class=\"dataframe\">\n",
              "  <thead>\n",
              "    <tr style=\"text-align: right;\">\n",
              "      <th></th>\n",
              "      <th>AUC_PR</th>\n",
              "      <th>AUC_ROC</th>\n",
              "      <th>time</th>\n",
              "    </tr>\n",
              "  </thead>\n",
              "  <tbody>\n",
              "    <tr>\n",
              "      <th>original</th>\n",
              "      <td>0.767130</td>\n",
              "      <td>0.906985</td>\n",
              "      <td>0.704727</td>\n",
              "    </tr>\n",
              "    <tr>\n",
              "      <th>TWS</th>\n",
              "      <td>0.764018</td>\n",
              "      <td>0.905327</td>\n",
              "      <td>0.444363</td>\n",
              "    </tr>\n",
              "    <tr>\n",
              "      <th>original(no scaling)</th>\n",
              "      <td>0.686027</td>\n",
              "      <td>0.881437</td>\n",
              "      <td>0.428107</td>\n",
              "    </tr>\n",
              "  </tbody>\n",
              "</table>\n",
              "</div>"
            ],
            "text/plain": [
              "                        AUC_PR   AUC_ROC      time\n",
              "original              0.767130  0.906985  0.704727\n",
              "TWS                   0.764018  0.905327  0.444363\n",
              "original(no scaling)  0.686027  0.881437  0.428107"
            ]
          },
          "metadata": {},
          "output_type": "display_data"
        }
      ],
      "source": [
        "pipeline = Pipeline(steps=[\n",
        "    ('ct', ColumnTransformer([\n",
        "        ('ohe', OneHotEncoder(handle_unknown=\"ignore\"), categorical)\n",
        "    ])),\n",
        "    ('reg', LogisticRegression(max_iter=100000))\n",
        "])\n",
        "\n",
        "timer.start()\n",
        "model_3 = pipeline.fit(X_train, y_train)\n",
        "timer.stop()\n",
        "\n",
        "update_metrics_3(y_test, model_3.predict_proba(X_test)[:,1],\n",
        "                 timer.get_last(), 'original(no scaling)')\n",
        "display(df_metrics_3)"
      ]
    },
    {
      "cell_type": "code",
      "execution_count": null,
      "metadata": {},
      "outputs": [
        {
          "name": "stdout",
          "output_type": "stream",
          "text": [
            "LOG_DEBUG: top ids [15 82 37 89 97 66 44 68 61 84 81  8  7 64 86 62 92 77 28 47 98 32 53 78\n",
            " 75 94 76 34 45 33  9 25 24 69 90 17 18 12 14 10]\n"
          ]
        },
        {
          "data": {
            "text/html": [
              "<div>\n",
              "<style scoped>\n",
              "    .dataframe tbody tr th:only-of-type {\n",
              "        vertical-align: middle;\n",
              "    }\n",
              "\n",
              "    .dataframe tbody tr th {\n",
              "        vertical-align: top;\n",
              "    }\n",
              "\n",
              "    .dataframe thead th {\n",
              "        text-align: right;\n",
              "    }\n",
              "</style>\n",
              "<table border=\"1\" class=\"dataframe\">\n",
              "  <thead>\n",
              "    <tr style=\"text-align: right;\">\n",
              "      <th></th>\n",
              "      <th>AUC_PR</th>\n",
              "      <th>AUC_ROC</th>\n",
              "      <th>time</th>\n",
              "    </tr>\n",
              "  </thead>\n",
              "  <tbody>\n",
              "    <tr>\n",
              "      <th>original</th>\n",
              "      <td>0.767130</td>\n",
              "      <td>0.906985</td>\n",
              "      <td>0.704727</td>\n",
              "    </tr>\n",
              "    <tr>\n",
              "      <th>TWS</th>\n",
              "      <td>0.764018</td>\n",
              "      <td>0.905327</td>\n",
              "      <td>0.444363</td>\n",
              "    </tr>\n",
              "    <tr>\n",
              "      <th>original(no scaling)</th>\n",
              "      <td>0.686027</td>\n",
              "      <td>0.881437</td>\n",
              "      <td>0.428107</td>\n",
              "    </tr>\n",
              "    <tr>\n",
              "      <th>TWS(no scaling)</th>\n",
              "      <td>0.681736</td>\n",
              "      <td>0.876365</td>\n",
              "      <td>0.299888</td>\n",
              "    </tr>\n",
              "  </tbody>\n",
              "</table>\n",
              "</div>"
            ],
            "text/plain": [
              "                        AUC_PR   AUC_ROC      time\n",
              "original              0.767130  0.906985  0.704727\n",
              "TWS                   0.764018  0.905327  0.444363\n",
              "original(no scaling)  0.686027  0.881437  0.428107\n",
              "TWS(no scaling)       0.681736  0.876365  0.299888"
            ]
          },
          "metadata": {},
          "output_type": "display_data"
        }
      ],
      "source": [
        "from importlib import reload\n",
        "import top_select_transformer as tst\n",
        "reload(tst)\n",
        "\n",
        "\n",
        "pipeline = Pipeline(steps=[\n",
        "    ('default_ct', default_col_tr),\n",
        "    ('twst', tst.TSTransformer(40, model_3['reg'].coef_[0])),\n",
        "    ('regression', LogisticRegression(max_iter=100000))\n",
        "])\n",
        "\n",
        "timer.start()\n",
        "model_4 = pipeline.fit(X_train, y_train)\n",
        "timer.stop()\n",
        "\n",
        "update_metrics_3(y_test, model_4.predict_proba(X_test)[:,1],\n",
        "                 timer.get_last(), 'TWS(no scaling)')\n",
        "display(df_metrics_3)"
      ]
    },
    {
      "cell_type": "markdown",
      "metadata": {},
      "source": [
        "Что получилось?\n",
        "\n",
        "```\n",
        "Как видим, без мастабирования результат ухудшился еще сильнее\n",
        "\n",
        "Также можем заметить, что набор самых весомых фичей также отличается от варианта с масштабированием\n",
        "```"
      ]
    },
    {
      "cell_type": "markdown",
      "metadata": {
        "id": "OLZJRpxjP75h"
      },
      "source": [
        "Вопрос на засыпку: one-hot кодирование возвращает нам единичные признаки-индикаторы. Попробуйте также отскалировать их, как и обычные числовые, и снова выбрать 40 главных по вкладу признаков. Изменился ли их список? Изменится ли качество?"
      ]
    },
    {
      "cell_type": "code",
      "execution_count": null,
      "metadata": {
        "id": "VpGE8ll5P75h"
      },
      "outputs": [
        {
          "data": {
            "text/html": [
              "<div>\n",
              "<style scoped>\n",
              "    .dataframe tbody tr th:only-of-type {\n",
              "        vertical-align: middle;\n",
              "    }\n",
              "\n",
              "    .dataframe tbody tr th {\n",
              "        vertical-align: top;\n",
              "    }\n",
              "\n",
              "    .dataframe thead th {\n",
              "        text-align: right;\n",
              "    }\n",
              "</style>\n",
              "<table border=\"1\" class=\"dataframe\">\n",
              "  <thead>\n",
              "    <tr style=\"text-align: right;\">\n",
              "      <th></th>\n",
              "      <th>AUC_PR</th>\n",
              "      <th>AUC_ROC</th>\n",
              "      <th>time</th>\n",
              "    </tr>\n",
              "  </thead>\n",
              "  <tbody>\n",
              "    <tr>\n",
              "      <th>original</th>\n",
              "      <td>0.767130</td>\n",
              "      <td>0.906985</td>\n",
              "      <td>0.704727</td>\n",
              "    </tr>\n",
              "    <tr>\n",
              "      <th>TWS</th>\n",
              "      <td>0.764018</td>\n",
              "      <td>0.905327</td>\n",
              "      <td>0.444363</td>\n",
              "    </tr>\n",
              "    <tr>\n",
              "      <th>original(no scaling)</th>\n",
              "      <td>0.686027</td>\n",
              "      <td>0.881437</td>\n",
              "      <td>0.428107</td>\n",
              "    </tr>\n",
              "    <tr>\n",
              "      <th>TWS(no scaling)</th>\n",
              "      <td>0.681736</td>\n",
              "      <td>0.876365</td>\n",
              "      <td>0.299888</td>\n",
              "    </tr>\n",
              "    <tr>\n",
              "      <th>original(scale all)</th>\n",
              "      <td>0.684410</td>\n",
              "      <td>0.881256</td>\n",
              "      <td>0.675404</td>\n",
              "    </tr>\n",
              "  </tbody>\n",
              "</table>\n",
              "</div>"
            ],
            "text/plain": [
              "                        AUC_PR   AUC_ROC      time\n",
              "original              0.767130  0.906985  0.704727\n",
              "TWS                   0.764018  0.905327  0.444363\n",
              "original(no scaling)  0.686027  0.881437  0.428107\n",
              "TWS(no scaling)       0.681736  0.876365  0.299888\n",
              "original(scale all)   0.684410  0.881256  0.675404"
            ]
          },
          "metadata": {},
          "output_type": "display_data"
        }
      ],
      "source": [
        "pipeline = Pipeline(steps=[\n",
        "    ('ct', ColumnTransformer([\n",
        "        ('ohe', OneHotEncoder(handle_unknown=\"ignore\"), categorical),\n",
        "    ])),\n",
        "    ('scaling', StandardScaler(with_mean=False)),\n",
        "    ('reg', LogisticRegression(max_iter=100000))\n",
        "])\n",
        "\n",
        "timer.start()\n",
        "model_5 = pipeline.fit(X_train, y_train)\n",
        "timer.stop()\n",
        "\n",
        "update_metrics_3(y_test, model_5.predict_proba(X_test)[:,1],\n",
        "                 timer.get_last(), 'original(scale all)')\n",
        "display(df_metrics_3)"
      ]
    },
    {
      "cell_type": "code",
      "execution_count": null,
      "metadata": {},
      "outputs": [
        {
          "name": "stdout",
          "output_type": "stream",
          "text": [
            "LOG_DEBUG: top ids [60 59 41 37 44 61 68 64 84 47 81 28 32  7  8 24 97 33 53 45 34 25 17 62\n",
            " 89 78 76 98 94 77 75 86 92 90 10 14  9 69 12 18]\n"
          ]
        },
        {
          "data": {
            "text/html": [
              "<div>\n",
              "<style scoped>\n",
              "    .dataframe tbody tr th:only-of-type {\n",
              "        vertical-align: middle;\n",
              "    }\n",
              "\n",
              "    .dataframe tbody tr th {\n",
              "        vertical-align: top;\n",
              "    }\n",
              "\n",
              "    .dataframe thead th {\n",
              "        text-align: right;\n",
              "    }\n",
              "</style>\n",
              "<table border=\"1\" class=\"dataframe\">\n",
              "  <thead>\n",
              "    <tr style=\"text-align: right;\">\n",
              "      <th></th>\n",
              "      <th>AUC_PR</th>\n",
              "      <th>AUC_ROC</th>\n",
              "      <th>time</th>\n",
              "    </tr>\n",
              "  </thead>\n",
              "  <tbody>\n",
              "    <tr>\n",
              "      <th>original</th>\n",
              "      <td>0.767130</td>\n",
              "      <td>0.906985</td>\n",
              "      <td>0.704727</td>\n",
              "    </tr>\n",
              "    <tr>\n",
              "      <th>TWS</th>\n",
              "      <td>0.764018</td>\n",
              "      <td>0.905327</td>\n",
              "      <td>0.444363</td>\n",
              "    </tr>\n",
              "    <tr>\n",
              "      <th>original(no scaling)</th>\n",
              "      <td>0.686027</td>\n",
              "      <td>0.881437</td>\n",
              "      <td>0.428107</td>\n",
              "    </tr>\n",
              "    <tr>\n",
              "      <th>TWS(no scaling)</th>\n",
              "      <td>0.681736</td>\n",
              "      <td>0.876365</td>\n",
              "      <td>0.299888</td>\n",
              "    </tr>\n",
              "    <tr>\n",
              "      <th>original(scale all)</th>\n",
              "      <td>0.684410</td>\n",
              "      <td>0.881256</td>\n",
              "      <td>0.675404</td>\n",
              "    </tr>\n",
              "    <tr>\n",
              "      <th>TWS(scale all)</th>\n",
              "      <td>0.676419</td>\n",
              "      <td>0.873007</td>\n",
              "      <td>0.329990</td>\n",
              "    </tr>\n",
              "  </tbody>\n",
              "</table>\n",
              "</div>"
            ],
            "text/plain": [
              "                        AUC_PR   AUC_ROC      time\n",
              "original              0.767130  0.906985  0.704727\n",
              "TWS                   0.764018  0.905327  0.444363\n",
              "original(no scaling)  0.686027  0.881437  0.428107\n",
              "TWS(no scaling)       0.681736  0.876365  0.299888\n",
              "original(scale all)   0.684410  0.881256  0.675404\n",
              "TWS(scale all)        0.676419  0.873007  0.329990"
            ]
          },
          "metadata": {},
          "output_type": "display_data"
        }
      ],
      "source": [
        "from importlib import reload\n",
        "import top_select_transformer as tst\n",
        "reload(tst)\n",
        "\n",
        "pipeline = Pipeline(steps=[\n",
        "    ('default_ct', default_col_tr),\n",
        "    ('twst', tst.TSTransformer(40, model_5['reg'].coef_[0])),\n",
        "    ('regression', LogisticRegression(max_iter=100000))\n",
        "])\n",
        "\n",
        "timer.start()\n",
        "model_6 = pipeline.fit(X_train, y_train)\n",
        "timer.stop()\n",
        "\n",
        "update_metrics_3(y_test, model_6.predict_proba(X_test)[:,1],\n",
        "                 timer.get_last(), 'TWS(scale all)')\n",
        "display(df_metrics_3)"
      ]
    },
    {
      "cell_type": "markdown",
      "metadata": {},
      "source": [
        "Изменился ли их список? Изменится ли качество?\n",
        "\n",
        "\n",
        "```\n",
        "\n",
        "Num scaled:   [84  61  66  10  97  14  68 104  86  64  98  81  37 102 107  59  62  92 ...]\n",
        "None scaled:  [15  82  37  89  97  66  44  68  61  84  81   8   7  64  86  62  92  77 ...]\n",
        "All scaled:   [60  59  41  37  44  61  68  64  84  47  81  28  32   7   8  24  97  33 ...]\n",
        "\n",
        "Список ожидаемо изменился? Качество просело еще больше\n",
        "```"
      ]
    },
    {
      "cell_type": "markdown",
      "metadata": {
        "id": "3nK78Ag2P75i"
      },
      "source": [
        "#### __Задание 10. Методы фильтрации (0.5 балла)__\n",
        "\n",
        "\n",
        "Давайте отбирать признаки умнее, а именно через подсчёт некоторой функции для каждого признака. На основании значений этой функции будем оставлять наиболее важные признаки. Методы этого семейства называют фильтрующими или  filter methods.\n",
        "\n",
        "В качестве такой функции будем считать t-статистику:\n",
        "\n",
        "$$t(j) = \\frac{|\\mu_+ - \\mu_-|}{\\sqrt{\\frac{n_+ \\sigma^2_+ + n_- \\sigma^2_-}{n_+ + n_-}}},$$\n",
        "\n",
        "где $\\mu$, $\\sigma$, $n$ соответственно среднее, стандартное отклонение и количество объектов каждого из классов.\n",
        "\n",
        "Оставьте 40 признаков с наибольшим значением $t$, замерьте качество и скорость отбора признаков.\n",
        "\n"
      ]
    },
    {
      "cell_type": "code",
      "execution_count": null,
      "metadata": {
        "id": "0snv1D-hP75i"
      },
      "outputs": [],
      "source": [
        "def t_filter(X, target):\n",
        "  res = []  # coefficients in columns order\n",
        "  for column in range(X.shape[1]):\n",
        "    X_col = X[:, column].copy().A\n",
        "\n",
        "    def mu(c): return X_col[target == c].mean()\n",
        "    def sigma(c): return np.std(X_col[target == c])\n",
        "    def n(c): return X_col[target == c].shape[0]\n",
        "\n",
        "    t = (\n",
        "        abs(mu(1) - mu(0)) /\n",
        "        np.sqrt(\n",
        "            (n(1)*sigma(1) ** 2 + n(0)*sigma(0)**2) /\n",
        "            (n(1) + n(0))\n",
        "        )\n",
        "    )\n",
        "    res.append(t)\n",
        "  return np.array(res)"
      ]
    },
    {
      "cell_type": "code",
      "execution_count": null,
      "metadata": {},
      "outputs": [
        {
          "name": "stdout",
          "output_type": "stream",
          "text": [
            "LOG_DEBUG: top ids [ 22  94  49  72  15   0  93  65  21  97  87  71  84   1  66  82  90  11\n",
            "  16  98  10  89 104  73  14   9  12  75  86  69  91  92 103 107  88 102\n",
            "  20 105  85  18]\n"
          ]
        },
        {
          "data": {
            "text/html": [
              "<div>\n",
              "<style scoped>\n",
              "    .dataframe tbody tr th:only-of-type {\n",
              "        vertical-align: middle;\n",
              "    }\n",
              "\n",
              "    .dataframe tbody tr th {\n",
              "        vertical-align: top;\n",
              "    }\n",
              "\n",
              "    .dataframe thead th {\n",
              "        text-align: right;\n",
              "    }\n",
              "</style>\n",
              "<table border=\"1\" class=\"dataframe\">\n",
              "  <thead>\n",
              "    <tr style=\"text-align: right;\">\n",
              "      <th></th>\n",
              "      <th>AUC_PR</th>\n",
              "      <th>AUC_ROC</th>\n",
              "      <th>time</th>\n",
              "    </tr>\n",
              "  </thead>\n",
              "  <tbody>\n",
              "    <tr>\n",
              "      <th>original</th>\n",
              "      <td>0.767130</td>\n",
              "      <td>0.906985</td>\n",
              "      <td>0.704727</td>\n",
              "    </tr>\n",
              "    <tr>\n",
              "      <th>TWS</th>\n",
              "      <td>0.764018</td>\n",
              "      <td>0.905327</td>\n",
              "      <td>0.444363</td>\n",
              "    </tr>\n",
              "    <tr>\n",
              "      <th>original(no scaling)</th>\n",
              "      <td>0.686027</td>\n",
              "      <td>0.881437</td>\n",
              "      <td>0.428107</td>\n",
              "    </tr>\n",
              "    <tr>\n",
              "      <th>TWS(no scaling)</th>\n",
              "      <td>0.681736</td>\n",
              "      <td>0.876365</td>\n",
              "      <td>0.299888</td>\n",
              "    </tr>\n",
              "    <tr>\n",
              "      <th>original(scale all)</th>\n",
              "      <td>0.684410</td>\n",
              "      <td>0.881256</td>\n",
              "      <td>0.675404</td>\n",
              "    </tr>\n",
              "    <tr>\n",
              "      <th>TWS(scale all)</th>\n",
              "      <td>0.676419</td>\n",
              "      <td>0.873007</td>\n",
              "      <td>0.329990</td>\n",
              "    </tr>\n",
              "    <tr>\n",
              "      <th>TWS(f-filter)</th>\n",
              "      <td>0.761986</td>\n",
              "      <td>0.904266</td>\n",
              "      <td>0.416600</td>\n",
              "    </tr>\n",
              "  </tbody>\n",
              "</table>\n",
              "</div>"
            ],
            "text/plain": [
              "                        AUC_PR   AUC_ROC      time\n",
              "original              0.767130  0.906985  0.704727\n",
              "TWS                   0.764018  0.905327  0.444363\n",
              "original(no scaling)  0.686027  0.881437  0.428107\n",
              "TWS(no scaling)       0.681736  0.876365  0.299888\n",
              "original(scale all)   0.684410  0.881256  0.675404\n",
              "TWS(scale all)        0.676419  0.873007  0.329990\n",
              "TWS(f-filter)         0.761986  0.904266  0.416600"
            ]
          },
          "metadata": {},
          "output_type": "display_data"
        }
      ],
      "source": [
        "\n",
        "from importlib import reload\n",
        "import top_select_transformer as tst\n",
        "reload(tst)\n",
        "\n",
        "filter = t_filter(default_col_tr.fit_transform(X_train), y_train)\n",
        "pipeline = Pipeline(steps=[\n",
        "    ('default_ct', default_col_tr),\n",
        "    ('twst', tst.TSTransformer(40, filter)),\n",
        "    ('regression', LogisticRegression(max_iter=100000))\n",
        "])\n",
        "\n",
        "timer.start()\n",
        "model_8 = pipeline.fit(X_train, y_train)\n",
        "timer.stop()\n",
        "\n",
        "update_metrics_3(y_test, model_8.predict_proba(X_test)[:,1],\n",
        "                 timer.get_last(), 'TWS(f-filter)')\n",
        "display(df_metrics_3)\n"
      ]
    },
    {
      "cell_type": "markdown",
      "metadata": {
        "id": "zO63RNCLP75i"
      },
      "source": [
        "#### __Задание 11. Методы-обёртки__ (1 балл)\n",
        "\n",
        "Третий из рассматриваемых нами методов работает следующим образом: мы исключаем по очереди один из признаков и смотрим, как это влияет на качество. Удаляем признаки таким жадным способом, пока не окажется выполненым некоторое условие (количество признаков или ухудшение качества). Более конкретно, на каждом шаге мы будем удалять такой признак $j$, что качество модели на множестве оставшихся признаков без $j$ максимально, то есть удалять мы будем наиболее бесполезный признак.\n",
        "\n",
        "Заметим, что нельзя оценивать качество по тестовой выборке, иначе мы можем переобучиться, как, например, при настройке гиперпараметров. Разделите обучающую выборку на 2 части, на одной из них обучайте модель без одного из признаков,  на второй части оценивайте качество. Исходную тестовую выборку стоит использовать только для финальной оценки качества.\n",
        "\n",
        "Снова оставьте только 40 признаков и оцените качество на тестовой выборке. Сколько времени занял такой отбор признаков?"
      ]
    },
    {
      "cell_type": "code",
      "execution_count": null,
      "metadata": {
        "id": "ISGdzDQQP75j"
      },
      "outputs": [
        {
          "name": "stdout",
          "output_type": "stream",
          "text": [
            "Time: 1935.4132602214813\n"
          ]
        }
      ],
      "source": [
        "from sklearn.feature_selection import SequentialFeatureSelector\n",
        "\n",
        "X_train_tr = default_col_tr.fit_transform(X_train)\n",
        "model_log_reg = LogisticRegression(max_iter=10000)\n",
        "\n",
        "timer.start()\n",
        "selector = SequentialFeatureSelector(model_log_reg,\n",
        "                                    n_features_to_select=40,\n",
        "                                    direction='backward',\n",
        "                                    scoring=make_scorer(\n",
        "                                        average_precision_score),\n",
        "                                    cv=2)\n",
        "selector.fit(X_train_tr, y_train)\n",
        "timer.stop()\n",
        "\n",
        "print('Time:', timer.get_last())"
      ]
    },
    {
      "cell_type": "code",
      "execution_count": null,
      "metadata": {},
      "outputs": [
        {
          "name": "stdout",
          "output_type": "stream",
          "text": [
            "selected features ids: [  5   7  10  14  18  20  23  34  45  62  66  68  69  70  71  72  73  76\n",
            "  77  79  80  81  82  83  85  87  88  89  90  93  94  97  98  99 102 103\n",
            " 104 105 106 107]\n"
          ]
        }
      ],
      "source": [
        "def get_selected_features_ids(selector):\n",
        "  return np.array([i for i in range(len(selector.support_)) if selector.support_[i]])\n",
        "\n",
        "selected_features = get_selected_features_ids(selector)\n",
        "print('selected features ids:', selected_features)"
      ]
    },
    {
      "cell_type": "code",
      "execution_count": null,
      "metadata": {},
      "outputs": [
        {
          "name": "stdout",
          "output_type": "stream",
          "text": [
            "LOG_DEBUG: dummy ids [  5   7  10  14  18  20  23  34  45  62  66  68  69  70  71  72  73  76\n",
            "  77  79  80  81  82  83  85  87  88  89  90  93  94  97  98  99 102 103\n",
            " 104 105 106 107]\n"
          ]
        },
        {
          "data": {
            "text/html": [
              "<div>\n",
              "<style scoped>\n",
              "    .dataframe tbody tr th:only-of-type {\n",
              "        vertical-align: middle;\n",
              "    }\n",
              "\n",
              "    .dataframe tbody tr th {\n",
              "        vertical-align: top;\n",
              "    }\n",
              "\n",
              "    .dataframe thead th {\n",
              "        text-align: right;\n",
              "    }\n",
              "</style>\n",
              "<table border=\"1\" class=\"dataframe\">\n",
              "  <thead>\n",
              "    <tr style=\"text-align: right;\">\n",
              "      <th></th>\n",
              "      <th>AUC_PR</th>\n",
              "      <th>AUC_ROC</th>\n",
              "      <th>time</th>\n",
              "    </tr>\n",
              "  </thead>\n",
              "  <tbody>\n",
              "    <tr>\n",
              "      <th>original</th>\n",
              "      <td>0.767130</td>\n",
              "      <td>0.906985</td>\n",
              "      <td>0.704727</td>\n",
              "    </tr>\n",
              "    <tr>\n",
              "      <th>TWS</th>\n",
              "      <td>0.764018</td>\n",
              "      <td>0.905327</td>\n",
              "      <td>0.444363</td>\n",
              "    </tr>\n",
              "    <tr>\n",
              "      <th>original(no scaling)</th>\n",
              "      <td>0.686027</td>\n",
              "      <td>0.881437</td>\n",
              "      <td>0.428107</td>\n",
              "    </tr>\n",
              "    <tr>\n",
              "      <th>TWS(no scaling)</th>\n",
              "      <td>0.681736</td>\n",
              "      <td>0.876365</td>\n",
              "      <td>0.299888</td>\n",
              "    </tr>\n",
              "    <tr>\n",
              "      <th>original(scale all)</th>\n",
              "      <td>0.684410</td>\n",
              "      <td>0.881256</td>\n",
              "      <td>0.675404</td>\n",
              "    </tr>\n",
              "    <tr>\n",
              "      <th>TWS(scale all)</th>\n",
              "      <td>0.676419</td>\n",
              "      <td>0.873007</td>\n",
              "      <td>0.329990</td>\n",
              "    </tr>\n",
              "    <tr>\n",
              "      <th>TWS(f-filter)</th>\n",
              "      <td>0.761986</td>\n",
              "      <td>0.904266</td>\n",
              "      <td>0.416600</td>\n",
              "    </tr>\n",
              "    <tr>\n",
              "      <th>SFS(backward)</th>\n",
              "      <td>0.767228</td>\n",
              "      <td>0.905801</td>\n",
              "      <td>0.289821</td>\n",
              "    </tr>\n",
              "  </tbody>\n",
              "</table>\n",
              "</div>"
            ],
            "text/plain": [
              "                        AUC_PR   AUC_ROC      time\n",
              "original              0.767130  0.906985  0.704727\n",
              "TWS                   0.764018  0.905327  0.444363\n",
              "original(no scaling)  0.686027  0.881437  0.428107\n",
              "TWS(no scaling)       0.681736  0.876365  0.299888\n",
              "original(scale all)   0.684410  0.881256  0.675404\n",
              "TWS(scale all)        0.676419  0.873007  0.329990\n",
              "TWS(f-filter)         0.761986  0.904266  0.416600\n",
              "SFS(backward)         0.767228  0.905801  0.289821"
            ]
          },
          "metadata": {},
          "output_type": "display_data"
        }
      ],
      "source": [
        "from importlib import reload\n",
        "import top_select_transformer as tst\n",
        "reload(tst)\n",
        "\n",
        "pipeline = Pipeline(steps=[\n",
        "    ('default_ct', default_col_tr),\n",
        "    ('twst', tst.DummySelector(selected_features)),\n",
        "    ('regression', LogisticRegression(max_iter=100000))\n",
        "])\n",
        "\n",
        "timer.start()\n",
        "model_10 = pipeline.fit(X_train, y_train)\n",
        "timer.stop()\n",
        "\n",
        "update_metrics_3(y_test, model_10.predict_proba(X_test)[:,1],\n",
        "                 timer.get_last(), 'SFS(backward)')\n",
        "display(df_metrics_3)"
      ]
    },
    {
      "cell_type": "markdown",
      "metadata": {
        "id": "1AEL4z61P75j"
      },
      "source": [
        "Стоит отметить, что с помощью такого метода можно пойти и в обратную сторону. Попробуйте _добавлять_ по одному самому полезному признаку в выборку до тех пор, пока не наберется 40 штук. Найдется ли порог, при котором добавление следующих признаков будет только ухудшать качество модели?"
      ]
    },
    {
      "cell_type": "code",
      "execution_count": null,
      "metadata": {
        "id": "ZzF8TzVFP75j"
      },
      "outputs": [
        {
          "name": "stdout",
          "output_type": "stream",
          "text": [
            "Time forward: 465.05194091796875\n"
          ]
        }
      ],
      "source": [
        "timer.start()\n",
        "selector_fwd = SequentialFeatureSelector(model_log_reg,\n",
        "                                         n_features_to_select=40,\n",
        "                                         direction='forward',\n",
        "                                         scoring=make_scorer(\n",
        "                                             average_precision_score),\n",
        "                                         cv=2)\n",
        "selector_fwd.fit(X_train_tr, y_train)\n",
        "timer.stop()\n",
        "\n",
        "print('Time forward:', timer.get_last())"
      ]
    },
    {
      "cell_type": "code",
      "execution_count": null,
      "metadata": {},
      "outputs": [
        {
          "name": "stdout",
          "output_type": "stream",
          "text": [
            "selected features ids: [  3   4  10  13  14  17  19  21  24  25  28  29  30  32  34  36  37  38\n",
            "  39  40  42  43  46  47  48  51  53  54  55  57  60  63  64  68  71  74\n",
            "  96 101 103 104]\n"
          ]
        }
      ],
      "source": [
        "\n",
        "selected_fwd_features = get_selected_features_ids(selector_fwd)\n",
        "print('selected features ids:', selected_fwd_features)"
      ]
    },
    {
      "cell_type": "code",
      "execution_count": null,
      "metadata": {},
      "outputs": [
        {
          "name": "stdout",
          "output_type": "stream",
          "text": [
            "LOG_DEBUG: dummy ids [  3   4  10  13  14  17  19  21  24  25  28  29  30  32  34  36  37  38\n",
            "  39  40  42  43  46  47  48  51  53  54  55  57  60  63  64  68  71  74\n",
            "  96 101 103 104]\n"
          ]
        },
        {
          "data": {
            "text/html": [
              "<div>\n",
              "<style scoped>\n",
              "    .dataframe tbody tr th:only-of-type {\n",
              "        vertical-align: middle;\n",
              "    }\n",
              "\n",
              "    .dataframe tbody tr th {\n",
              "        vertical-align: top;\n",
              "    }\n",
              "\n",
              "    .dataframe thead th {\n",
              "        text-align: right;\n",
              "    }\n",
              "</style>\n",
              "<table border=\"1\" class=\"dataframe\">\n",
              "  <thead>\n",
              "    <tr style=\"text-align: right;\">\n",
              "      <th></th>\n",
              "      <th>AUC_PR</th>\n",
              "      <th>AUC_ROC</th>\n",
              "      <th>time</th>\n",
              "    </tr>\n",
              "  </thead>\n",
              "  <tbody>\n",
              "    <tr>\n",
              "      <th>original</th>\n",
              "      <td>0.767130</td>\n",
              "      <td>0.906985</td>\n",
              "      <td>0.704727</td>\n",
              "    </tr>\n",
              "    <tr>\n",
              "      <th>TWS</th>\n",
              "      <td>0.764018</td>\n",
              "      <td>0.905327</td>\n",
              "      <td>0.444363</td>\n",
              "    </tr>\n",
              "    <tr>\n",
              "      <th>original(no scaling)</th>\n",
              "      <td>0.686027</td>\n",
              "      <td>0.881437</td>\n",
              "      <td>0.428107</td>\n",
              "    </tr>\n",
              "    <tr>\n",
              "      <th>TWS(no scaling)</th>\n",
              "      <td>0.681736</td>\n",
              "      <td>0.876365</td>\n",
              "      <td>0.299888</td>\n",
              "    </tr>\n",
              "    <tr>\n",
              "      <th>original(scale all)</th>\n",
              "      <td>0.684410</td>\n",
              "      <td>0.881256</td>\n",
              "      <td>0.675404</td>\n",
              "    </tr>\n",
              "    <tr>\n",
              "      <th>TWS(scale all)</th>\n",
              "      <td>0.676419</td>\n",
              "      <td>0.873007</td>\n",
              "      <td>0.329990</td>\n",
              "    </tr>\n",
              "    <tr>\n",
              "      <th>TWS(f-filter)</th>\n",
              "      <td>0.761986</td>\n",
              "      <td>0.904266</td>\n",
              "      <td>0.416600</td>\n",
              "    </tr>\n",
              "    <tr>\n",
              "      <th>SFS(backward)</th>\n",
              "      <td>0.767228</td>\n",
              "      <td>0.905801</td>\n",
              "      <td>0.289821</td>\n",
              "    </tr>\n",
              "    <tr>\n",
              "      <th>SFS(forward)</th>\n",
              "      <td>0.544622</td>\n",
              "      <td>0.677957</td>\n",
              "      <td>0.333365</td>\n",
              "    </tr>\n",
              "  </tbody>\n",
              "</table>\n",
              "</div>"
            ],
            "text/plain": [
              "                        AUC_PR   AUC_ROC      time\n",
              "original              0.767130  0.906985  0.704727\n",
              "TWS                   0.764018  0.905327  0.444363\n",
              "original(no scaling)  0.686027  0.881437  0.428107\n",
              "TWS(no scaling)       0.681736  0.876365  0.299888\n",
              "original(scale all)   0.684410  0.881256  0.675404\n",
              "TWS(scale all)        0.676419  0.873007  0.329990\n",
              "TWS(f-filter)         0.761986  0.904266  0.416600\n",
              "SFS(backward)         0.767228  0.905801  0.289821\n",
              "SFS(forward)          0.544622  0.677957  0.333365"
            ]
          },
          "metadata": {},
          "output_type": "display_data"
        }
      ],
      "source": [
        "pipeline = Pipeline(steps=[\n",
        "    ('default_ct', default_col_tr),\n",
        "    ('twst', tst.DummySelector(selected_fwd_features)),\n",
        "    ('regression', LogisticRegression(max_iter=100000))\n",
        "])\n",
        "\n",
        "timer.start()\n",
        "model_11 = pipeline.fit(X_train, y_train)\n",
        "timer.stop()\n",
        "\n",
        "update_metrics_3(y_test, model_11.predict_proba(X_test)[:, 1],\n",
        "                 timer.get_last(), 'SFS(forward)')\n",
        "display(df_metrics_3)"
      ]
    },
    {
      "cell_type": "markdown",
      "metadata": {
        "id": "wj6a-BERP75j"
      },
      "source": [
        "---\n",
        "\n",
        "Давайте подведём итоги по отбору признаков. Назовите преимущества и недостатки каждого из методов. Какой метод привёл к наилучшему качеству?\n",
        "\n",
        "**Ответ:**\n",
        "\n",
        "```\n",
        "backward-отбор (отбрасывание) считал очень долго, но справился со свой задачей и улучшил качество модели на целую тысячную по auc-pr\n",
        "forward-отбор (добавление) - почетный лузер сегодняшнего соревнования...\n",
        "\n",
        "\n",
        "Подводя итог, на наших данных разные методы дали схожие результаты. Если нужно максимальное качество выбираем backward-отбор, но запасаемся стойкой Nvidia v100 и считаем. Если деняк нет то и можно подождать пол года, ну или просто воспользоваться top weight отбором.\n",
        "```\n",
        "\n",
        "---"
      ]
    },
    {
      "cell_type": "markdown",
      "metadata": {
        "id": "zrR06pp7P75k"
      },
      "source": [
        "# Часть 4. Оценка экономического эффекта модели (2 балла)\n",
        "\n"
      ]
    },
    {
      "cell_type": "markdown",
      "metadata": {
        "id": "CmgOdf7GT3uh"
      },
      "source": [
        "В данной части мы займемся тем, что от вас скорее всего потребуется на реальной работе (помимо перекладки `json`, разумеется). А именно:\n",
        "- мы соберем несколько специализированных метрик качества,\n",
        "- попытаемся настроить модель на максимизацию _прибыли_,\n",
        "- оценим, сколько вообще получится заработать на этом.\n",
        "\n",
        "Разумеется, здесь будет сделано множество упрощающих жизнь допущений, но обо всем по порядку. Если вы всё прослушали на экономике, то напомним, что выручка — это сколько денег нам принесли клиенты, а прибыль — выручка за вычетом расходов на зарплату и прочее."
      ]
    },
    {
      "cell_type": "markdown",
      "metadata": {
        "id": "NQkW5Xh6yip2"
      },
      "source": [
        "\n",
        "#### __Задание 12. Прогноз по доходам и расходам__ (1 балл)\n",
        "\n",
        "В этой части мы будем работать с данными [UCI Bank Marketing Dataset](https://archive.ics.uci.edu/ml/datasets/bank+marketing). Этот датасет содержит информацию о банковском телефонном маркетинге.\n",
        "\n",
        "__Объектом__ здесь является телефонный звонок потенциальному клиенту с предложением некоторой услуги (утверждается, что это краткосрочный депозит). В качестве признакового описания используются характеристики клиента (образование, брак и т.д.), данные о звонке и различные экономические индикаторы - более подробная информация представлена в файле `bank-additional-names.txt`.\n",
        "__Целевая переменная__ - ответ клиента (согласился ли он открыть депозит?)"
      ]
    },
    {
      "cell_type": "code",
      "execution_count": null,
      "metadata": {
        "id": "e9WBqQd1aAjp"
      },
      "outputs": [
        {
          "name": "stdout",
          "output_type": "stream",
          "text": [
            "--2023-11-26 23:00:16--  https://archive.ics.uci.edu/ml/machine-learning-databases/00222/bank-additional.zip\n",
            "Resolving archive.ics.uci.edu (archive.ics.uci.edu)... 128.195.10.252\n",
            "Connecting to archive.ics.uci.edu (archive.ics.uci.edu)|128.195.10.252|:443... connected.\n",
            "HTTP request sent, awaiting response... 200 OK\n",
            "Length: unspecified\n",
            "Saving to: ‘bank-additional.zip’\n",
            "\n",
            "bank-additional.zip     [     <=>            ] 434,15K   432KB/s    in 1,0s    \n",
            "\n",
            "2023-11-26 23:00:19 (432 KB/s) - ‘bank-additional.zip’ saved [444572]\n",
            "\n",
            "Archive:  bank-additional.zip\n",
            "   creating: bank-additional/\n",
            "  inflating: bank-additional/.DS_Store  \n",
            "   creating: __MACOSX/\n",
            "   creating: __MACOSX/bank-additional/\n",
            "  inflating: __MACOSX/bank-additional/._.DS_Store  \n",
            "  inflating: bank-additional/.Rhistory  \n",
            "  inflating: bank-additional/bank-additional-full.csv  \n",
            "  inflating: bank-additional/bank-additional-names.txt  \n",
            "  inflating: bank-additional/bank-additional.csv  \n",
            "  inflating: __MACOSX/._bank-additional  \n"
          ]
        }
      ],
      "source": [
        "!wget https://archive.ics.uci.edu/ml/machine-learning-databases/00222/bank-additional.zip\n",
        "!unzip bank-additional.zip\n",
        "df = pd.read_csv('bank-additional/bank-additional-full.csv', sep=';')"
      ]
    },
    {
      "cell_type": "code",
      "execution_count": null,
      "metadata": {
        "id": "Gbw5k7lMaYT1"
      },
      "outputs": [
        {
          "data": {
            "text/html": [
              "<div>\n",
              "<style scoped>\n",
              "    .dataframe tbody tr th:only-of-type {\n",
              "        vertical-align: middle;\n",
              "    }\n",
              "\n",
              "    .dataframe tbody tr th {\n",
              "        vertical-align: top;\n",
              "    }\n",
              "\n",
              "    .dataframe thead th {\n",
              "        text-align: right;\n",
              "    }\n",
              "</style>\n",
              "<table border=\"1\" class=\"dataframe\">\n",
              "  <thead>\n",
              "    <tr style=\"text-align: right;\">\n",
              "      <th></th>\n",
              "      <th>age</th>\n",
              "      <th>job</th>\n",
              "      <th>marital</th>\n",
              "      <th>education</th>\n",
              "      <th>default</th>\n",
              "      <th>housing</th>\n",
              "      <th>loan</th>\n",
              "      <th>contact</th>\n",
              "      <th>month</th>\n",
              "      <th>day_of_week</th>\n",
              "      <th>duration</th>\n",
              "      <th>campaign</th>\n",
              "      <th>pdays</th>\n",
              "      <th>previous</th>\n",
              "      <th>poutcome</th>\n",
              "      <th>emp.var.rate</th>\n",
              "      <th>cons.price.idx</th>\n",
              "      <th>cons.conf.idx</th>\n",
              "      <th>euribor3m</th>\n",
              "      <th>nr.employed</th>\n",
              "      <th>y</th>\n",
              "    </tr>\n",
              "  </thead>\n",
              "  <tbody>\n",
              "    <tr>\n",
              "      <th>0</th>\n",
              "      <td>56</td>\n",
              "      <td>housemaid</td>\n",
              "      <td>married</td>\n",
              "      <td>basic.4y</td>\n",
              "      <td>no</td>\n",
              "      <td>no</td>\n",
              "      <td>no</td>\n",
              "      <td>telephone</td>\n",
              "      <td>may</td>\n",
              "      <td>mon</td>\n",
              "      <td>261</td>\n",
              "      <td>1</td>\n",
              "      <td>999</td>\n",
              "      <td>0</td>\n",
              "      <td>nonexistent</td>\n",
              "      <td>1.1</td>\n",
              "      <td>93.994</td>\n",
              "      <td>-36.4</td>\n",
              "      <td>4.857</td>\n",
              "      <td>5191.0</td>\n",
              "      <td>no</td>\n",
              "    </tr>\n",
              "    <tr>\n",
              "      <th>1</th>\n",
              "      <td>57</td>\n",
              "      <td>services</td>\n",
              "      <td>married</td>\n",
              "      <td>high.school</td>\n",
              "      <td>unknown</td>\n",
              "      <td>no</td>\n",
              "      <td>no</td>\n",
              "      <td>telephone</td>\n",
              "      <td>may</td>\n",
              "      <td>mon</td>\n",
              "      <td>149</td>\n",
              "      <td>1</td>\n",
              "      <td>999</td>\n",
              "      <td>0</td>\n",
              "      <td>nonexistent</td>\n",
              "      <td>1.1</td>\n",
              "      <td>93.994</td>\n",
              "      <td>-36.4</td>\n",
              "      <td>4.857</td>\n",
              "      <td>5191.0</td>\n",
              "      <td>no</td>\n",
              "    </tr>\n",
              "    <tr>\n",
              "      <th>2</th>\n",
              "      <td>37</td>\n",
              "      <td>services</td>\n",
              "      <td>married</td>\n",
              "      <td>high.school</td>\n",
              "      <td>no</td>\n",
              "      <td>yes</td>\n",
              "      <td>no</td>\n",
              "      <td>telephone</td>\n",
              "      <td>may</td>\n",
              "      <td>mon</td>\n",
              "      <td>226</td>\n",
              "      <td>1</td>\n",
              "      <td>999</td>\n",
              "      <td>0</td>\n",
              "      <td>nonexistent</td>\n",
              "      <td>1.1</td>\n",
              "      <td>93.994</td>\n",
              "      <td>-36.4</td>\n",
              "      <td>4.857</td>\n",
              "      <td>5191.0</td>\n",
              "      <td>no</td>\n",
              "    </tr>\n",
              "    <tr>\n",
              "      <th>3</th>\n",
              "      <td>40</td>\n",
              "      <td>admin.</td>\n",
              "      <td>married</td>\n",
              "      <td>basic.6y</td>\n",
              "      <td>no</td>\n",
              "      <td>no</td>\n",
              "      <td>no</td>\n",
              "      <td>telephone</td>\n",
              "      <td>may</td>\n",
              "      <td>mon</td>\n",
              "      <td>151</td>\n",
              "      <td>1</td>\n",
              "      <td>999</td>\n",
              "      <td>0</td>\n",
              "      <td>nonexistent</td>\n",
              "      <td>1.1</td>\n",
              "      <td>93.994</td>\n",
              "      <td>-36.4</td>\n",
              "      <td>4.857</td>\n",
              "      <td>5191.0</td>\n",
              "      <td>no</td>\n",
              "    </tr>\n",
              "    <tr>\n",
              "      <th>4</th>\n",
              "      <td>56</td>\n",
              "      <td>services</td>\n",
              "      <td>married</td>\n",
              "      <td>high.school</td>\n",
              "      <td>no</td>\n",
              "      <td>no</td>\n",
              "      <td>yes</td>\n",
              "      <td>telephone</td>\n",
              "      <td>may</td>\n",
              "      <td>mon</td>\n",
              "      <td>307</td>\n",
              "      <td>1</td>\n",
              "      <td>999</td>\n",
              "      <td>0</td>\n",
              "      <td>nonexistent</td>\n",
              "      <td>1.1</td>\n",
              "      <td>93.994</td>\n",
              "      <td>-36.4</td>\n",
              "      <td>4.857</td>\n",
              "      <td>5191.0</td>\n",
              "      <td>no</td>\n",
              "    </tr>\n",
              "  </tbody>\n",
              "</table>\n",
              "</div>"
            ],
            "text/plain": [
              "   age        job  marital    education  default housing loan    contact  \\\n",
              "0   56  housemaid  married     basic.4y       no      no   no  telephone   \n",
              "1   57   services  married  high.school  unknown      no   no  telephone   \n",
              "2   37   services  married  high.school       no     yes   no  telephone   \n",
              "3   40     admin.  married     basic.6y       no      no   no  telephone   \n",
              "4   56   services  married  high.school       no      no  yes  telephone   \n",
              "\n",
              "  month day_of_week  duration  campaign  pdays  previous     poutcome  \\\n",
              "0   may         mon       261         1    999         0  nonexistent   \n",
              "1   may         mon       149         1    999         0  nonexistent   \n",
              "2   may         mon       226         1    999         0  nonexistent   \n",
              "3   may         mon       151         1    999         0  nonexistent   \n",
              "4   may         mon       307         1    999         0  nonexistent   \n",
              "\n",
              "   emp.var.rate  cons.price.idx  cons.conf.idx  euribor3m  nr.employed   y  \n",
              "0           1.1          93.994          -36.4      4.857       5191.0  no  \n",
              "1           1.1          93.994          -36.4      4.857       5191.0  no  \n",
              "2           1.1          93.994          -36.4      4.857       5191.0  no  \n",
              "3           1.1          93.994          -36.4      4.857       5191.0  no  \n",
              "4           1.1          93.994          -36.4      4.857       5191.0  no  "
            ]
          },
          "execution_count": 547,
          "metadata": {},
          "output_type": "execute_result"
        }
      ],
      "source": [
        "df.head()"
      ]
    },
    {
      "cell_type": "code",
      "execution_count": null,
      "metadata": {
        "id": "qmxCn_Pz3kJB"
      },
      "outputs": [],
      "source": [
        "X_col = df.drop(columns=['duration', 'y'])\n",
        "y = (df.y == 'yes')"
      ]
    },
    {
      "cell_type": "markdown",
      "metadata": {
        "id": "lMKgtxfwaBEQ"
      },
      "source": [
        "В этой части не нужно делить выборку - мы будем использовать кросс-валидацию.  Используйте 5 фолдов, сделайте `shuffle=True, random_state=500`. По кросс-валидации у вас получится 5 вариантов обучающей и тестовой выборки."
      ]
    },
    {
      "cell_type": "code",
      "execution_count": null,
      "metadata": {
        "id": "xYPjtfnqP75k"
      },
      "outputs": [],
      "source": [
        "# your code here"
      ]
    },
    {
      "cell_type": "markdown",
      "metadata": {
        "id": "YIX-omTIyxtU"
      },
      "source": [
        "Обучите логистическую регрессию на каждой обучающей выборке (воспользуйтесь one-hot для категориальных признаков и `StandardScaler` для числовых, гиперпараметры по умолчанию) и сделайте предсказания для соответствующих тестовых выборок."
      ]
    },
    {
      "cell_type": "code",
      "execution_count": null,
      "metadata": {
        "id": "5V3f4cQryx6c"
      },
      "outputs": [],
      "source": [
        "# your code here"
      ]
    },
    {
      "cell_type": "markdown",
      "metadata": {
        "id": "CcuHfZjfzmnt"
      },
      "source": [
        "Допустим, работники вашего колл-центра получают за один звонок клиенту 1 доллар. При согласии клиента на предлагаемые условия он принесет в банк 10 долларов. Предположим, что всем положительным прогнозам ваши сотрудники решили позвонить. Посчитайте на всех тестовых выборках выручку и усредните. Также вычислите стандартное отклонение.\n",
        "- Сколько денег вы в среднем заработаете?\n",
        "- Сколько из заработанных денег придётся отдать операторам вашего колл-центра?"
      ]
    },
    {
      "cell_type": "code",
      "execution_count": null,
      "metadata": {
        "id": "0okqAh-AzWTX"
      },
      "outputs": [],
      "source": [
        "# your code here"
      ]
    },
    {
      "cell_type": "markdown",
      "metadata": {
        "id": "Da1x6u6wP75k"
      },
      "source": [
        "Внесем некоторую долю случайности. Пусть теперь согласный на условия клиент будет приносить не 10 долларов, а случайную величину, равномерно распределенную в интервале $[0;20)$. Проделайте все те же самые действия. Для имитации реальной ситуации **НЕ** фиксируйте `random_seed` при подсчете выручки с клиента. Что получилось?"
      ]
    },
    {
      "cell_type": "code",
      "execution_count": null,
      "metadata": {
        "id": "0AKmJpRAP75k"
      },
      "outputs": [],
      "source": [
        "#your code here"
      ]
    },
    {
      "cell_type": "markdown",
      "metadata": {
        "id": "O1g9FPExP75k"
      },
      "source": [
        "Настройте по кросс-валидации коэффициент регуляризации модели для максимизации прибыли (считайте как случайную величину выше). Удалось ли получить какой-то выигрыш? При каком коэффициенте регуляризациии прибыль максимальна? Постройте график зависимости ожидаемой прибыли от коэффициента, укажите стандартные отклонения (вам поможет `plt.errorbar`, [пример](https://jakevdp.github.io/PythonDataScienceHandbook/04.03-errorbars.html))."
      ]
    },
    {
      "cell_type": "code",
      "execution_count": null,
      "metadata": {
        "id": "YXx7qU5PP75l"
      },
      "outputs": [],
      "source": [
        "#your code here"
      ]
    },
    {
      "cell_type": "markdown",
      "metadata": {
        "id": "sdptRdaIP75l"
      },
      "source": [
        "Попробуйте запустить перебор несколько раз. Находится ли каждый раз один и тот же \"лучший\" коэффициент? Присутствует ли какая-то закономерность? Какие вы можете сделать из этого выводы?"
      ]
    },
    {
      "cell_type": "code",
      "execution_count": null,
      "metadata": {
        "id": "inD5UMbGP75l"
      },
      "outputs": [],
      "source": [
        "#your code here"
      ]
    },
    {
      "cell_type": "markdown",
      "metadata": {
        "id": "J0j8HubaP75l"
      },
      "source": [
        "#### __Задание 13. Ключевая метрика__ (1 балл)\n",
        "\n",
        "Выше мы уже описали примерную экономическую модель вашей задачи. Как вы считаете, что для вашего бизнеса важнее — хороший precision или recall модели? Почему?\n",
        "\n",
        "__Ответ:__ # your answer here\n",
        "\n"
      ]
    },
    {
      "cell_type": "markdown",
      "metadata": {
        "id": "4LFRNnrtP75m"
      },
      "source": [
        "> Вспомним, что на самом деле логистическая регрессия предсказывает нам вероятности положительного класса для объекта. Возможно, путем настройки __порога бинаризации__ этих вероятностей мы сможем получить какой-то выигрыш?\n",
        "\n",
        "Проверьте ваши рассуждения выше с помощью настройки порога бинаризации на кросс-валидации для максимизации прибыли. Воспользуйтесь сеткой от 0 до 1 с шагом 0.01. Напомним, что снижение порога дает нам более высокий recall и более низкий precision, и наоборот."
      ]
    },
    {
      "cell_type": "code",
      "execution_count": null,
      "metadata": {
        "id": "3ALl1YeBP75m"
      },
      "outputs": [],
      "source": [
        "#your code here"
      ]
    },
    {
      "cell_type": "markdown",
      "metadata": {
        "id": "fLL7uqb2P75m"
      },
      "source": [
        "Постройте график зависимости прибыли от порога бинаризации, также отметьте на нем стандартные отклонения. Выделите наилучший порог.\n",
        "\n",
        "\n"
      ]
    },
    {
      "cell_type": "code",
      "execution_count": null,
      "metadata": {
        "id": "K2D3BkVsP75m"
      },
      "outputs": [],
      "source": [
        "#your code here"
      ]
    },
    {
      "cell_type": "markdown",
      "metadata": {
        "id": "pjw2DImXXoFx"
      },
      "source": [
        "__Вопрос:__ Замечаете ли вы какую-то закономерность? Для правильного ответа на этот вопрос попробуйте запустить несколько раз и задумайтесь, почему порог получается в какой-то конкретной области?"
      ]
    },
    {
      "cell_type": "markdown",
      "metadata": {
        "id": "WfnHUQ7sXouL"
      },
      "source": [
        "__Ответ:__ #your answer here"
      ]
    },
    {
      "cell_type": "markdown",
      "metadata": {
        "id": "i7Ksl7b9P75m"
      },
      "source": [
        "Каковы значения precision и recall на выбранном пороге? Оцените по кросс-валидации. Также вычислите стандартное отклонение."
      ]
    },
    {
      "cell_type": "code",
      "execution_count": null,
      "metadata": {
        "id": "i0fwjmYGP75n"
      },
      "outputs": [],
      "source": [
        "#your code here"
      ]
    },
    {
      "cell_type": "markdown",
      "metadata": {
        "id": "H4xmz6caP75n"
      },
      "source": [
        "Можно пронаблюдать, что наша модель склоняется к более высокому recall. Попробуйте оценить качество модели с помощью `PR-AUC` в зоне recall $\\geq$ 0.5. Сделайте это следующим образом:\n",
        "- выберите только те пороги, на которых достигается необходимый recall,\n",
        "- затем интерпретируйте отсеченный в единичном квадрате прямоугольник как новый единичный квадрат,\n",
        "- посчитайте площадь под отсеченной кривой"
      ]
    },
    {
      "cell_type": "code",
      "execution_count": null,
      "metadata": {
        "id": "lbYWnxfgP75n"
      },
      "outputs": [],
      "source": [
        "#your code here"
      ]
    },
    {
      "cell_type": "markdown",
      "metadata": {
        "id": "ACYk14eyP75n"
      },
      "source": [
        "__Бонус (0.01 балла):__ что вы кушали в день сдачи данного ДЗ на завтрак?\n",
        "\n",
        "__Ответ:__ #your answer here"
      ]
    }
  ],
  "metadata": {
    "colab": {
      "collapsed_sections": [
        "xvhLtt4OP75Q",
        "RvWzOe4wP75T",
        "4VbJR0e3P75U"
      ],
      "provenance": []
    },
    "kernelspec": {
      "display_name": "Python 3 (ipykernel)",
      "language": "python",
      "name": "python3"
    },
    "language_info": {
      "codemirror_mode": {
        "name": "ipython",
        "version": 3
      },
      "file_extension": ".py",
      "mimetype": "text/x-python",
      "name": "python",
      "nbconvert_exporter": "python",
      "pygments_lexer": "ipython3",
      "version": "3.7.9"
    }
  },
  "nbformat": 4,
  "nbformat_minor": 0
}
