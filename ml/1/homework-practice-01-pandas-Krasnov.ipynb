{
 "cells": [
  {
   "cell_type": "markdown",
   "metadata": {
    "id": "HcF9My_FhLuk"
   },
   "source": [
    "## Машинное обучение 1, ПМИ ФКН ВШЭ\n",
    "\n",
    "## Практическое домашнее задание 1\n",
    "\n",
    "### Общая информация\n",
    "\n",
    "Дата выдачи: 19.09.2023\n",
    "\n",
    "Мягкий дедлайн: 23:59MSK 02.10.2023\n",
    "\n",
    "Жесткий дедлайн: 23:59MSK 06.10.2023"
   ]
  },
  {
   "cell_type": "markdown",
   "metadata": {
    "id": "G64TptyJhLuo"
   },
   "source": [
    "### О задании\n",
    "\n",
    "Задание состоит из двух разделов, посвященных работе с табличными данными с помощью библиотеки pandas и визуализации с помощью matplotlib. В первом разделе вам предстоит выполнить базовые задания с помощью вышеуказанных библиотек, а во втором распределить студентов по курсам. Баллы даются за выполнение отдельных пунктов. Задачи в рамках одного раздела рекомендуется решать в том порядке, в котором они даны в задании.\n",
    "\n",
    "Задание направлено на освоение jupyter notebook (будет использоваться в дальнейших заданиях), библиотек pandas и matplotlib.\n",
    "\n",
    "### Оценивание и штрафы\n",
    "Каждая из задач имеет определенную «стоимость» (указана в скобках около задачи). Максимально допустимая оценка за работу — 10 баллов.\n",
    "\n",
    "Сдавать задание после жёсткого дедлайна нельзя. При выставлении неполного балла за задание в связи с наличием ошибок на усмотрение проверяющего предусмотрена возможность исправить работу на указанных в ответном письме условиях.\n",
    "\n",
    "Задание выполняется самостоятельно. «Похожие» решения считаются плагиатом и все задействованные студенты (в том числе те, у кого списали) не могут получить за него больше 0 баллов (подробнее о плагиате см. на странице курса). Если вы нашли решение какого-то из заданий (или его часть) в открытом источнике, необходимо указать ссылку на этот источник (скорее всего вы будете не единственным, кто это нашел, поэтому чтобы исключить подозрение в плагиате, необходима ссылка на источник).\n",
    "\n",
    "### Формат сдачи\n",
    "Задания сдаются через систему Anytask. Инвайт можно получить у семинариста или ассистента. Присылать необходимо ноутбук с выполненным заданием. Сам ноутбук называйте в формате homework-practice-01-pandas-Username.ipynb, где Username — ваша фамилия.\n",
    "\n",
    "Для удобства проверки самостоятельно посчитайте свою максимальную оценку (исходя из набора решенных задач) и укажите ниже.\n",
    "\n",
    "Оценка: xx."
   ]
  },
  {
   "cell_type": "markdown",
   "metadata": {},
   "source": [
    "---\n",
    "\n",
    "#### Результаты контеста и предполагаемая оценка (продублировано ниже)\n",
    "\n",
    "Login - <span style=\"color:red\">s</span>anor00\n",
    "\n",
    "Link fall - https://contest.yandex.ru/contest/52663/run-report/91811675/\n",
    "\n",
    "Link spring - https://contest.yandex.ru/contest/52663/run-report/91818847/\n",
    "\n",
    "**Оценка: 10+2**\n",
    "\n",
    "---"
   ]
  },
  {
   "cell_type": "markdown",
   "metadata": {
    "id": "BaXlfHE_hLup"
   },
   "source": [
    "## 0. Введение"
   ]
  },
  {
   "cell_type": "markdown",
   "metadata": {
    "id": "wirAvJNxhLup"
   },
   "source": [
    "Сейчас мы находимся в jupyter-ноутбуке (или ipython-ноутбуке). Это удобная среда для написания кода, проведения экспериментов, изучения данных, построения визуализаций и других нужд, не связанных с написанием production-кода. \n",
    "\n",
    "Ноутбук состоит из ячеек, каждая из которых может быть либо ячейкой с кодом, либо ячейкой с текстом размеченным и неразмеченным. Текст поддерживает markdown-разметку и формулы в Latex.\n",
    "\n",
    "Для работы с содержимым ячейки используется *режим редактирования* (*Edit mode*, включается нажатием клавиши **Enter** после выбора ячейки), а для навигации между ячейками искользуется *командный режим* (*Command mode*, включается нажатием клавиши **Esc**). Тип ячейки можно задать в командном режиме либо с помощью горячих клавиш (**y** to code, **m** to markdown, **r** to edit raw text), либо в меню *Cell -> Cell type*. \n",
    "\n",
    "После заполнения ячейки нужно нажать *Shift + Enter*, эта команда обработает содержимое ячейки: проинтерпретирует код или сверстает размеченный текст."
   ]
  },
  {
   "cell_type": "code",
   "execution_count": 401,
   "metadata": {
    "id": "aQ2_j3nkhLuq"
   },
   "outputs": [
    {
     "data": {
      "text/plain": [
       "4"
      ]
     },
     "execution_count": 401,
     "metadata": {},
     "output_type": "execute_result"
    }
   ],
   "source": [
    "# ячейка с кодом, при выполнении которой появится output\n",
    "2 + 2"
   ]
  },
  {
   "cell_type": "markdown",
   "metadata": {
    "id": "ZlulCwVKhLur"
   },
   "source": [
    "Ячейка с неразмеченным текстом."
   ]
  },
  {
   "cell_type": "markdown",
   "metadata": {
    "id": "A4wkVlIehLur"
   },
   "source": [
    "Попробуйте создать свои ячейки, написать какой-нибудь код и текст какой-нибудь формулой."
   ]
  },
  {
   "cell_type": "code",
   "execution_count": 402,
   "metadata": {
    "id": "BIuaYSvqhLus"
   },
   "outputs": [
    {
     "name": "stdout",
     "output_type": "stream",
     "text": [
      "hello world\n"
     ]
    }
   ],
   "source": [
    "# your code\n",
    "print('hello world')"
   ]
  },
  {
   "cell_type": "markdown",
   "metadata": {
    "id": "iWs6ljrIhLus"
   },
   "source": [
    "[Здесь](https://athena.brynmawr.edu/jupyter/hub/dblank/public/Jupyter%20Notebook%20Users%20Manual.ipynb) находится <s>не</s>большая заметка о используемом языке разметки Markdown. Он позволяет:\n",
    "\n",
    "0. Составлять упорядоченные списки\n",
    "1. Выделять *текст* <s>при</s> **необходимости**\n",
    "2. Добавлять [ссылки](http://imgs.xkcd.com/comics/the_universal_label.png)\n",
    "\n",
    "\n",
    "* Составлять неупорядоченные списки\n",
    "\n",
    "Делать вставки с помощью LaTex:\n",
    "    \n",
    "$\n",
    "\\left\\{\n",
    "\\begin{array}{ll}\n",
    "x = 16 \\sin^3 (t) \\\\ \n",
    "y = 13 \\cos (t) - 5 \\cos (2t) - 2 \\cos (3t) - \\cos (4t) \\\\\n",
    "t \\in [0, 2 \\pi]\n",
    "\\end{array}\n",
    "\\right.$"
   ]
  },
  {
   "cell_type": "markdown",
   "metadata": {
    "id": "6fmTGcXOhLus"
   },
   "source": [
    "А ещё можно вставлять картинки, или гифки, или что захотите:\n",
    "\n",
    "<img src='https://media1.tenor.com/images/9b8fbe9214504bcf6c60fe4e4f7e114e/tenor.gif?itemid=5416416' style='width: 400px'>"
   ]
  },
  {
   "cell_type": "markdown",
   "metadata": {
    "id": "J_toGw7DhLut"
   },
   "source": [
    "### Google Colab"
   ]
  },
  {
   "cell_type": "markdown",
   "metadata": {
    "id": "jpkbCVjGhLut"
   },
   "source": [
    "Что за колаб? \n",
    "\n",
    "**Google Colab (Colaboratory)** это **Jupyter Notebook + Cloud + Google Drive.**\n",
    "\n",
    "Компания Google предоставляет возможность бесплатно запускать ноутбуки (предварительно загрузив их на свой гугл-диск) прямо в облаке. При этом вам не требуется установка никаких пакетов на свою машину, а работать можно прямиком из браузера. Вот ссылка:"
   ]
  },
  {
   "cell_type": "markdown",
   "metadata": {
    "id": "06MQog3yhLut"
   },
   "source": [
    "https://colab.research.google.com"
   ]
  },
  {
   "cell_type": "markdown",
   "metadata": {
    "id": "5_hfWXKPhLut"
   },
   "source": [
    "При использовании вы увидете много сходств с jupyter ноутбуком. Одним из преимуществ является доступность GPU, соответствующую опцию можно активировать в настройках сервиса. При желании вы сможете найти в интернете много туториалов по использованию или разобраться самостоятельно =)"
   ]
  },
  {
   "cell_type": "markdown",
   "metadata": {
    "id": "sUe2vnFGhLuu"
   },
   "source": [
    "## 1. Табличные данные и Pandas"
   ]
  },
  {
   "cell_type": "markdown",
   "metadata": {
    "id": "DJQzjjqJhLuu"
   },
   "source": [
    "Pandas — удобная библиотека для работы с табличными данными в Python, если данных не слишком много и они помещаются в оперативную память вашего компьютера. Несмотря на неэффективность реализации и некоторые проблемы, библиотека стала стандартом в анализе данных.\n",
    "\n",
    "Основной объект в pandas — это DataFrame, представляющий собой таблицу с именованными колонками различных типов, индексом (может быть многоуровневым). DataFrame можно создавать, считывая таблицу из файла или задавая вручную из других объектов.\n",
    "\n",
    "В этой части потребуется выполнить несколько небольших заданий. Можно пойти двумя путями: сначала изучить материалы, а потом приступить к заданиям, или же разбираться 'по ходу'. Выбирайте сами.\n",
    "\n",
    "Материалы:\n",
    "1. [Pandas за 10 минут из официального руководства](http://pandas.pydata.org/pandas-docs/stable/10min.html)\n",
    "2. [Документация](http://pandas.pydata.org/pandas-docs/stable/index.html) (стоит обращаться, если не понятно, как вызывать конкретный метод)\n",
    "3. [Примеры использования функционала](http://nbviewer.jupyter.org/github/justmarkham/pandas-videos/blob/master/pandas.ipynb)\n",
    "\n",
    "Многие из заданий можно выполнить несколькими способами. Не существуют единственно верного, но попробуйте максимально задействовать арсенал pandas и ориентируйтесь на простоту и понятность вашего кода. Мы не будем подсказывать, что нужно использовать для решения конкретной задачи, попробуйте находить необходимый функционал сами (название метода чаще всего очевидно). В помощь вам документация, поиск и stackoverflow."
   ]
  },
  {
   "cell_type": "code",
   "execution_count": 403,
   "metadata": {
    "id": "26zbFY25hLuv",
    "outputId": "404c22c6-2696-48ab-c71e-7a3ffbc36b18"
   },
   "outputs": [
    {
     "name": "stdout",
     "output_type": "stream",
     "text": [
      "%pylab is deprecated, use %matplotlib inline and import the required libraries.\n",
      "Populating the interactive namespace from numpy and matplotlib\n"
     ]
    }
   ],
   "source": [
    "%pylab inline\n",
    "import pandas as pd"
   ]
  },
  {
   "cell_type": "markdown",
   "metadata": {},
   "source": [
    "<span style='color:red'>Перед выполнением задания необходимо ознакомиться с первым семинаром (seminars/sem01-pandas.ipynb) </span>.\n",
    "\n",
    "Это поможет вам получить общее понимание происходяшего и успешнее справиться с заданием.\n",
    "\n",
    "Также успешному выполнению способствует внимательное чтение текста задания от начала до конца.\n",
    "\n",
    "Удачи!"
   ]
  },
  {
   "cell_type": "markdown",
   "metadata": {
    "id": "dneJl9TyhLuv"
   },
   "source": [
    "Скачаем подготовленные на семинаре данные:"
   ]
  },
  {
   "cell_type": "code",
   "execution_count": 404,
   "metadata": {
    "id": "rj_I0RslhLuw"
   },
   "outputs": [],
   "source": [
    "!wget  -O 'end_seminar.xlsx' -q 'https://www.dropbox.com/s/f4rm8sjc3v99p0m/_end_seminar.xlsx?dl=0'"
   ]
  },
  {
   "cell_type": "markdown",
   "metadata": {
    "id": "5hp7bn_ThLuw"
   },
   "source": [
    "Для пользователей Windows: скачайте файл самостоятельно и поместите его в папку с тетрадкой. Или попробуйте один из следующих вариантов:"
   ]
  },
  {
   "cell_type": "code",
   "execution_count": 405,
   "metadata": {
    "id": "4h4_BaX8hLuw"
   },
   "outputs": [],
   "source": [
    "# !powershell iwr -outf somefile https://somesite/somefile"
   ]
  },
  {
   "cell_type": "code",
   "execution_count": 406,
   "metadata": {
    "id": "7bHroLGChLuw"
   },
   "outputs": [],
   "source": [
    "# !pip install wget\n",
    "# import wget \n",
    "# wget.download('https://dropbox.com/s/f4rm8sjc3v99p0m/_end_seminar.xlsx?dl=1', 'end_seminar.xlsx')"
   ]
  },
  {
   "cell_type": "markdown",
   "metadata": {
    "id": "VFs_6IythLux"
   },
   "source": [
    "##### В первой части задания (до раздела 'Распределение студентов по курсам') использование циклов запрещается и повлечет за собой снижение оценки. Использование <code>vectorize</code> и  <code>apply</code>, <code>apply_along_axis</code> крайне нежелательно."
   ]
  },
  {
   "cell_type": "markdown",
   "metadata": {
    "id": "shFkfJkohLux"
   },
   "source": [
    "Для каждой задачи из этого раздела вы должны написать код для получения ответа, а также дать текстовый ответ, если он предполагается.\n",
    "\n",
    "На некоторые вопросы вы можете получить путём пристального взгляда на таблицу, но это не будет засчитываться. Вы в любом случае должны получить ответ с помощью кода."
   ]
  },
  {
   "cell_type": "markdown",
   "metadata": {
    "id": "gDD85M7bhLux"
   },
   "source": [
    "#### 1. [0 баллов] Откройте файл с таблицей (не забудьте про её формат). Выведите последние 10 строк.\n",
    "\n",
    "Посмотрите на данные и скажите, что они из себя представляют, сколько в таблице строк, какие столбцы? (на это не надо отвечать, просто подумайте об этом)"
   ]
  },
  {
   "cell_type": "code",
   "execution_count": 407,
   "metadata": {
    "id": "PKulur3LhLuy"
   },
   "outputs": [
    {
     "name": "stdout",
     "output_type": "stream",
     "text": [
      "Import data\n",
      "(361, 16)\n"
     ]
    },
    {
     "data": {
      "text/html": [
       "<div>\n",
       "<style scoped>\n",
       "    .dataframe tbody tr th:only-of-type {\n",
       "        vertical-align: middle;\n",
       "    }\n",
       "\n",
       "    .dataframe tbody tr th {\n",
       "        vertical-align: top;\n",
       "    }\n",
       "\n",
       "    .dataframe thead th {\n",
       "        text-align: right;\n",
       "    }\n",
       "</style>\n",
       "<table border=\"1\" class=\"dataframe\">\n",
       "  <thead>\n",
       "    <tr style=\"text-align: right;\">\n",
       "      <th></th>\n",
       "      <th>timestamp</th>\n",
       "      <th>id</th>\n",
       "      <th>rating</th>\n",
       "      <th>18_group</th>\n",
       "      <th>is_mi</th>\n",
       "      <th>fall_1</th>\n",
       "      <th>fall_2</th>\n",
       "      <th>fall_3</th>\n",
       "      <th>spring_1</th>\n",
       "      <th>spring_2</th>\n",
       "      <th>spring_3</th>\n",
       "      <th>is_first_time</th>\n",
       "      <th>percentile</th>\n",
       "      <th>17_group</th>\n",
       "      <th>blended</th>\n",
       "      <th>is_ml_student</th>\n",
       "    </tr>\n",
       "  </thead>\n",
       "  <tbody>\n",
       "    <tr>\n",
       "      <th>0</th>\n",
       "      <td>2020-05-15 01:12:50.543</td>\n",
       "      <td>93ff79a51cd602f1dd3028ba2c129503</td>\n",
       "      <td>698</td>\n",
       "      <td>181.0</td>\n",
       "      <td>NaN</td>\n",
       "      <td>Язык SQL</td>\n",
       "      <td>Высокопроизводительные вычисления</td>\n",
       "      <td>Матричные вычисления</td>\n",
       "      <td>Дискретная оптимизация</td>\n",
       "      <td>Численные методы</td>\n",
       "      <td>Машинное обучение 2</td>\n",
       "      <td>Да</td>\n",
       "      <td>0.183857</td>\n",
       "      <td>NaN</td>\n",
       "      <td>NaN</td>\n",
       "      <td>NaN</td>\n",
       "    </tr>\n",
       "    <tr>\n",
       "      <th>1</th>\n",
       "      <td>2020-05-15 02:46:48.066</td>\n",
       "      <td>26b01b1c4cd5656bab18d24c548834fb</td>\n",
       "      <td>647</td>\n",
       "      <td>181.0</td>\n",
       "      <td>NaN</td>\n",
       "      <td>Высокопроизводительные вычисления</td>\n",
       "      <td>Безопасность компьютерных систем</td>\n",
       "      <td>Язык SQL</td>\n",
       "      <td>Дискретная оптимизация</td>\n",
       "      <td>Численные методы</td>\n",
       "      <td>Машинное обучение 2</td>\n",
       "      <td>Нет</td>\n",
       "      <td>0.426009</td>\n",
       "      <td>NaN</td>\n",
       "      <td>NaN</td>\n",
       "      <td>NaN</td>\n",
       "    </tr>\n",
       "    <tr>\n",
       "      <th>2</th>\n",
       "      <td>2020-05-15 03:12:41.480</td>\n",
       "      <td>30f3653fc176d54e89ac3179c455c6dd</td>\n",
       "      <td>624</td>\n",
       "      <td>185.0</td>\n",
       "      <td>NaN</td>\n",
       "      <td>Безопасность компьютерных систем</td>\n",
       "      <td>Матричные вычисления</td>\n",
       "      <td>Моделирование временных рядов</td>\n",
       "      <td>Дискретная оптимизация</td>\n",
       "      <td>Машинное обучение 2</td>\n",
       "      <td>Численные методы</td>\n",
       "      <td>Да</td>\n",
       "      <td>0.538117</td>\n",
       "      <td>NaN</td>\n",
       "      <td>NaN</td>\n",
       "      <td>NaN</td>\n",
       "    </tr>\n",
       "    <tr>\n",
       "      <th>3</th>\n",
       "      <td>2020-05-15 04:43:08.994</td>\n",
       "      <td>1528f0eaa027580820ccf0d92a53ad68</td>\n",
       "      <td>579</td>\n",
       "      <td>182.0</td>\n",
       "      <td>NaN</td>\n",
       "      <td>Statistical Learning Theory</td>\n",
       "      <td>Высокопроизводительные вычисления</td>\n",
       "      <td>Матричные вычисления</td>\n",
       "      <td>Дискретная оптимизация</td>\n",
       "      <td>Численные методы</td>\n",
       "      <td>Машинное обучение 2</td>\n",
       "      <td>Да</td>\n",
       "      <td>0.744395</td>\n",
       "      <td>NaN</td>\n",
       "      <td>NaN</td>\n",
       "      <td>NaN</td>\n",
       "    </tr>\n",
       "    <tr>\n",
       "      <th>4</th>\n",
       "      <td>2020-05-15 07:47:17.197</td>\n",
       "      <td>496ea4f0d4abe264b1bb1b80eb3830c5</td>\n",
       "      <td>572</td>\n",
       "      <td>183.0</td>\n",
       "      <td>NaN</td>\n",
       "      <td>Высокопроизводительные вычисления</td>\n",
       "      <td>Безопасность компьютерных систем</td>\n",
       "      <td>Теория баз данных</td>\n",
       "      <td>Компьютерные сети</td>\n",
       "      <td>Дискретная оптимизация</td>\n",
       "      <td>Численные методы</td>\n",
       "      <td>Да</td>\n",
       "      <td>0.780269</td>\n",
       "      <td>NaN</td>\n",
       "      <td>NaN</td>\n",
       "      <td>NaN</td>\n",
       "    </tr>\n",
       "  </tbody>\n",
       "</table>\n",
       "</div>"
      ],
      "text/plain": [
       "                timestamp                                id  rating  18_group  \\\n",
       "0 2020-05-15 01:12:50.543  93ff79a51cd602f1dd3028ba2c129503     698     181.0   \n",
       "1 2020-05-15 02:46:48.066  26b01b1c4cd5656bab18d24c548834fb     647     181.0   \n",
       "2 2020-05-15 03:12:41.480  30f3653fc176d54e89ac3179c455c6dd     624     185.0   \n",
       "3 2020-05-15 04:43:08.994  1528f0eaa027580820ccf0d92a53ad68     579     182.0   \n",
       "4 2020-05-15 07:47:17.197  496ea4f0d4abe264b1bb1b80eb3830c5     572     183.0   \n",
       "\n",
       "   is_mi                             fall_1  \\\n",
       "0    NaN                           Язык SQL   \n",
       "1    NaN  Высокопроизводительные вычисления   \n",
       "2    NaN   Безопасность компьютерных систем   \n",
       "3    NaN        Statistical Learning Theory   \n",
       "4    NaN  Высокопроизводительные вычисления   \n",
       "\n",
       "                              fall_2                         fall_3  \\\n",
       "0  Высокопроизводительные вычисления           Матричные вычисления   \n",
       "1   Безопасность компьютерных систем                       Язык SQL   \n",
       "2               Матричные вычисления  Моделирование временных рядов   \n",
       "3  Высокопроизводительные вычисления           Матричные вычисления   \n",
       "4   Безопасность компьютерных систем              Теория баз данных   \n",
       "\n",
       "                 spring_1                spring_2             spring_3  \\\n",
       "0  Дискретная оптимизация        Численные методы  Машинное обучение 2   \n",
       "1  Дискретная оптимизация        Численные методы  Машинное обучение 2   \n",
       "2  Дискретная оптимизация     Машинное обучение 2     Численные методы   \n",
       "3  Дискретная оптимизация        Численные методы  Машинное обучение 2   \n",
       "4       Компьютерные сети  Дискретная оптимизация     Численные методы   \n",
       "\n",
       "  is_first_time  percentile  17_group blended  is_ml_student  \n",
       "0            Да    0.183857       NaN     NaN            NaN  \n",
       "1           Нет    0.426009       NaN     NaN            NaN  \n",
       "2            Да    0.538117       NaN     NaN            NaN  \n",
       "3            Да    0.744395       NaN     NaN            NaN  \n",
       "4            Да    0.780269       NaN     NaN            NaN  "
      ]
     },
     "execution_count": 407,
     "metadata": {},
     "output_type": "execute_result"
    }
   ],
   "source": [
    "print('Import data')\n",
    "data = pd.read_excel('end_seminar.xlsx')\n",
    "print(data.shape)\n",
    "data.head()\n"
   ]
  },
  {
   "cell_type": "markdown",
   "metadata": {
    "id": "jPiMwyqHhLuy"
   },
   "source": [
    "#### 2. [0.5 балла] Есть ли в данных пропуски? В каких колонках? Сколько их в каждой из этих колонок?"
   ]
  },
  {
   "cell_type": "code",
   "execution_count": 408,
   "metadata": {
    "id": "edY1RrSOhLuy"
   },
   "outputs": [
    {
     "name": "stdout",
     "output_type": "stream",
     "text": [
      "Columns with empty values:\n"
     ]
    },
    {
     "data": {
      "text/plain": [
       "18_group         138\n",
       "is_mi            343\n",
       "is_first_time      2\n",
       "17_group         223\n",
       "blended          223\n",
       "is_ml_student    304\n",
       "dtype: int64"
      ]
     },
     "execution_count": 408,
     "metadata": {},
     "output_type": "execute_result"
    }
   ],
   "source": [
    "print('Columns with empty values:')\n",
    "data.isna().sum().loc[lambda n: n > 0]\n"
   ]
  },
  {
   "cell_type": "markdown",
   "metadata": {
    "id": "B5ORhP2uhLuz"
   },
   "source": [
    "Заполните пропуски пустой строкой для строковых колонок и нулём для числовых (постарайтесь избежать перечисления названий всех столбцов)."
   ]
  },
  {
   "cell_type": "code",
   "execution_count": 409,
   "metadata": {},
   "outputs": [
    {
     "data": {
      "text/plain": [
       "timestamp        datetime64[ns]\n",
       "id                       object\n",
       "rating                    int64\n",
       "18_group                float64\n",
       "is_mi                   float64\n",
       "fall_1                   object\n",
       "fall_2                   object\n",
       "fall_3                   object\n",
       "spring_1                 object\n",
       "spring_2                 object\n",
       "spring_3                 object\n",
       "is_first_time            object\n",
       "percentile              float64\n",
       "17_group                float64\n",
       "blended                  object\n",
       "is_ml_student           float64\n",
       "dtype: object"
      ]
     },
     "execution_count": 409,
     "metadata": {},
     "output_type": "execute_result"
    }
   ],
   "source": [
    "# Check empty values types\n",
    "data.dtypes\n",
    "# object and float64 only"
   ]
  },
  {
   "cell_type": "code",
   "execution_count": 410,
   "metadata": {
    "id": "TlF_JJ2ghLuz"
   },
   "outputs": [
    {
     "name": "stdout",
     "output_type": "stream",
     "text": [
      "Total nans: 0\n"
     ]
    },
    {
     "data": {
      "text/html": [
       "<div>\n",
       "<style scoped>\n",
       "    .dataframe tbody tr th:only-of-type {\n",
       "        vertical-align: middle;\n",
       "    }\n",
       "\n",
       "    .dataframe tbody tr th {\n",
       "        vertical-align: top;\n",
       "    }\n",
       "\n",
       "    .dataframe thead th {\n",
       "        text-align: right;\n",
       "    }\n",
       "</style>\n",
       "<table border=\"1\" class=\"dataframe\">\n",
       "  <thead>\n",
       "    <tr style=\"text-align: right;\">\n",
       "      <th></th>\n",
       "      <th>timestamp</th>\n",
       "      <th>id</th>\n",
       "      <th>rating</th>\n",
       "      <th>18_group</th>\n",
       "      <th>is_mi</th>\n",
       "      <th>fall_1</th>\n",
       "      <th>fall_2</th>\n",
       "      <th>fall_3</th>\n",
       "      <th>spring_1</th>\n",
       "      <th>spring_2</th>\n",
       "      <th>spring_3</th>\n",
       "      <th>is_first_time</th>\n",
       "      <th>percentile</th>\n",
       "      <th>17_group</th>\n",
       "      <th>blended</th>\n",
       "      <th>is_ml_student</th>\n",
       "    </tr>\n",
       "  </thead>\n",
       "  <tbody>\n",
       "    <tr>\n",
       "      <th>0</th>\n",
       "      <td>2020-05-15 01:12:50.543</td>\n",
       "      <td>93ff79a51cd602f1dd3028ba2c129503</td>\n",
       "      <td>698</td>\n",
       "      <td>181.0</td>\n",
       "      <td>0.0</td>\n",
       "      <td>Язык SQL</td>\n",
       "      <td>Высокопроизводительные вычисления</td>\n",
       "      <td>Матричные вычисления</td>\n",
       "      <td>Дискретная оптимизация</td>\n",
       "      <td>Численные методы</td>\n",
       "      <td>Машинное обучение 2</td>\n",
       "      <td>Да</td>\n",
       "      <td>0.183857</td>\n",
       "      <td>0.0</td>\n",
       "      <td></td>\n",
       "      <td>0.0</td>\n",
       "    </tr>\n",
       "    <tr>\n",
       "      <th>1</th>\n",
       "      <td>2020-05-15 02:46:48.066</td>\n",
       "      <td>26b01b1c4cd5656bab18d24c548834fb</td>\n",
       "      <td>647</td>\n",
       "      <td>181.0</td>\n",
       "      <td>0.0</td>\n",
       "      <td>Высокопроизводительные вычисления</td>\n",
       "      <td>Безопасность компьютерных систем</td>\n",
       "      <td>Язык SQL</td>\n",
       "      <td>Дискретная оптимизация</td>\n",
       "      <td>Численные методы</td>\n",
       "      <td>Машинное обучение 2</td>\n",
       "      <td>Нет</td>\n",
       "      <td>0.426009</td>\n",
       "      <td>0.0</td>\n",
       "      <td></td>\n",
       "      <td>0.0</td>\n",
       "    </tr>\n",
       "    <tr>\n",
       "      <th>2</th>\n",
       "      <td>2020-05-15 03:12:41.480</td>\n",
       "      <td>30f3653fc176d54e89ac3179c455c6dd</td>\n",
       "      <td>624</td>\n",
       "      <td>185.0</td>\n",
       "      <td>0.0</td>\n",
       "      <td>Безопасность компьютерных систем</td>\n",
       "      <td>Матричные вычисления</td>\n",
       "      <td>Моделирование временных рядов</td>\n",
       "      <td>Дискретная оптимизация</td>\n",
       "      <td>Машинное обучение 2</td>\n",
       "      <td>Численные методы</td>\n",
       "      <td>Да</td>\n",
       "      <td>0.538117</td>\n",
       "      <td>0.0</td>\n",
       "      <td></td>\n",
       "      <td>0.0</td>\n",
       "    </tr>\n",
       "    <tr>\n",
       "      <th>3</th>\n",
       "      <td>2020-05-15 04:43:08.994</td>\n",
       "      <td>1528f0eaa027580820ccf0d92a53ad68</td>\n",
       "      <td>579</td>\n",
       "      <td>182.0</td>\n",
       "      <td>0.0</td>\n",
       "      <td>Statistical Learning Theory</td>\n",
       "      <td>Высокопроизводительные вычисления</td>\n",
       "      <td>Матричные вычисления</td>\n",
       "      <td>Дискретная оптимизация</td>\n",
       "      <td>Численные методы</td>\n",
       "      <td>Машинное обучение 2</td>\n",
       "      <td>Да</td>\n",
       "      <td>0.744395</td>\n",
       "      <td>0.0</td>\n",
       "      <td></td>\n",
       "      <td>0.0</td>\n",
       "    </tr>\n",
       "    <tr>\n",
       "      <th>4</th>\n",
       "      <td>2020-05-15 07:47:17.197</td>\n",
       "      <td>496ea4f0d4abe264b1bb1b80eb3830c5</td>\n",
       "      <td>572</td>\n",
       "      <td>183.0</td>\n",
       "      <td>0.0</td>\n",
       "      <td>Высокопроизводительные вычисления</td>\n",
       "      <td>Безопасность компьютерных систем</td>\n",
       "      <td>Теория баз данных</td>\n",
       "      <td>Компьютерные сети</td>\n",
       "      <td>Дискретная оптимизация</td>\n",
       "      <td>Численные методы</td>\n",
       "      <td>Да</td>\n",
       "      <td>0.780269</td>\n",
       "      <td>0.0</td>\n",
       "      <td></td>\n",
       "      <td>0.0</td>\n",
       "    </tr>\n",
       "  </tbody>\n",
       "</table>\n",
       "</div>"
      ],
      "text/plain": [
       "                timestamp                                id  rating  18_group  \\\n",
       "0 2020-05-15 01:12:50.543  93ff79a51cd602f1dd3028ba2c129503     698     181.0   \n",
       "1 2020-05-15 02:46:48.066  26b01b1c4cd5656bab18d24c548834fb     647     181.0   \n",
       "2 2020-05-15 03:12:41.480  30f3653fc176d54e89ac3179c455c6dd     624     185.0   \n",
       "3 2020-05-15 04:43:08.994  1528f0eaa027580820ccf0d92a53ad68     579     182.0   \n",
       "4 2020-05-15 07:47:17.197  496ea4f0d4abe264b1bb1b80eb3830c5     572     183.0   \n",
       "\n",
       "   is_mi                             fall_1  \\\n",
       "0    0.0                           Язык SQL   \n",
       "1    0.0  Высокопроизводительные вычисления   \n",
       "2    0.0   Безопасность компьютерных систем   \n",
       "3    0.0        Statistical Learning Theory   \n",
       "4    0.0  Высокопроизводительные вычисления   \n",
       "\n",
       "                              fall_2                         fall_3  \\\n",
       "0  Высокопроизводительные вычисления           Матричные вычисления   \n",
       "1   Безопасность компьютерных систем                       Язык SQL   \n",
       "2               Матричные вычисления  Моделирование временных рядов   \n",
       "3  Высокопроизводительные вычисления           Матричные вычисления   \n",
       "4   Безопасность компьютерных систем              Теория баз данных   \n",
       "\n",
       "                 spring_1                spring_2             spring_3  \\\n",
       "0  Дискретная оптимизация        Численные методы  Машинное обучение 2   \n",
       "1  Дискретная оптимизация        Численные методы  Машинное обучение 2   \n",
       "2  Дискретная оптимизация     Машинное обучение 2     Численные методы   \n",
       "3  Дискретная оптимизация        Численные методы  Машинное обучение 2   \n",
       "4       Компьютерные сети  Дискретная оптимизация     Численные методы   \n",
       "\n",
       "  is_first_time  percentile  17_group blended  is_ml_student  \n",
       "0            Да    0.183857       0.0                    0.0  \n",
       "1           Нет    0.426009       0.0                    0.0  \n",
       "2            Да    0.538117       0.0                    0.0  \n",
       "3            Да    0.744395       0.0                    0.0  \n",
       "4            Да    0.780269       0.0                    0.0  "
      ]
     },
     "execution_count": 410,
     "metadata": {},
     "output_type": "execute_result"
    }
   ],
   "source": [
    "# Fill nan's for fields of types float64 and object with values 0 and ''\n",
    "float_cols = data.select_dtypes(include=['float64']).columns\n",
    "str_cols = data.select_dtypes(include=['object']).columns\n",
    "data.loc[:, float_cols] = data.loc[:, float_cols].fillna(0)\n",
    "data.loc[:, str_cols] = data.loc[:, str_cols].fillna('')\n",
    "\n",
    "# Check the absence of nan fields\n",
    "print('Total nans:', data.isna().sum().sum())\n",
    "\n",
    "data.head()\n"
   ]
  },
  {
   "cell_type": "markdown",
   "metadata": {
    "id": "w5ELhkT1hLuz"
   },
   "source": [
    "#### 3. [0.5 балла] Посмотрите повнимательнее на колонку 'is_first_time'. \n",
    "\n",
    "Есть ли в ней ответы 'Нет'? Сколько их?\n",
    "\n",
    "Если вы найдете повторные обращения студентов, оставьте только самую позднюю версию. В дальнейших заданиях используйте версию данных без повторов.\n",
    "\n",
    "<i>Обращения со значением 'Нет' в 'is_first_time' могут быть как повторными, так и первичными, поскольку поле заполняли сами студенты.</i>"
   ]
  },
  {
   "cell_type": "code",
   "execution_count": 411,
   "metadata": {
    "id": "VEfiNsyQhLuz"
   },
   "outputs": [
    {
     "name": "stdout",
     "output_type": "stream",
     "text": [
      "Total \"no\" results: 51\n",
      "Total unique students: 347\n"
     ]
    }
   ],
   "source": [
    "cnt_nos = data.groupby('is_first_time').size()['Нет']\n",
    "print('Total \"no\" results:', cnt_nos)\n",
    "\n",
    "cnt_unique_ids = data.groupby('id').size().count()\n",
    "print('Total unique students:', cnt_unique_ids)\n"
   ]
  },
  {
   "cell_type": "code",
   "execution_count": 412,
   "metadata": {},
   "outputs": [],
   "source": [
    "# Prepared data set - pds\n",
    "\n",
    "# Calc latest ts\n",
    "pds = data.groupby('id').aggregate({'timestamp': 'max'}).reset_index().rename(\n",
    "    columns={'timestamp': 'latest_ts'})\n",
    "pds = data.merge(pds, how='inner', on='id', suffixes=['', '_latest'])\n",
    "\n",
    "# Leave lines with only latest ts\n",
    "pds = pds[pds.timestamp == pds.latest_ts].drop(columns=['latest_ts'])\n"
   ]
  },
  {
   "cell_type": "code",
   "execution_count": 413,
   "metadata": {},
   "outputs": [
    {
     "name": "stdout",
     "output_type": "stream",
     "text": [
      "Prepared data set shape:  (347, 16)\n",
      "\n",
      "Data: \n",
      "                                   id               timestamp\n",
      "129  ffc58d371e2f52e1c7f45d49d3d629d0 2020-05-18 21:12:02.445\n",
      "139  ffc58d371e2f52e1c7f45d49d3d629d0 2020-05-18 21:27:02.445\n",
      "\n",
      "Prepared ds: \n",
      "                                   id               timestamp\n",
      "130  ffc58d371e2f52e1c7f45d49d3d629d0 2020-05-18 21:27:02.445\n"
     ]
    }
   ],
   "source": [
    "# Check that we removed right lines\n",
    "print('Prepared data set shape: ', pds.shape)\n",
    "\n",
    "print('\\nData: ')\n",
    "print(data[data.id == 'ffc58d371e2f52e1c7f45d49d3d629d0'][['id', 'timestamp']])\n",
    "\n",
    "print('\\nPrepared ds: ')\n",
    "print(pds[pds.id == 'ffc58d371e2f52e1c7f45d49d3d629d0'][['id', 'timestamp']])\n",
    "\n",
    "# gg wp\n"
   ]
  },
  {
   "cell_type": "markdown",
   "metadata": {},
   "source": [
    "#### 4. [0.5 балла] Ответьте на вопросы:\n",
    "1. Сколько было заявок из групп 18-го года набора, а сколько из групп 17-го года?\n",
    "2. Есть ли студенты с равными перцентилями (среди объединенных данных, ведь конкурс на каждый курс общий)?"
   ]
  },
  {
   "cell_type": "code",
   "execution_count": 414,
   "metadata": {},
   "outputs": [
    {
     "name": "stdout",
     "output_type": "stream",
     "text": [
      "Students of 2017: 134\n",
      "Students of 2018: 213\n"
     ]
    }
   ],
   "source": [
    "year_17 = pds[pds['17_group'] != 0]\n",
    "year_18 = pds[pds['18_group'] != 0]\n",
    "\n",
    "print(f'Students of 2017: {year_17.shape[0]}')\n",
    "print(f'Students of 2018: {year_18.shape[0]}')\n"
   ]
  },
  {
   "cell_type": "code",
   "execution_count": 415,
   "metadata": {},
   "outputs": [
    {
     "data": {
      "text/plain": [
       "percentile\n",
       "0.000000    2\n",
       "0.652174    1\n",
       "0.673913    1\n",
       "0.672646    1\n",
       "0.668161    1\n",
       "           ..\n",
       "0.322870    1\n",
       "0.318841    1\n",
       "0.318386    1\n",
       "0.313901    1\n",
       "0.995516    1\n",
       "Length: 346, dtype: int64"
      ]
     },
     "execution_count": 415,
     "metadata": {},
     "output_type": "execute_result"
    }
   ],
   "source": [
    "repeated_perc = pds.groupby('percentile').size()\n",
    "repeated_perc.sort_values(ascending=False)\n",
    "\n",
    "# As we can notice, only 0 percentile appears twice (2 years - 2 tops)\n"
   ]
  },
  {
   "cell_type": "markdown",
   "metadata": {
    "id": "IlzHp3HVhLuz"
   },
   "source": [
    "#### 5. [0.5 балла] Какие  blended-курсы для четверокурсников существуют? На какой blended-курс записалось наибольшее количество студентов? На каком из blended-курсов собрались студенты с самым высоким средним рейтингом (выведите этот курс и количество студентов на нем)? "
   ]
  },
  {
   "cell_type": "code",
   "execution_count": 416,
   "metadata": {
    "id": "j_BRWerHhLu0"
   },
   "outputs": [
    {
     "name": "stdout",
     "output_type": "stream",
     "text": [
      "                                 blended percentile          \n",
      "                                              count      mean\n",
      "0                                 DevOps         87  0.502499\n",
      "1  Введение в дифференциальную геометрию         15  0.343961\n",
      "2         Соревновательный анализ данных         32  0.537817\n",
      "\n",
      "Course list: ['DevOps', 'Введение в дифференциальную геометрию', 'Соревновательный анализ данных']\n",
      "Max students course: DevOps (87)\n",
      "Clever students course: Соревновательный анализ данных (32)[0.537817]\n"
     ]
    }
   ],
   "source": [
    "aggregated = pds[pds.blended != ''].groupby('blended').aggregate(\n",
    "    {'percentile': ['count', 'mean']}).reset_index()\n",
    "\n",
    "print (aggregated, end='\\n\\n')\n",
    "\n",
    "\n",
    "max_cnt = aggregated['percentile']['count'].max()\n",
    "max_cnt_course = aggregated[aggregated['percentile']['count'] == max_cnt].iloc[0].to_list()\n",
    "max_mean = aggregated['percentile']['mean'].max()\n",
    "max_mean_course = aggregated[aggregated['percentile']['mean'] == max_mean].iloc[0].to_list()\n",
    "\n",
    "\n",
    "print('Course list:', aggregated['blended'].to_list())\n",
    "print(f'Max students course: {max_cnt_course[0]} ({max_cnt})')\n",
    "print(f'Clever students course: {max_mean_course[0]} ({max_mean_course[1]})[{max_mean:.6}]')\n"
   ]
  },
  {
   "cell_type": "markdown",
   "metadata": {
    "id": "IU_FLt8HhLu0"
   },
   "source": [
    "#### 6. [1 балл] Выясните, есть ли студенты с абсолютно одинаковыми предпочтениями по всем курсам.\n",
    "\n",
    "Для этого сформируйте таблицу, где для каждого возможного набора курсов посчитано количество студентов, выбравших такой набор, и оставьте только строки где это количество больше 1.\n",
    "\n",
    "В данном случае набор курсов задается упорядоченным множеством ('fall_1', 'fall_2', 'fall_3', 'spring_1', 'spring_2', 'spring_3', 'blended'). Элемент blended будет нулевым для 3-го курса."
   ]
  },
  {
   "cell_type": "code",
   "execution_count": 417,
   "metadata": {
    "id": "BBDlR1mFhLu0"
   },
   "outputs": [
    {
     "data": {
      "text/html": [
       "<div>\n",
       "<style scoped>\n",
       "    .dataframe tbody tr th:only-of-type {\n",
       "        vertical-align: middle;\n",
       "    }\n",
       "\n",
       "    .dataframe tbody tr th {\n",
       "        vertical-align: top;\n",
       "    }\n",
       "\n",
       "    .dataframe thead th {\n",
       "        text-align: right;\n",
       "    }\n",
       "</style>\n",
       "<table border=\"1\" class=\"dataframe\">\n",
       "  <thead>\n",
       "    <tr style=\"text-align: right;\">\n",
       "      <th></th>\n",
       "      <th>fall_1</th>\n",
       "      <th>fall_2</th>\n",
       "      <th>fall_3</th>\n",
       "      <th>spring_1</th>\n",
       "      <th>spring_2</th>\n",
       "      <th>spring_3</th>\n",
       "      <th>blended</th>\n",
       "      <th>cnt</th>\n",
       "    </tr>\n",
       "  </thead>\n",
       "  <tbody>\n",
       "    <tr>\n",
       "      <th>0</th>\n",
       "      <td>Statistical Learning Theory</td>\n",
       "      <td>Анализ неструктурированных данных</td>\n",
       "      <td>Сбор и обработка данных с помощью краудсорсинга</td>\n",
       "      <td>Обучение с подкреплением</td>\n",
       "      <td>Конфликты и кооперация</td>\n",
       "      <td>Компьютерное зрение</td>\n",
       "      <td>DevOps</td>\n",
       "      <td>2</td>\n",
       "    </tr>\n",
       "    <tr>\n",
       "      <th>1</th>\n",
       "      <td>Байесовские методы машинного обучения</td>\n",
       "      <td>Анализ неструктурированных данных</td>\n",
       "      <td>Глубинное обучение в обработке звука</td>\n",
       "      <td>Обучение с подкреплением</td>\n",
       "      <td>Генеративные модели в машинном обучении</td>\n",
       "      <td>Компьютерное зрение</td>\n",
       "      <td>DevOps</td>\n",
       "      <td>2</td>\n",
       "    </tr>\n",
       "    <tr>\n",
       "      <th>2</th>\n",
       "      <td>Байесовские методы машинного обучения</td>\n",
       "      <td>Анализ неструктурированных данных</td>\n",
       "      <td>Сбор и обработка данных с помощью краудсорсинга</td>\n",
       "      <td>Обучение с подкреплением</td>\n",
       "      <td>Компьютерное зрение</td>\n",
       "      <td>Генеративные модели в машинном обучении</td>\n",
       "      <td>DevOps</td>\n",
       "      <td>2</td>\n",
       "    </tr>\n",
       "    <tr>\n",
       "      <th>3</th>\n",
       "      <td>Безопасность компьютерных систем</td>\n",
       "      <td>Statistical Learning Theory</td>\n",
       "      <td>Матричные вычисления</td>\n",
       "      <td>Дискретная оптимизация</td>\n",
       "      <td>Промышленное программирование на языке Java</td>\n",
       "      <td>Дополнительные главы прикладной статистики</td>\n",
       "      <td></td>\n",
       "      <td>3</td>\n",
       "    </tr>\n",
       "    <tr>\n",
       "      <th>4</th>\n",
       "      <td>Безопасность компьютерных систем</td>\n",
       "      <td>Высокопроизводительные вычисления</td>\n",
       "      <td>Анализ неструктурированных данных</td>\n",
       "      <td>Проектирование и разработка высоконагруженных ...</td>\n",
       "      <td>Методы сжатия и передачи медиаданных</td>\n",
       "      <td>Конфликты и кооперация</td>\n",
       "      <td>DevOps</td>\n",
       "      <td>2</td>\n",
       "    </tr>\n",
       "    <tr>\n",
       "      <th>5</th>\n",
       "      <td>Безопасность компьютерных систем</td>\n",
       "      <td>Высокопроизводительные вычисления</td>\n",
       "      <td>Язык SQL</td>\n",
       "      <td>Компьютерные сети</td>\n",
       "      <td>Промышленное программирование на языке Java</td>\n",
       "      <td>Дискретная оптимизация</td>\n",
       "      <td></td>\n",
       "      <td>3</td>\n",
       "    </tr>\n",
       "    <tr>\n",
       "      <th>6</th>\n",
       "      <td>Безопасность компьютерных систем</td>\n",
       "      <td>Высокопроизводительные вычисления</td>\n",
       "      <td>Язык SQL</td>\n",
       "      <td>Промышленное программирование на языке Java</td>\n",
       "      <td>Компьютерные сети</td>\n",
       "      <td>Системы баз данных</td>\n",
       "      <td></td>\n",
       "      <td>2</td>\n",
       "    </tr>\n",
       "    <tr>\n",
       "      <th>7</th>\n",
       "      <td>Безопасность компьютерных систем</td>\n",
       "      <td>Матричные вычисления</td>\n",
       "      <td>Моделирование временных рядов</td>\n",
       "      <td>Промышленное программирование на языке Java</td>\n",
       "      <td>Компьютерные сети</td>\n",
       "      <td>Дискретная оптимизация</td>\n",
       "      <td></td>\n",
       "      <td>2</td>\n",
       "    </tr>\n",
       "    <tr>\n",
       "      <th>8</th>\n",
       "      <td>Безопасность компьютерных систем</td>\n",
       "      <td>Сбор и обработка данных с помощью краудсорсинга</td>\n",
       "      <td>Матричные вычисления</td>\n",
       "      <td>Компьютерные сети</td>\n",
       "      <td>Промышленное программирование на языке Java</td>\n",
       "      <td>Анализ данных в бизнесе</td>\n",
       "      <td></td>\n",
       "      <td>2</td>\n",
       "    </tr>\n",
       "    <tr>\n",
       "      <th>9</th>\n",
       "      <td>Безопасность компьютерных систем</td>\n",
       "      <td>Теория баз данных</td>\n",
       "      <td>Язык SQL</td>\n",
       "      <td>Машинное обучение 2</td>\n",
       "      <td>Компьютерные сети</td>\n",
       "      <td>Промышленное программирование на языке Java</td>\n",
       "      <td></td>\n",
       "      <td>2</td>\n",
       "    </tr>\n",
       "    <tr>\n",
       "      <th>10</th>\n",
       "      <td>Высокопроизводительные вычисления</td>\n",
       "      <td>Безопасность компьютерных систем</td>\n",
       "      <td>Сбор и обработка данных с помощью краудсорсинга</td>\n",
       "      <td>Проектирование и разработка высоконагруженных ...</td>\n",
       "      <td>Методы сжатия и передачи медиаданных</td>\n",
       "      <td>Компьютерное зрение</td>\n",
       "      <td>DevOps</td>\n",
       "      <td>2</td>\n",
       "    </tr>\n",
       "    <tr>\n",
       "      <th>11</th>\n",
       "      <td>Высокопроизводительные вычисления</td>\n",
       "      <td>Сбор и обработка данных с помощью краудсорсинга</td>\n",
       "      <td>Моделирование временных рядов</td>\n",
       "      <td>Проектирование и разработка высоконагруженных ...</td>\n",
       "      <td>Методы сжатия и передачи медиаданных</td>\n",
       "      <td>Методы сжатия и передачи медиаданных</td>\n",
       "      <td>DevOps</td>\n",
       "      <td>2</td>\n",
       "    </tr>\n",
       "    <tr>\n",
       "      <th>12</th>\n",
       "      <td>Моделирование временных рядов</td>\n",
       "      <td>Сбор и обработка данных с помощью краудсорсинга</td>\n",
       "      <td>Безопасность компьютерных систем</td>\n",
       "      <td>Компьютерные сети</td>\n",
       "      <td>Дополнительные главы прикладной статистики</td>\n",
       "      <td>Системы баз данных</td>\n",
       "      <td></td>\n",
       "      <td>2</td>\n",
       "    </tr>\n",
       "    <tr>\n",
       "      <th>13</th>\n",
       "      <td>Сбор и обработка данных с помощью краудсорсинга</td>\n",
       "      <td>Язык SQL</td>\n",
       "      <td>Теория баз данных</td>\n",
       "      <td>Промышленное программирование на языке Java</td>\n",
       "      <td>Машинное обучение 2</td>\n",
       "      <td>Компьютерные сети</td>\n",
       "      <td></td>\n",
       "      <td>2</td>\n",
       "    </tr>\n",
       "    <tr>\n",
       "      <th>14</th>\n",
       "      <td>Язык SQL</td>\n",
       "      <td>Высокопроизводительные вычисления</td>\n",
       "      <td>Теория баз данных</td>\n",
       "      <td>Компьютерные сети</td>\n",
       "      <td>Промышленное программирование на языке Java</td>\n",
       "      <td>Дискретная оптимизация</td>\n",
       "      <td></td>\n",
       "      <td>2</td>\n",
       "    </tr>\n",
       "  </tbody>\n",
       "</table>\n",
       "</div>"
      ],
      "text/plain": [
       "                                             fall_1  \\\n",
       "0                       Statistical Learning Theory   \n",
       "1             Байесовские методы машинного обучения   \n",
       "2             Байесовские методы машинного обучения   \n",
       "3                  Безопасность компьютерных систем   \n",
       "4                  Безопасность компьютерных систем   \n",
       "5                  Безопасность компьютерных систем   \n",
       "6                  Безопасность компьютерных систем   \n",
       "7                  Безопасность компьютерных систем   \n",
       "8                  Безопасность компьютерных систем   \n",
       "9                  Безопасность компьютерных систем   \n",
       "10                Высокопроизводительные вычисления   \n",
       "11                Высокопроизводительные вычисления   \n",
       "12                    Моделирование временных рядов   \n",
       "13  Сбор и обработка данных с помощью краудсорсинга   \n",
       "14                                         Язык SQL   \n",
       "\n",
       "                                             fall_2  \\\n",
       "0                 Анализ неструктурированных данных   \n",
       "1                 Анализ неструктурированных данных   \n",
       "2                 Анализ неструктурированных данных   \n",
       "3                       Statistical Learning Theory   \n",
       "4                 Высокопроизводительные вычисления   \n",
       "5                 Высокопроизводительные вычисления   \n",
       "6                 Высокопроизводительные вычисления   \n",
       "7                              Матричные вычисления   \n",
       "8   Сбор и обработка данных с помощью краудсорсинга   \n",
       "9                                 Теория баз данных   \n",
       "10                 Безопасность компьютерных систем   \n",
       "11  Сбор и обработка данных с помощью краудсорсинга   \n",
       "12  Сбор и обработка данных с помощью краудсорсинга   \n",
       "13                                         Язык SQL   \n",
       "14                Высокопроизводительные вычисления   \n",
       "\n",
       "                                             fall_3  \\\n",
       "0   Сбор и обработка данных с помощью краудсорсинга   \n",
       "1              Глубинное обучение в обработке звука   \n",
       "2   Сбор и обработка данных с помощью краудсорсинга   \n",
       "3                              Матричные вычисления   \n",
       "4                 Анализ неструктурированных данных   \n",
       "5                                          Язык SQL   \n",
       "6                                          Язык SQL   \n",
       "7                     Моделирование временных рядов   \n",
       "8                              Матричные вычисления   \n",
       "9                                          Язык SQL   \n",
       "10  Сбор и обработка данных с помощью краудсорсинга   \n",
       "11                    Моделирование временных рядов   \n",
       "12                 Безопасность компьютерных систем   \n",
       "13                                Теория баз данных   \n",
       "14                                Теория баз данных   \n",
       "\n",
       "                                             spring_1  \\\n",
       "0                            Обучение с подкреплением   \n",
       "1                            Обучение с подкреплением   \n",
       "2                            Обучение с подкреплением   \n",
       "3                              Дискретная оптимизация   \n",
       "4   Проектирование и разработка высоконагруженных ...   \n",
       "5                                   Компьютерные сети   \n",
       "6         Промышленное программирование на языке Java   \n",
       "7         Промышленное программирование на языке Java   \n",
       "8                                   Компьютерные сети   \n",
       "9                                 Машинное обучение 2   \n",
       "10  Проектирование и разработка высоконагруженных ...   \n",
       "11  Проектирование и разработка высоконагруженных ...   \n",
       "12                                  Компьютерные сети   \n",
       "13        Промышленное программирование на языке Java   \n",
       "14                                  Компьютерные сети   \n",
       "\n",
       "                                       spring_2  \\\n",
       "0                        Конфликты и кооперация   \n",
       "1       Генеративные модели в машинном обучении   \n",
       "2                           Компьютерное зрение   \n",
       "3   Промышленное программирование на языке Java   \n",
       "4          Методы сжатия и передачи медиаданных   \n",
       "5   Промышленное программирование на языке Java   \n",
       "6                             Компьютерные сети   \n",
       "7                             Компьютерные сети   \n",
       "8   Промышленное программирование на языке Java   \n",
       "9                             Компьютерные сети   \n",
       "10         Методы сжатия и передачи медиаданных   \n",
       "11         Методы сжатия и передачи медиаданных   \n",
       "12   Дополнительные главы прикладной статистики   \n",
       "13                          Машинное обучение 2   \n",
       "14  Промышленное программирование на языке Java   \n",
       "\n",
       "                                       spring_3 blended  cnt  \n",
       "0                           Компьютерное зрение  DevOps    2  \n",
       "1                           Компьютерное зрение  DevOps    2  \n",
       "2       Генеративные модели в машинном обучении  DevOps    2  \n",
       "3    Дополнительные главы прикладной статистики            3  \n",
       "4                        Конфликты и кооперация  DevOps    2  \n",
       "5                        Дискретная оптимизация            3  \n",
       "6                            Системы баз данных            2  \n",
       "7                        Дискретная оптимизация            2  \n",
       "8                       Анализ данных в бизнесе            2  \n",
       "9   Промышленное программирование на языке Java            2  \n",
       "10                          Компьютерное зрение  DevOps    2  \n",
       "11         Методы сжатия и передачи медиаданных  DevOps    2  \n",
       "12                           Системы баз данных            2  \n",
       "13                            Компьютерные сети            2  \n",
       "14                       Дискретная оптимизация            2  "
      ]
     },
     "execution_count": 417,
     "metadata": {},
     "output_type": "execute_result"
    }
   ],
   "source": [
    "seasons = ['fall_1', 'fall_2', 'fall_3', 'spring_1',\n",
    "           'spring_2', 'spring_3', 'blended']\n",
    "course_sets = pds.groupby(by=seasons).size().to_frame()\n",
    "course_sets = course_sets.rename(columns={0: 'cnt'})\n",
    "course_sets = course_sets[course_sets.cnt > 1].reset_index()\n",
    "\n",
    "course_sets\n",
    "\n"
   ]
  },
  {
   "cell_type": "markdown",
   "metadata": {
    "id": "spu3r3vchLu0"
   },
   "source": [
    "#### 7. [0.5 балла] Найдите курсы по выбору, на которые записывались как студенты 18-го года набора, так и студенты 17-го года."
   ]
  },
  {
   "cell_type": "code",
   "execution_count": 418,
   "metadata": {
    "id": "t21fWi8ShLu0"
   },
   "outputs": [
    {
     "name": "stdout",
     "output_type": "stream",
     "text": [
      "Students of 17th and 18th years common choices: ['Statistical Learning Theory', 'Безопасность компьютерных систем', 'Высокопроизводительные вычисления', 'Моделирование временных рядов', 'Принятие решений в условиях риска и неопределённости', 'Сбор и обработка данных с помощью краудсорсинга', 'Численные методы']\n"
     ]
    }
   ],
   "source": [
    "import numpy as np\n",
    "\n",
    "courses_17 = pd.unique(year_17[seasons].values.ravel('K'))  \n",
    "courses_18 = pd.unique(year_18[seasons].values.ravel('K'))\n",
    "\n",
    "courses_17and18 = np.intersect1d(courses_18, courses_17, assume_unique=True)\n",
    "\n",
    "print('Students of 17th and 18th years common choices:', courses_17and18.tolist())"
   ]
  },
  {
   "cell_type": "markdown",
   "metadata": {
    "id": "PYfX-Dr5hLu0"
   },
   "source": [
    "Методом исключения найдите курсы, которые предлагались только студентам 18-го года и только студентам 17-го года."
   ]
  },
  {
   "cell_type": "code",
   "execution_count": 419,
   "metadata": {
    "id": "G9SWBOpehLu1"
   },
   "outputs": [
    {
     "name": "stdout",
     "output_type": "stream",
     "text": [
      "17th year unique courses: ['Глубинное обучение в обработке звука', 'Анализ неструктурированных данных', 'Байесовские методы машинного обучения', 'Компьютерное зрение', 'Проектирование и разработка высоконагруженных сервисов', 'Конфликты и кооперация', 'Символьные вычисления', 'Методы сжатия и передачи медиаданных', 'Обучение с подкреплением', 'Генеративные модели в машинном обучении', 'DevOps', 'Введение в дифференциальную геометрию', 'Соревновательный анализ данных']\n",
      "\n",
      "18th year unique courses: ['Язык SQL', 'Теория баз данных', 'Матричные вычисления', 'Дискретная оптимизация', 'Компьютерные сети', 'Промышленное программирование на языке Java', 'Дополнительные главы прикладной статистики', 'Анализ данных в бизнесе', 'Машинное обучение 2', 'Системы баз данных', '']\n"
     ]
    }
   ],
   "source": [
    "courses_17only = np.setdiff1d(courses_17, courses_17and18, assume_unique=True)\n",
    "courses_18only = np.setdiff1d(courses_18, courses_17and18, assume_unique=True)\n",
    "\n",
    "print('17th year unique courses:', courses_17only.tolist())\n",
    "print('\\n18th year unique courses:', courses_18only.tolist())"
   ]
  },
  {
   "cell_type": "markdown",
   "metadata": {
    "id": "uL45Tg5fhLu1"
   },
   "source": [
    "### Визуализации и matplotlib"
   ]
  },
  {
   "cell_type": "markdown",
   "metadata": {
    "id": "MY9lKmP2hLu1"
   },
   "source": [
    "При работе с данными часто неудобно делать какие-то выводы, если смотреть на таблицу и числа в частности, поэтому важно уметь визуализировать данные. Здесь будут описаны ключевые правила оформления графиков для **всех** домашних заданий.\n",
    "\n",
    "У matplotlib, конечно же, есть [документация](https://matplotlib.org/users/index.html) с большим количеством [примеров](https://matplotlib.org/examples/), но для начала достаточно знать про несколько основных типов графиков:\n",
    "- plot — обычный поточечный график, которым можно изображать кривые или отдельные точки;\n",
    "- hist — гистограмма, показывающая распределение некоторой величины;\n",
    "- scatter — график, показывающий взаимосвязь двух величин;\n",
    "- bar — столбцовый график, показывающий взаимосвязь количественной величины от категориальной.\n",
    "\n",
    "В этом задании вы попробуете построить один из них. Не забывайте про базовые принципы построения приличных графиков:\n",
    "- оси должны быть подписаны, причём не слишком мелко;\n",
    "- у графика должно быть название;\n",
    "- если изображено несколько графиков, то необходима поясняющая легенда;\n",
    "- все линии на графиках должны быть чётко видны (нет похожих цветов или цветов, сливающихся с фоном);\n",
    "- если отображена величина, имеющая очевидный диапазон значений (например, проценты могут быть от 0 до 100), то желательно масштабировать ось на весь диапазон значений (исключением является случай, когда вам необходимо показать малое отличие, которое незаметно в таких масштабах);\n",
    "- сетка на графике помогает оценить значения в точках на глаз, это обычно полезно, поэтому лучше ее отрисовывать;\n",
    "- если распределение на гистограмме имеет тяжёлые хвосты, лучше использовать логарифмическую шкалу.\n",
    "\n",
    "Еще одна билиотека для визуализации: [seaborn](https://jakevdp.github.io/PythonDataScienceHandbook/04.14-visualization-with-seaborn.html) (обычно сокращается до sns). Это настройка над matplotlib, иногда удобнее и красивее делать визуализации через неё. \n",
    "\n",
    "**5 пунктов после которых ваши графики не будут прежними:**\n",
    "- для красивой картинки <code>%config InlineBackend.figure_format = 'retina'</code>\n",
    "- задаем размер (почти) всех графиков (можно выбрать другие значения) <code>plt.rcParams['figure.figsize'] = 8, 5</code>\n",
    "- размер шрифта подписей графиков <code>plt.rcParams['font.size'] = 12</code>\n",
    "- формат в котором сохраняется изображение <code>mpl.rcParams['savefig.format'] = 'pdf'</code>\n",
    "- sns – seaborn, добавляет решетку <code>sns.set_style('darkgrid')</code>\n",
    "\n",
    "Добавьте эти функции в ячейку ниже. Каждый график все равно придется настраивать отдельно, но указанные строчки позволят значительно упростить процесс.  "
   ]
  },
  {
   "cell_type": "code",
   "execution_count": 420,
   "metadata": {
    "id": "na9doUOFhLu1"
   },
   "outputs": [],
   "source": [
    "%matplotlib inline\n",
    "import matplotlib.pyplot as plt\n",
    "import seaborn as sns\n",
    "\n",
    "%config InlineBackend.figure_format = 'retina'\n",
    "plt.rcParams['figure.figsize'] = 8, 5\n",
    "plt.rcParams['font.size'] = 12\n",
    "plt.rcParams['savefig.format'] = 'pdf'\n",
    "sns.set_style('darkgrid')"
   ]
  },
  {
   "cell_type": "markdown",
   "metadata": {
    "id": "kikwLpxfhLu1"
   },
   "source": [
    "#### 8. [0.5 балла] Постройте график средних рейтингов по дням получения ответов (bar plot)."
   ]
  },
  {
   "cell_type": "code",
   "execution_count": 421,
   "metadata": {
    "id": "UTPLVeQvhLu2"
   },
   "outputs": [
    {
     "data": {
      "text/plain": [
       "Text(0, 0.5, 'Rating')"
      ]
     },
     "execution_count": 421,
     "metadata": {},
     "output_type": "execute_result"
    },
    {
     "data": {
      "image/png": "[encoded data removed]",
      "text/plain": [
       "<Figure size 800x500 with 1 Axes>"
      ]
     },
     "metadata": {
      "image/png": {
       "height": 529,
       "width": 712
      }
     },
     "output_type": "display_data"
    }
   ],
   "source": [
    "plt.figure()\n",
    "plt.title('Mean rating by application date')\n",
    "pds.groupby(pds['timestamp'].dt.date)['rating'].mean().plot.bar(rot=-45)\n",
    "plt.xlabel('Date')\n",
    "plt.ylabel('Rating')\n",
    "# plt.savefig('xxx.pdf', bbox_inches='tight')\n"
   ]
  },
  {
   "cell_type": "markdown",
   "metadata": {
    "id": "AmsQg9_xhLu2"
   },
   "source": [
    "Сохраните график в формате pdf (так он останется векторизованным)."
   ]
  },
  {
   "cell_type": "markdown",
   "metadata": {
    "id": "sCgWwjl0hLu2"
   },
   "source": [
    "### 2. Распределение студентов по курсам."
   ]
  },
  {
   "cell_type": "markdown",
   "metadata": {},
   "source": [
    "<span style='color:red'>!!!ВНИМАТЕЛЬНО ИЗУЧИТЕ ТЕКСТ НИЖЕ!!!</span>.\n",
    "\n",
    "<span style='color:orange'>Если во время выполнения заданий у вас вознинут вопросы -- еще раз перечитайте текст целиком, скорее всего ответы уже содержатся в нем.</span>"
   ]
  },
  {
   "cell_type": "markdown",
   "metadata": {
    "id": "VNqXUpr4hLu3"
   },
   "source": [
    "Теперь вам нужно распределить студентов по осенним курсам по выбору, учитывая их предпочтения."
   ]
  },
  {
   "cell_type": "markdown",
   "metadata": {
    "id": "5cAR2FgphLu3"
   },
   "source": [
    "Алгоритм распределения студентов по курсам:\n",
    "1. По умолчанию на каждой дисциплине по выбору у 3 и 4 курсов может учиться 1 группа (до 30 студентов). Исключения описаны ниже. На blended-дисциплинах для четверокурсников количество мест не ограничено.\n",
    "2. Проводится первая волна отбора. Для каждой дисциплины формируется список тех, кто указал её первым приоритетом (если студент должен выбрать два курса по выбору, то для него дисциплины, которые он указал первым и вторым приоритетом, рассматриваются как дисциплины первого приоритета). Если желающих больше, чем мест, то выбирается топ по перцентилю рейтинга.\n",
    "3. На дисциплинах, где остались места после первой волны, формируются списки тех, кто выбрал их вторым приоритетом и еще не прошел на необходимое количество курсов. Места заполняются лучшими по перцентилю рейтинга студентами. После этого проводится такая же процедура для дисциплин третьего приоритета.\n",
    "4. Если студент не попал на необходимое количество курсов по итогам трёх волн, с ним связывается учебный офис и решает вопрос в индивидуальном порядке."
   ]
  },
  {
   "cell_type": "markdown",
   "metadata": {
    "id": "BiNKVwS6hLu3"
   },
   "source": [
    "Обращаем ваше внимание на следующие детали:\n",
    "- Конкурс на каждый курс общий для 3-го и 4-го курса\n",
    "\n",
    "- По умолчанию студент выбирает **один осенний и один весенний** курс по выбору, а также **четверокурсники** выбирают один **blended-курс**. Студенты групп **17-го** года специализаций **МОП и ТИ** выбирают по **2 осенних и 2 весенних** курса по выбору, также студенты групп **18'** специализации **МИ** выбирают **2 осенних курса**. <i>Для студентов, которые выбирают 2 курса (например, осенних) первый приоритет — <code>fall_1</code> и <code>fall_2</code>, второй приоритет — <code>fall_3</code>. Такие студенты участвуют только в двух волнах отбора</i>.\n",
    "\n",
    "- Студенты специализации МОП не могут выбрать весенним курсом по выбору Машинное обучение 2. **Если студент специализации МОП выбрал Машинное обучение 2, то его приоритеты сдвигаются.** Из-за совпадений первого и второго курса по выбору двигать приоритеты не надо.\n",
    "\n",
    "- Blended-курсы не трогайте, по ним не надо распределять, на другие курсы они никак не влияют.\n",
    "\n",
    "- Заведомо известно, что в процессе распределения не возникнет ситуации, когда на одно место претендуют студенты с одинаковым перцентилем.\n",
    "\n",
    "- Постарайтесь воздержаться от использования циклов там, где это возможно. <i>Допустимо итерироваться по <b>курсам</b>, на которые проводится отбор, и по <b>волнам</b> отбора. Если вы придумаете, как обойтись и без этих циклов, то на усмотрение проверяющего могут быть добавлены бонусные баллы. <b>Дублирование кода не признается успешным избавлением от циклов</b></i>\n",
    "\n",
    "- На выходе ожидается файл res_fall.csv с результатами распределения на осенние курсы по выбору. Файл должен быть следующего формата:\n",
    "\n",
    "    * Три колонки: ID, course1, course2\n",
    "    \n",
    "    * Если студент не попал на курс, но должен был, то вместо названия курса в ячейке должна быть строка '???'\n",
    "    \n",
    "    * Если студент должен выбрать только один курс, то в колонке course2 для него должна стоять строка '-'\n",
    "    \n",
    "    * Если студент должен выбрать два курса по выбору, то порядок в колонках course1 и course2 не важен.\n",
    "    \n",
    "    * hint: для сохранения воспользуйтесь df.to_csv('solution.csv', index=None)\n",
    "    \n",
    "\n",
    "Для работы вам могут понадобиться следующие данные:\n",
    "\n",
    "- Результаты опроса (вы уже использовали этот файл в первой части задания, но на всякий случай ссылка: https://www.dropbox.com/s/f4rm8sjc3v99p0m/_end_seminar.xlsx?dl=0)\n",
    "\n",
    "- Соответствие номеров групп специализациям:\n",
    "\n",
    "    * 171, 172 - МОП; 173 - ТИ; 174 — АДИС; 175, 176 — РС; 177 — АПР\n",
    "    \n",
    "    * У студентов 18-го года номера групп соответствуют номерам до распределения по специализациям. Это означает, что по номеру группы 18* нельзя однозначно определить специализацию студента. При этом в рамках распределения важно знать информацию только о двух из них: МОП и МИ. Эти знание можно получить из колонок 'is_ml_student\n",
    "' и 'is_mi' соответственно.\n",
    "\n",
    "- Ограничения по количеству мест на курсах по выбору:\n",
    "\n",
    "    * Осенние: везде 30 мест, кроме Statistical Learning Theory (60 мест), Высокопроизводительных вычислений (60 мест), Анализа неструктурированных данных ($\\infty$ мест)\n",
    "\n",
    "    * Весенние: везде 30 мест, кроме Обучения с подкреплением (60 мест), Анализа данных в бизнесе (60 мест).\n",
    "\n",
    "\n",
    "Кстати, убедитесь, что в данных больше нет пропусков и повторных записей."
   ]
  },
  {
   "cell_type": "markdown",
   "metadata": {
    "id": "o5t55IcQhLu4"
   },
   "source": [
    "#### 0. Проверка\n",
    "\n",
    "Для начала давайте убедимся, что вы успешно выполнили задания первой части и проверим ваши данные на наличие пропусков и повторов:"
   ]
  },
  {
   "cell_type": "code",
   "execution_count": 422,
   "metadata": {
    "id": "34HWEdVdhLu4"
   },
   "outputs": [],
   "source": [
    "df = pds\n",
    "assert df.shape[0] == 347, 'В таблице остались повторы или потеряны данные'\n",
    "\n",
    "assert df.isna().sum().sum() == 0, 'В таблице остались пропуски'"
   ]
  },
  {
   "cell_type": "markdown",
   "metadata": {
    "id": "_ImUFyG3hLu4"
   },
   "source": [
    "Если вы не получили AssertionError, то можете продолжать."
   ]
  },
  {
   "cell_type": "markdown",
   "metadata": {
    "id": "LTGSwwvAhLu4"
   },
   "source": [
    "#### 1. [1 балл] Создайте новый признак, обозначающий, сколько осенних курсов должен выбрать студент\n",
    "\n",
    "В этом вам может помочь информация о специализации и группе стундента."
   ]
  },
  {
   "cell_type": "code",
   "execution_count": 423,
   "metadata": {
    "id": "ouxo0kHFhLu4"
   },
   "outputs": [
    {
     "data": {
      "text/html": [
       "<div>\n",
       "<style scoped>\n",
       "    .dataframe tbody tr th:only-of-type {\n",
       "        vertical-align: middle;\n",
       "    }\n",
       "\n",
       "    .dataframe tbody tr th {\n",
       "        vertical-align: top;\n",
       "    }\n",
       "\n",
       "    .dataframe thead th {\n",
       "        text-align: right;\n",
       "    }\n",
       "</style>\n",
       "<table border=\"1\" class=\"dataframe\">\n",
       "  <thead>\n",
       "    <tr style=\"text-align: right;\">\n",
       "      <th></th>\n",
       "      <th>id</th>\n",
       "      <th>17_group</th>\n",
       "      <th>is_mi</th>\n",
       "      <th>fall_cnt</th>\n",
       "      <th>spring_cnt</th>\n",
       "      <th>blended_cnt</th>\n",
       "    </tr>\n",
       "  </thead>\n",
       "  <tbody>\n",
       "    <tr>\n",
       "      <th>0</th>\n",
       "      <td>93ff79a51cd602f1dd3028ba2c129503</td>\n",
       "      <td>0.0</td>\n",
       "      <td>0.0</td>\n",
       "      <td>1</td>\n",
       "      <td>1</td>\n",
       "      <td>1</td>\n",
       "    </tr>\n",
       "    <tr>\n",
       "      <th>1</th>\n",
       "      <td>26b01b1c4cd5656bab18d24c548834fb</td>\n",
       "      <td>0.0</td>\n",
       "      <td>0.0</td>\n",
       "      <td>1</td>\n",
       "      <td>1</td>\n",
       "      <td>1</td>\n",
       "    </tr>\n",
       "    <tr>\n",
       "      <th>2</th>\n",
       "      <td>30f3653fc176d54e89ac3179c455c6dd</td>\n",
       "      <td>0.0</td>\n",
       "      <td>0.0</td>\n",
       "      <td>1</td>\n",
       "      <td>1</td>\n",
       "      <td>1</td>\n",
       "    </tr>\n",
       "    <tr>\n",
       "      <th>3</th>\n",
       "      <td>1528f0eaa027580820ccf0d92a53ad68</td>\n",
       "      <td>0.0</td>\n",
       "      <td>0.0</td>\n",
       "      <td>1</td>\n",
       "      <td>1</td>\n",
       "      <td>1</td>\n",
       "    </tr>\n",
       "    <tr>\n",
       "      <th>4</th>\n",
       "      <td>496ea4f0d4abe264b1bb1b80eb3830c5</td>\n",
       "      <td>0.0</td>\n",
       "      <td>0.0</td>\n",
       "      <td>1</td>\n",
       "      <td>1</td>\n",
       "      <td>1</td>\n",
       "    </tr>\n",
       "    <tr>\n",
       "      <th>...</th>\n",
       "      <td>...</td>\n",
       "      <td>...</td>\n",
       "      <td>...</td>\n",
       "      <td>...</td>\n",
       "      <td>...</td>\n",
       "      <td>...</td>\n",
       "    </tr>\n",
       "    <tr>\n",
       "      <th>356</th>\n",
       "      <td>c5870b37ee3f672e4259dfb2fc02ed8f</td>\n",
       "      <td>174.0</td>\n",
       "      <td>0.0</td>\n",
       "      <td>1</td>\n",
       "      <td>1</td>\n",
       "      <td>0</td>\n",
       "    </tr>\n",
       "    <tr>\n",
       "      <th>357</th>\n",
       "      <td>f44aea1095f9f5b8e2f5f0ed2b17891b</td>\n",
       "      <td>174.0</td>\n",
       "      <td>0.0</td>\n",
       "      <td>1</td>\n",
       "      <td>1</td>\n",
       "      <td>0</td>\n",
       "    </tr>\n",
       "    <tr>\n",
       "      <th>358</th>\n",
       "      <td>d7118b44c7e8fdbbaaca226d2da6fef1</td>\n",
       "      <td>173.0</td>\n",
       "      <td>0.0</td>\n",
       "      <td>2</td>\n",
       "      <td>2</td>\n",
       "      <td>0</td>\n",
       "    </tr>\n",
       "    <tr>\n",
       "      <th>359</th>\n",
       "      <td>79d14db48e4737af731960ae212d5134</td>\n",
       "      <td>172.0</td>\n",
       "      <td>0.0</td>\n",
       "      <td>2</td>\n",
       "      <td>2</td>\n",
       "      <td>0</td>\n",
       "    </tr>\n",
       "    <tr>\n",
       "      <th>360</th>\n",
       "      <td>f2d210ace25a841e1e58036b257d5d47</td>\n",
       "      <td>176.0</td>\n",
       "      <td>0.0</td>\n",
       "      <td>1</td>\n",
       "      <td>1</td>\n",
       "      <td>0</td>\n",
       "    </tr>\n",
       "  </tbody>\n",
       "</table>\n",
       "<p>347 rows × 6 columns</p>\n",
       "</div>"
      ],
      "text/plain": [
       "                                   id  17_group  is_mi  fall_cnt  spring_cnt  \\\n",
       "0    93ff79a51cd602f1dd3028ba2c129503       0.0    0.0         1           1   \n",
       "1    26b01b1c4cd5656bab18d24c548834fb       0.0    0.0         1           1   \n",
       "2    30f3653fc176d54e89ac3179c455c6dd       0.0    0.0         1           1   \n",
       "3    1528f0eaa027580820ccf0d92a53ad68       0.0    0.0         1           1   \n",
       "4    496ea4f0d4abe264b1bb1b80eb3830c5       0.0    0.0         1           1   \n",
       "..                                ...       ...    ...       ...         ...   \n",
       "356  c5870b37ee3f672e4259dfb2fc02ed8f     174.0    0.0         1           1   \n",
       "357  f44aea1095f9f5b8e2f5f0ed2b17891b     174.0    0.0         1           1   \n",
       "358  d7118b44c7e8fdbbaaca226d2da6fef1     173.0    0.0         2           2   \n",
       "359  79d14db48e4737af731960ae212d5134     172.0    0.0         2           2   \n",
       "360  f2d210ace25a841e1e58036b257d5d47     176.0    0.0         1           1   \n",
       "\n",
       "     blended_cnt  \n",
       "0              1  \n",
       "1              1  \n",
       "2              1  \n",
       "3              1  \n",
       "4              1  \n",
       "..           ...  \n",
       "356            0  \n",
       "357            0  \n",
       "358            0  \n",
       "359            0  \n",
       "360            0  \n",
       "\n",
       "[347 rows x 6 columns]"
      ]
     },
     "execution_count": 423,
     "metadata": {},
     "output_type": "execute_result"
    }
   ],
   "source": [
    "# year -> spec -> (fall, spring, blended)\n",
    "courses_num_rules = {\n",
    "    17: {\n",
    "        '__default__':  [1, 1, 0],\n",
    "        171: [2, 2, 0],  # МОП 171\n",
    "        172: [2, 2, 0],  # МОП 172\n",
    "        173: [2, 2, 0]},  # ТИ\n",
    "    18: {\n",
    "        '__default__':   [1, 1, 1],\n",
    "        'МИ': [2, 1, 1]}  # МИ\n",
    "}\n",
    "\n",
    "\n",
    "def get_year(row):\n",
    "    return 18 if row['18_group'] != 0 else 17\n",
    "\n",
    "\n",
    "def get_rules(row: pd.Series):\n",
    "    yy = get_year(row)\n",
    "    if yy == 17:\n",
    "        rules_17 = courses_num_rules[17]\n",
    "        return rules_17.get(row['17_group'], rules_17['__default__'])\n",
    "\n",
    "    if row['is_mi']:\n",
    "        return courses_num_rules[18]['МИ']\n",
    "\n",
    "    return courses_num_rules[18]['__default__']\n",
    "\n",
    "\n",
    "df[['fall_cnt', 'spring_cnt', 'blended_cnt']] = df.apply(\n",
    "    lambda row: pd.Series(get_rules(row)), axis=1)\n",
    "df[['id', '17_group', 'is_mi', 'fall_cnt', 'spring_cnt', 'blended_cnt']]\n",
    "# (￣^￣)ゞ\n"
   ]
  },
  {
   "cell_type": "markdown",
   "metadata": {
    "id": "S47aq1sQhLu4"
   },
   "source": [
    "Проверка:"
   ]
  },
  {
   "cell_type": "code",
   "execution_count": 424,
   "metadata": {
    "id": "OlOgzDKDhLu5"
   },
   "outputs": [],
   "source": [
    "col_name = 'fall_cnt'   # insert your new column name as str\n",
    "\n",
    "assert (df[df['id'] == '2662600c2c37e11e62f6ee0b88452f22'][col_name] == 2).all()\n",
    "assert (df[df['id'] == 'd555d2805e1d93d4f023e57dc4c8f403'][col_name] == 2).all()\n",
    "assert (df[df['id'] == '8fe79f84f36e3a5d2d6745621321302c'][col_name] == 1).all()\n",
    "assert (df[df['id'] == 'e4caca755ee0bdd711e18fb8084958b5'][col_name] == 1).all()\n"
   ]
  },
  {
   "cell_type": "markdown",
   "metadata": {
    "id": "VtQYhwuPhLu5"
   },
   "source": [
    "#### 2. [2 балла] Распределите студентов в соответствии с первым приоритетом"
   ]
  },
  {
   "cell_type": "code",
   "execution_count": 425,
   "metadata": {},
   "outputs": [],
   "source": [
    "fall_courses = pd.unique(\n",
    "    df[['fall_1', 'fall_2', 'fall_3']].values.ravel('K'))\n",
    "spring_courses = pd.unique(\n",
    "    df[['spring_1', 'spring_2', 'spring_3']].values.ravel('K'))\n"
   ]
  },
  {
   "cell_type": "code",
   "execution_count": 426,
   "metadata": {
    "id": "6gWfT3vqhLu5"
   },
   "outputs": [],
   "source": [
    "NO_LIMIT = 9223372036854775807\n",
    "DEFAULT_LIMIT = 30\n",
    "course_capacity_exclusive = {\n",
    "    'Statistical Learning Theory': 60,\n",
    "    'Анализ данных в бизнесе': 60,\n",
    "    'Анализ неструктурированных данных': NO_LIMIT,\n",
    "    'Высокопроизводительные вычисления': 60,\n",
    "    'Обучение с подкреплением': 60,\n",
    "}\n",
    "\n",
    "spring_df = pd.DataFrame(spring_courses, columns=['name'])\n",
    "spring_df['capacity'] = spring_df.apply(\n",
    "    lambda row:  course_capacity_exclusive.get(row['name'], DEFAULT_LIMIT), axis=1)\n",
    "spring_df['cnt'] = 0\n",
    "# spring_df\n",
    "\n",
    "fall_df = pd.DataFrame(fall_courses, columns=['name'])\n",
    "fall_df['capacity'] = fall_df.apply(\n",
    "    lambda row:  course_capacity_exclusive.get(row['name'], DEFAULT_LIMIT), axis=1)\n",
    "fall_df['cnt'] = 0\n",
    "# fall_df\n",
    "\n",
    "# (￣^￣)ゞ\n"
   ]
  },
  {
   "cell_type": "code",
   "execution_count": 427,
   "metadata": {},
   "outputs": [],
   "source": [
    "df[['fall_res_1', 'fall_res_2', 'spring_res_1', 'spring_res_2']] = '', '', '', ''\n",
    "df = df.copy().sort_values('percentile', ascending=True)\n",
    "df.loc[df['fall_cnt'] == 1, 'fall_res_2'] = '-'\n",
    "df.loc[df['spring_cnt'] == 1, 'spring_res_2'] = '-'\n",
    "\n",
    "def do_wave(row: pd.Series, wave: int, season: str):\n",
    "    subj_name = row['name']\n",
    "    limit = row['capacity'] - row['cnt']\n",
    "\n",
    "    is_subj_correct = ()\n",
    "    if wave == 1:\n",
    "        is_subj_correct = (\n",
    "            (df[season+'_1'] == subj_name) |\n",
    "            (df[season+'_cnt'] == 2) & (df[season+'_2'] == subj_name))\n",
    "    elif wave == 2:\n",
    "        is_subj_correct = (\n",
    "            (df[season+'_cnt'] == 2) & (df[season+'_3'] == subj_name) |\n",
    "            (df[season+'_cnt'] == 1) & (df[season+'_2'] == subj_name))\n",
    "    else:\n",
    "        is_subj_correct = (df[season+'_cnt'] ==\n",
    "                           1) & (df[season+'_3'] == subj_name)\n",
    "\n",
    "    in_not_assigned_yet = (\n",
    "        (df[season+'_res_1'] == '') | (df[season+'_res_2'] == ''))\n",
    "\n",
    "    is_not_duplicated = (df[season+'_res_1'] != subj_name)\n",
    "\n",
    "    cond = is_subj_correct & in_not_assigned_yet & is_not_duplicated\n",
    "\n",
    "    to_assign = df.loc[cond].iloc[:limit].index.values\n",
    "\n",
    "    c1 = df.loc[to_assign].loc[(df[season+'_res_1'] == '')].index.values\n",
    "    c2 = df.loc[to_assign].loc[(df[season+'_res_1'] != '')].index.values\n",
    "\n",
    "    df.loc[c1, season+'_res_1'] = subj_name\n",
    "    df.loc[c2, season+'_res_2'] = subj_name\n",
    "\n",
    "    if season == 'fall':\n",
    "        fall_df.loc[fall_df['name'] == subj_name,\n",
    "                    'cnt'] = row['cnt'] + len(to_assign)\n",
    "    else:\n",
    "        spring_df.loc[spring_df['name'] == subj_name,\n",
    "                      'cnt'] = row['cnt'] + len(to_assign)\n"
   ]
  },
  {
   "cell_type": "code",
   "execution_count": 428,
   "metadata": {},
   "outputs": [],
   "source": [
    "fall_df.apply(lambda row: do_wave(row, wave=1, season='fall'), axis=1);\n"
   ]
  },
  {
   "cell_type": "code",
   "execution_count": 429,
   "metadata": {},
   "outputs": [
    {
     "name": "stderr",
     "output_type": "stream",
     "text": [
      "/var/folders/_h/4p55q9fj743_nr3m0lm_0ndn_0krmp/T/ipykernel_10127/35146214.py:5: FutureWarning: Setting an item of incompatible dtype is deprecated and will raise in a future error of pandas. Value 'True' has dtype incompatible with float64, please explicitly cast to a compatible dtype first.\n",
      "  df.loc[first_students, 'is_first_place'] = True\n",
      "/var/folders/_h/4p55q9fj743_nr3m0lm_0ndn_0krmp/T/ipykernel_10127/35146214.py:7: FutureWarning: Setting an item of incompatible dtype is deprecated and will raise in a future error of pandas. Value 'True' has dtype incompatible with float64, please explicitly cast to a compatible dtype first.\n",
      "  df.loc[last_students, 'is_last_place'] = True\n"
     ]
    }
   ],
   "source": [
    "def find_first_and_last(row: pd.Series):\n",
    "  subj = row['name']\n",
    "  cond = ((df['fall_res_1'] == subj) | (df['fall_res_2'] == subj))\n",
    "  first_students = df.loc[cond].iloc[:1].index.values\n",
    "  df.loc[first_students, 'is_first_place'] = True\n",
    "  last_students = df.loc[cond].iloc[[-1]].index.values\n",
    "  df.loc[last_students, 'is_last_place'] = True\n",
    "\n",
    "\n",
    "df['is_first_place'] = np.NaN\n",
    "df['is_last_place'] = np.NaN\n",
    "fall_df.apply(lambda row: find_first_and_last(row), axis=1);\n"
   ]
  },
  {
   "cell_type": "markdown",
   "metadata": {
    "id": "vc5zXP5hhLu5"
   },
   "source": [
    "Здесь для проверки приведена таблица, в которой есть 2 дополнительные колонки:\n",
    "    \n",
    "    1) is_first_place - является ли студент лучшим по перцентили хотя бы на одном из курсов, куда он был зачислен \n",
    "    (True / NaN)\n",
    "    \n",
    "    2) is_last_place  - является ли студент худшим по перцентили хотя бы на одном из курсов, куда он был зачислен (True / NaN)"
   ]
  },
  {
   "cell_type": "code",
   "execution_count": 430,
   "metadata": {
    "id": "uZTkGEq5hLu5"
   },
   "outputs": [],
   "source": [
    "!wget  -O '2_task_check.csv' -q 'https://www.dropbox.com/s/v8o2zzq3iz5gc9w/_2_task_check.csv?dl=0'\n",
    "check_df = pd.read_csv('2_task_check.csv')"
   ]
  },
  {
   "cell_type": "markdown",
   "metadata": {
    "id": "E_fbyB9qhLu5"
   },
   "source": [
    "После распределения студентов в соответствии с первым приоритетом добавьте в свой датафрейм аналогичные признаки и запустите проверку:"
   ]
  },
  {
   "cell_type": "code",
   "execution_count": 431,
   "metadata": {
    "id": "GOAzQeYehLu6"
   },
   "outputs": [],
   "source": [
    "fir_col_name = 'is_first_place'      # insert name of your new column with is_first_place as str\n",
    "last_col_name =  'is_last_place'    # insert name of your new column with is_last_place as str\n",
    "\n",
    "assert((df[df[fir_col_name].isna() == False][['id']].sort_values('id').reset_index(drop=True)\n",
    "        ==\n",
    "        check_df[check_df['is_first_place'].isna() == False][['id']].sort_values('id').reset_index(drop=True)\n",
    "       ).id.values).all()\n",
    "\n",
    "\n",
    "assert((df[df[last_col_name].isna() == False][['id']].sort_values('id').reset_index(drop=True)\n",
    "       == \n",
    "       check_df[check_df['is_last_place'].isna() == False][['id']].sort_values('id').reset_index(drop=True)\n",
    "      ).id.values).all()"
   ]
  },
  {
   "cell_type": "markdown",
   "metadata": {
    "id": "RO6DwNNFhLu6"
   },
   "source": [
    "#### 3. [3 балла] Проведите все три волны отбора студентов на курсы по выбору"
   ]
  },
  {
   "cell_type": "code",
   "execution_count": 432,
   "metadata": {
    "id": "jn2OOrLjhLu6"
   },
   "outputs": [],
   "source": [
    "\n",
    "fall_df.apply(lambda row: do_wave(row, wave=2, season='fall'), axis=1)\n",
    "fall_df.apply(lambda row: do_wave(row, wave=3, season='fall'), axis=1)\n",
    "\n",
    "df.loc[df['fall_res_1'] == '', 'fall_res_1'] = '???'\n",
    "df.loc[df['fall_res_2'] == '', 'fall_res_2'] = '???'\n",
    "\n",
    "fall_res = df[['id', 'fall_res_1', 'fall_res_2']].rename(\n",
    "    columns={'id': 'ID', 'fall_res_1': 'course1', 'fall_res_2': 'course2'}).copy()\n",
    "\n",
    "fall_res.to_csv('res_fall.csv', index=None)\n",
    "# (￣^￣)ゞ\n"
   ]
  },
  {
   "cell_type": "markdown",
   "metadata": {
    "id": "1xQjV9BuhLu6"
   },
   "source": [
    "**Отправьте свой файл res_fall.csv в контест (https://contest.yandex.ru/contest/52663/problems/A/) и прикрепите/укажите ниже ваш никнейм и ссылку на успешную посылку.**"
   ]
  },
  {
   "cell_type": "markdown",
   "metadata": {
    "id": "QRTbPrgbhLu6"
   },
   "source": [
    "*Дисклеймер:*\n",
    "\n",
    "Успешная посылка в контесте является **обязательным** условием получения полного балла за этот (и следующий) пункт. Если добиться успешной посылки не удастся, баллы будут выставляться на усмотрение проверяюшего. \n",
    "\n",
    "При этом ОК в контесте не гарантирует полный балл. Оценка всё равно может быть снижена в случае обнаружения неэффективностей или ошибок в коде. Если вы сдадите в AnyTask очевидно неработающий код или ноутбук без кода, но при этом в контест будет сдан корректный файл, то это будет расцениваться как плагиат."
   ]
  },
  {
   "cell_type": "markdown",
   "metadata": {
    "id": "1IkQa_gdhLu6"
   },
   "source": [
    "На всякий случай просим вас сдать вместе с ноутбуком файл res_fall.csv в anytask"
   ]
  },
  {
   "cell_type": "markdown",
   "metadata": {
    "id": "k8d711qGhLu7"
   },
   "source": [
    "**Дополнительное задание. [2 бонусных балла] Распределите таким же образом студентов еще и на весенние курсы по выбору.**\n",
    "\n",
    "Если ваш код был хорошо структурирован, то это не составит проблем. \n",
    "\n",
    "Если вы выполнили это задание, сдайте среди прочего файл res_spring.csv в таком же формате, как и res_fall.csv."
   ]
  },
  {
   "cell_type": "code",
   "execution_count": 433,
   "metadata": {},
   "outputs": [],
   "source": [
    "spring_df['cnt'] = 0\n",
    "\n",
    "# prepare mop students\n",
    "is_mop = ((df['17_group'] == 171) |\n",
    "          (df['17_group'] == 172) |\n",
    "          (df['is_ml_student'] == 1))\n",
    "\n",
    "ML_2 = 'Машинное обучение 2'\n",
    "df.loc[is_mop & (df['spring_3'] == ML_2), 'spring_3'] = ''\n",
    "\n",
    "idx = df.loc[is_mop & (df['spring_2'] == ML_2)].index.values\n",
    "df.loc[idx, 'spring_2'] = df.loc[idx, 'spring_3']\n",
    "\n",
    "idx = df.loc[is_mop & (df['spring_1'] == ML_2)].index.values\n",
    "df.loc[idx, 'spring_1'] = df.loc[idx, 'spring_2']\n",
    "df.loc[idx, 'spring_2'] = df.loc[idx, 'spring_3']\n"
   ]
  },
  {
   "cell_type": "code",
   "execution_count": 434,
   "metadata": {
    "id": "hwmusOGThLu7"
   },
   "outputs": [],
   "source": [
    "spring_df.apply(lambda row: do_wave(row, wave=1, season='spring'), axis=1)\n",
    "spring_df.apply(lambda row: do_wave(row, wave=2, season='spring'), axis=1)\n",
    "spring_df.apply(lambda row: do_wave(row, wave=3, season='spring'), axis=1)\n",
    "\n",
    "df.loc[df['spring_res_1'] == '', 'spring_res_1'] = '???'\n",
    "df.loc[df['spring_res_2'] == '', 'spring_res_2'] = '???'\n",
    "\n",
    "spring_res = df[['id', 'spring_res_1', 'spring_res_2']].rename(\n",
    "    columns={'id': 'ID', 'spring_res_1': 'course1', 'spring_res_2': 'course2'}).copy()\n",
    "\n",
    "spring_res.to_csv('res_spring.csv', index=None)\n",
    "# (￣^'￣)ゞ\n"
   ]
  },
  {
   "cell_type": "markdown",
   "metadata": {
    "id": "It7QQZLYhLu7"
   },
   "source": [
    "**Отправьте свой файл res_spring.csv в контест (https://contest.yandex.ru/contest/52663/problems/A) и прикрепите/укажите ниже ваш никнейм и ссылку на успешную посылку.**"
   ]
  },
  {
   "cell_type": "markdown",
   "metadata": {},
   "source": [
    "---\n",
    "\n",
    "#### Результаты контеста и предполагаемая оценка\n",
    "\n",
    "Login - <span style=\"color:red\">s</span>anor00\n",
    "\n",
    "Link fall - https://contest.yandex.ru/contest/52663/run-report/91811675/\n",
    "\n",
    "Link spring - https://contest.yandex.ru/contest/52663/run-report/91818847/\n",
    "\n",
    "**Оценка: 10+2**\n",
    "\n",
    "---"
   ]
  },
  {
   "cell_type": "markdown",
   "metadata": {
    "id": "1YcouVTihLu7"
   },
   "source": [
    "На всякий случай просим вас сдать вместе с ноутбуком файл res_spring.csv в anytask"
   ]
  },
  {
   "cell_type": "markdown",
   "metadata": {
    "id": "uY_OY6inhLu7"
   },
   "source": [
    "Вставьте картинку, описывающую ваш опыт выполнения этого задания:"
   ]
  },
  {
   "cell_type": "markdown",
   "metadata": {},
   "source": [
    "![](https://memepedia.ru/wp-content/uploads/2016/03/ded-ulybaetsya-foto.jpg)\n"
   ]
  }
 ],
 "metadata": {
  "colab": {
   "name": "homework-practice-01-pandas.ipynb",
   "provenance": []
  },
  "kernelspec": {
   "display_name": "Python 3 (ipykernel)",
   "language": "python",
   "name": "python3"
  },
  "language_info": {
   "codemirror_mode": {
    "name": "ipython",
    "version": 3
   },
   "file_extension": ".py",
   "mimetype": "text/x-python",
   "name": "python",
   "nbconvert_exporter": "python",
   "pygments_lexer": "ipython3",
   "version": "3.7.9"
  },
  "varInspector": {
   "cols": {
    "lenName": 16,
    "lenType": 16,
    "lenVar": 40
   },
   "kernels_config": {
    "python": {
     "delete_cmd_postfix": "",
     "delete_cmd_prefix": "del ",
     "library": "var_list.py",
     "varRefreshCmd": "print(var_dic_list())"
    },
    "r": {
     "delete_cmd_postfix": ") ",
     "delete_cmd_prefix": "rm(",
     "library": "var_list.r",
     "varRefreshCmd": "cat(var_dic_list()) "
    }
   },
   "types_to_exclude": [
    "module",
    "function",
    "builtin_function_or_method",
    "instance",
    "_Feature"
   ],
   "window_display": false
  },
  "vscode": {
   "interpreter": {
    "hash": "e7370f93d1d0cde622a1f8e1c04877d8463912d04d973331ad4851f04de6915a"
   }
  }
 },
 "nbformat": 4,
 "nbformat_minor": 1
}
